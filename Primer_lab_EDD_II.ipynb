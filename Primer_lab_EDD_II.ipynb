{
  "nbformat": 4,
  "nbformat_minor": 0,
  "metadata": {
    "colab": {
      "provenance": [],
      "include_colab_link": true
    },
    "kernelspec": {
      "name": "python3",
      "display_name": "Python 3"
    },
    "language_info": {
      "name": "python"
    }
  },
  "cells": [
    {
      "cell_type": "markdown",
      "metadata": {
        "id": "view-in-github",
        "colab_type": "text"
      },
      "source": [
        "<a href=\"https://colab.research.google.com/github/UnDauphin/Proyecto/blob/main/Primer_lab_EDD_II.ipynb\" target=\"_parent\"><img src=\"https://colab.research.google.com/assets/colab-badge.svg\" alt=\"Open In Colab\"/></a>"
      ]
    },
    {
      "cell_type": "code",
      "source": [
        "from typing import Any, Optional, Tuple\n",
        "!apt-get install graphviz\n",
        "!pip install graphviz\n",
        "import graphviz\n",
        "from collections import deque"
      ],
      "metadata": {
        "id": "zn5tjdxNx5EE",
        "colab": {
          "base_uri": "https://localhost:8080/"
        },
        "outputId": "abc73a43-5660-460d-8e42-aac896c078da"
      },
      "execution_count": 9,
      "outputs": [
        {
          "output_type": "stream",
          "name": "stdout",
          "text": [
            "Reading package lists... Done\n",
            "Building dependency tree... Done\n",
            "Reading state information... Done\n",
            "graphviz is already the newest version (2.42.2-6ubuntu0.1).\n",
            "0 upgraded, 0 newly installed, 0 to remove and 49 not upgraded.\n",
            "Requirement already satisfied: graphviz in /usr/local/lib/python3.10/dist-packages (0.20.3)\n"
          ]
        }
      ]
    },
    {
      "cell_type": "code",
      "execution_count": 33,
      "metadata": {
        "id": "27fVyi33x4JY"
      },
      "outputs": [],
      "source": [
        "\n",
        "class Node:\n",
        "\n",
        "    def __init__(self, name: str, year, Wear, Dear, Fear, DPear, FPear) -> None:\n",
        "        self.name = name\n",
        "        self.left: Optional[\"Node\"] = None\n",
        "        self.right: Optional[\"Node\"] = None\n",
        "        self.year = year\n",
        "        self.Wear = Wear\n",
        "        self.Dear = Dear\n",
        "        self.Fear = Fear\n",
        "        self.DPear = DPear\n",
        "        self.FPear = FPear\n",
        "        self.balance = 0\n",
        "        self.level = 0\n",
        "\n",
        "class BinaryTree:\n",
        "\n",
        "    def __init__(self, root: Optional[\"Node\"] = None) -> None:\n",
        "        self.root = root\n",
        "\n",
        "    #Algoritmo de altura\n",
        "    def height(self, node: Optional[\"Node\"]) -> int:\n",
        "      if node is None:\n",
        "        return 0\n",
        "      else:\n",
        "        return 1 + max(self.height(node.left), self.height(node.right))\n",
        "\n",
        "    #Algoritmo de calculacion de balance\n",
        "    def balance(self, node: Optional[\"Node\"]) -> None:\n",
        "      if node is not None:\n",
        "        node.balance = self.height(node.right) - self.height(node.left)\n",
        "      return\n",
        "\n",
        "    #Algoritmo de busqueda. Busca la existencia de un elemento y regresa su padre.\n",
        "    def search(self, elem: str) -> Tuple[Optional[\"Node\"], Optional[\"Node\"]]:\n",
        "        p, pad = self.root, None\n",
        "        while p is not None:\n",
        "            if elem == p.name:\n",
        "                return p, pad\n",
        "            else:\n",
        "                pad = p\n",
        "                if elem < p.name:\n",
        "                    p = p.left\n",
        "                else:\n",
        "                    p = p.right\n",
        "        return p, pad\n",
        "\n",
        "    #Algoritmo que regresa el padre de un nodo\n",
        "    def parent(self, elem: str) -> Optional[\"Node\"]:\n",
        "        p, pad = self.search(elem)\n",
        "        return pad\n",
        "\n",
        "    #Algoritmo que regresa al abuelo de un nodo\n",
        "    def grandparent(self, elem: str) -> Tuple[Optional[\"Node\"], Optional[\"Node\"]]:\n",
        "        p = self.parent(elem)\n",
        "        if p is None:\n",
        "            return None\n",
        "        else:\n",
        "            return self.parent(p.name), p\n",
        "\n",
        "    #Algoritmo que regresa el tio de un nodo\n",
        "    def uncle(self, elem: str) -> Optional[\"Node\"]:\n",
        "        g, p = self.grandparent(elem)\n",
        "        if g is None:\n",
        "            return None\n",
        "        if g.left == p:\n",
        "            return g.right\n",
        "        else:\n",
        "            return g.left\n",
        "\n",
        "\n",
        "    #Los algoritmos de los 4 tipos de rotacion\n",
        "    def simp_lr(self, node: Optional[\"Node\"]) -> Optional[\"Node\"]:\n",
        "      aux = node.right\n",
        "      node.right = aux.left\n",
        "      aux.left = node\n",
        "      return aux\n",
        "    def simp_rr(self, node: Optional[\"Node\"]) -> Optional[\"Node\"]:\n",
        "      aux = node.left\n",
        "      node.left = aux.right\n",
        "      aux.right = node\n",
        "      return aux\n",
        "    def doub_rlr(self, node: Optional[\"Node\"]) -> Optional[\"Node\"]:\n",
        "      node.right = self.simp_rr(node.right)\n",
        "      return self.simp_lr(node)\n",
        "    def doub_lrl(self, node: Optional[\"Node\"]) -> Optional[\"Node\"]:\n",
        "      node.left = self.simp_lr(node.left)\n",
        "      return self.simp_rr(node)\n",
        "\n",
        "    #Algoritmo de balanceo\n",
        "    def balanceo(self, node: Optional[\"Node\"]) -> None:\n",
        "      if node is None:\n",
        "        return\n",
        "      self.balance(node) #Recalcula el balance del nodo\n",
        "      m = self.parent(node.name)\n",
        "      if node.balance == -2: #Verifica si hay desbalance y que caso de rotacion hay que hacer\n",
        "        if node.left.balance == 1:\n",
        "          p = self.doub_lrl(node)\n",
        "        else:\n",
        "          p = self.simp_rr(node)\n",
        "        if m is None:\n",
        "          self.root = p\n",
        "        else:\n",
        "          if m.left == node:\n",
        "            m.left = p\n",
        "          else:\n",
        "            m.right = p\n",
        "      elif node.balance == 2:\n",
        "        if node.right.balance == -1:\n",
        "          p = self.doub_rlr(node)\n",
        "        else:\n",
        "          p = self.simp_lr(node)\n",
        "        if m is None:\n",
        "          self.root = p\n",
        "        else:\n",
        "          if m.left == node:\n",
        "            m.left = p\n",
        "          else:\n",
        "            m.right = p\n",
        "      self.balanceo(m) #Continua recalculando el balance de los ascendentes hasta llegar a la raiz\n",
        "      return\n",
        "\n",
        "    #Insercion de nodo\n",
        "    def add_node(self, name: str, year, Wear, Dear, Fear, DPear, FPear):\n",
        "        to_insert = Node(name, year, Wear, Dear, Fear, DPear, FPear)\n",
        "        if self.root is None:\n",
        "            self.root = to_insert\n",
        "        else:\n",
        "            p, pad = self.search(name)\n",
        "            if p is not None:\n",
        "              return False\n",
        "            else:\n",
        "              to_insert.level = pad.level + 1\n",
        "              if pad.name > name: #El nombre funciona como metrica\n",
        "                pad.left = to_insert\n",
        "              else:\n",
        "                pad.right = to_insert\n",
        "              self.balanceo(pad) #Se balancean inmediatamente los ascendentes del nuevo nodo\n",
        "              return True\n",
        "\n",
        "    #Eliminacion de nodo\n",
        "    def delete_node(self, name):\n",
        "        p, pad = self.search(name)\n",
        "        if p is not None:\n",
        "          son_c = 0 #son_c cuenta cuantos hijos tiene el nodo a eliminar\n",
        "          son_m = None #son_m sera la memoria del hijo visitado, util para caso con 1 solo hijo\n",
        "          if p.left is not None:\n",
        "            son_c += 1\n",
        "            son_m = p.left\n",
        "          if p.right is not None:\n",
        "            son_c += 1\n",
        "            son_m = p.right\n",
        "          if son_c == 0: #Caso donde el nodo no tiene hijos\n",
        "            if self.root == p:\n",
        "              self.root = None\n",
        "            else:\n",
        "              if pad.left == p:\n",
        "                pad.left = None\n",
        "              else:\n",
        "                pad.right = None\n",
        "            del p\n",
        "          elif son_c == 1: #Caso donde el nodo tiene un solo hijo. son_m recuerda quien es ese hijo\n",
        "            if self.root == p:\n",
        "              self.root = son_m\n",
        "            else:\n",
        "              if pad.left == p:\n",
        "                pad.left = son_m\n",
        "              else:\n",
        "                pad.right = son_m\n",
        "            del p\n",
        "          else: #Caso que nodo tenga ambos hijos, lo hacemos por sucesor\n",
        "            aux, pad_aux = p.right, p\n",
        "            while aux.left is not None:\n",
        "              aux, pad_aux = aux.left, aux\n",
        "            p.name = aux.name #Reubicamos la informacion del nodo\n",
        "            p.year = aux.year\n",
        "            p.Wear = aux.Wear\n",
        "            p.Dear = aux.Dear\n",
        "            p.Fear = aux.Fear\n",
        "            p.DPear = aux.DPear\n",
        "            p.FPear = aux.FPear\n",
        "            aux.left = p.left\n",
        "            if pad_aux == p:\n",
        "              pad_aux.right = aux.right\n",
        "            else:\n",
        "              pad_aux.left = aux.right\n",
        "            del aux\n",
        "            pad = pad_aux #Se le asigna el padre del nodo eliminado a pad para facilitar el balance a continuacion\n",
        "          self.balanceo(pad) #Se balancea inmediatamente los ascendentes del nodo eliminado\n",
        "          return True\n",
        "        return False\n",
        "\n",
        "    #Busqueda especifica\n",
        "    def esp_search(self, y, f):\n",
        "      s = []\n",
        "      met = []\n",
        "      p = self.root\n",
        "      #Hacemos una busqueda por inorden iterativo\n",
        "      while p is not None or len(s) > 0:\n",
        "          if p is not None: #Para cada elemento se revisa si cumple con las condiciones\n",
        "              if y == p.year and p.Fear > f and p.FPear > p.DPear:\n",
        "                met.append(p)\n",
        "              s.append(p)\n",
        "              p = p.left\n",
        "          else:\n",
        "              p = s.pop()\n",
        "              p = p.right\n",
        "      return met\n",
        "\n",
        "    # Método para leer el árbol por niveles (BFS)\n",
        "    def leer_por_niveles(self):\n",
        "        if self.root is None:\n",
        "            return []\n",
        "\n",
        "        niveles = []\n",
        "        cola = deque([self.root])  # Cola para realizar el recorrido BFS\n",
        "\n",
        "        while cola:\n",
        "            nivel_actual = []\n",
        "            tamaño_nivel = len(cola)  # Número de nodos en el nivel actual\n",
        "\n",
        "            for _ in range(tamaño_nivel):\n",
        "                nodo = cola.popleft()  # Sacar el nodo de la cola\n",
        "                nivel_actual.append(nodo.name)  # Agregar el valor del nodo al nivel actual\n",
        "\n",
        "                if nodo.left:\n",
        "                    cola.append(nodo.left)  # Agregar el hijo izquierdo a la cola\n",
        "                if nodo.right:\n",
        "                    cola.append(nodo.right)  # Agregar el hijo derecho a la cola\n",
        "\n",
        "            niveles.append(nivel_actual)  # Agregar el nivel actual a la lista de niveles\n",
        "\n",
        "        return niveles\n",
        "\n",
        "    # Método para visualizar el árbol en un gráfico\n",
        "    def display_tree(self) -> None:\n",
        "      dot = self.visualize()\n",
        "      display(dot)  # Muestra el gráfico en Colab\n",
        "      return\n",
        "\n",
        "    # Método para visualizar el árbol usando Graphviz\n",
        "    def visualize(self):\n",
        "        dot = graphviz.Digraph(comment='Árbol AVL')\n",
        "        dot.attr('node', shape='ellipse')\n",
        "        self._add_edges(self.root, dot)\n",
        "        dot.render('avl', format='png', cleanup=False)  # Guarda el gráfico como archivo PNG\n",
        "        return dot\n",
        "\n",
        "    # Método recursivo para agregar bordes en la visualización\n",
        "    def _add_edges(self, node, dot):\n",
        "        if node is not None:\n",
        "            if node.left:\n",
        "                dot.edge(node.name, node.left.name)\n",
        "                self._add_edges(node.left, dot)\n",
        "            else:\n",
        "                # Agregar un nodo vacío en el lado izquierdo\n",
        "                dot.node(f'{node.name}_L', label='', shape='point', width='0', height='0')\n",
        "                dot.edge(node.name, f'{node.name}_L')\n",
        "\n",
        "            if node.right:\n",
        "                dot.edge(node.name, node.right.name)\n",
        "                self._add_edges(node.right, dot)\n",
        "            else:\n",
        "                # Agregar un nodo vacío en el lado derecho\n",
        "                dot.node(f'{node.name}_R', label='', shape='point', width='0', height='0')\n",
        "                dot.edge(node.name, f'{node.name}_R')\n",
        "        return\n",
        "    #Funcion que meti para hacerme la vida facil\n",
        "    def movie(self, title):\n",
        "      movie_row = df[df['Title'].str.lower() == title.lower()]\n",
        "\n",
        "      if not movie_row.empty:\n",
        "        row = movie_row.iloc[0]\n",
        "        year = int(row['Year'])\n",
        "        worldwide_earnings = int(row['Worldwide Earnings'])\n",
        "        domestic_earnings = int(row['Domestic Earnings'])\n",
        "        foreign_earnings = int(row['Foreign Earnings'])\n",
        "        domestic_percent_earnings = float(row['Domestic Percent Earnings'])\n",
        "        foreign_percent_earnings = float(row['Foreign Percent Earnings'])\n",
        "\n",
        "        if self.add_node(title, year, worldwide_earnings, domestic_earnings, foreign_earnings, domestic_percent_earnings, foreign_percent_earnings):\n",
        "            print(f\"Se añadió la película: {title}\")\n",
        "        else:\n",
        "            print(f\"La película {title} ya existe en el árbol.\")\n",
        "\n",
        "        self.display_tree()\n"
      ]
    },
    {
      "cell_type": "code",
      "source": [
        "def opMenu(met, pel: Optional[\"Node\"]) -> None:\n",
        "  if len(met) == 0 and pel == None:\n",
        "    print(\"No hay nodos para operar\")\n",
        "    return\n",
        "  print(\"Nodos disponibles para operar: \")\n",
        "  con = 1\n",
        "  if len(met) != 0:\n",
        "    for i in met:\n",
        "      print(f\"{con}. {i.name}\")\n",
        "      con += 1\n",
        "  if pel != None:\n",
        "    print(f\"{con}. {pel.name}\")\n",
        "    con += 1\n",
        "  elec = int(input(\"Digite el numero de la pelicula a operar: \"))\n",
        "  while elec not in range(1, con):\n",
        "    elec = int(input(\"Digite un numero valido\"))\n",
        "  if pel == None or elec < con - 1:\n",
        "    pel = met[elec - 1]\n",
        "  print(\"1. Hallar el nivel del nodo\")\n",
        "  print(\"2. Obtener el factor de balanceo del nodo\")\n",
        "  print(\"3. Hallar el padre del nodo\")\n",
        "  print(\"4. Hallar el abuelo del nodo\")\n",
        "  print(\"5. Hallar el tio del nodo\")\n",
        "  print(\"6. Salir\")\n",
        "  op = int(input(\"Digite la operacion a realizar: \"))\n",
        "  while op not in range(1,7):\n",
        "    op = int(input(\"Digite una operacion valida: \"))\n",
        "  if op == 1:\n",
        "    print(pel.level)\n",
        "  elif op == 2:\n",
        "    print(pel.balance)\n",
        "  elif op == 3:\n",
        "    m = P.parent(pel.name)\n",
        "    if m == None:\n",
        "      print(\"No tiene padre\")\n",
        "    else:\n",
        "      print(m.name)\n",
        "  elif op == 4:\n",
        "    m, p = P.grandparent(pel.name)\n",
        "    if m == None:\n",
        "      print(\"No tiene abuelo\")\n",
        "    else:\n",
        "      print(m.name)\n",
        "  elif op == 5:\n",
        "    m = P.uncle(pel.name)\n",
        "    if m == None:\n",
        "      print(\"No tiene tio\")\n",
        "    else:\n",
        "      print(m.name)\n",
        "  return\n",
        "\n",
        "\n",
        "def comandos() -> None:\n",
        "  print(\"Digite 1 para agregar una pelicula\")\n",
        "  print(\"Digite 2 para eliminar una pelicula\")\n",
        "  print(\"Digite 3 para buscar una pelicula\")\n",
        "  print(\"Digite 4 buscar una pelicula bajo los parametros\")\n",
        "  print(\"Digite 5 para hacer un recorrido por niveles\")\n",
        "  print(\"Digite 6 para abrir el menu de operaciones\")\n",
        "  print(\"Digite 8 para salir - \")\n",
        "\n",
        "P = BinaryTree()\n",
        "comandos()\n",
        "m = int(input(\"Digite 7 para leer los comandos disponibles: \"))\n",
        "met = []\n",
        "pel = None\n",
        "while True: #Diseñamos un menu para exponer las distintas funciones\n",
        "  while m not in range(1,9):\n",
        "    m = int(input(\"Digite un numero valido: \"))\n",
        "  if m == 1:\n",
        "    title = input(\"Ingrese el título de la película que desea agregar: \")\n",
        "\n",
        "    movie_row = df[df['Title'].str.lower() == title.lower()]\n",
        "\n",
        "    if not movie_row.empty:\n",
        "        row = movie_row.iloc[0]\n",
        "        title = str(row[\"Title\"])\n",
        "        year = int(row['Year'])\n",
        "        worldwide_earnings = int(row['Worldwide Earnings'])\n",
        "        domestic_earnings = int(row['Domestic Earnings'])\n",
        "        foreign_earnings = int(row['Foreign Earnings'])\n",
        "        domestic_percent_earnings = float(row['Domestic Percent Earnings'])\n",
        "        foreign_percent_earnings = float(row['Foreign Percent Earnings'])\n",
        "\n",
        "        if P.add_node(title, year, worldwide_earnings, domestic_earnings, foreign_earnings, domestic_percent_earnings, foreign_percent_earnings):\n",
        "            print(f\"Se añadió la película: {title}\")\n",
        "        else:\n",
        "            print(f\"La película {title} ya existe en el árbol.\")\n",
        "\n",
        "        P.display_tree()\n",
        "    else:\n",
        "        print(f\"No se encontró la película con el título '{title}' en la base de datos.\")\n",
        "\n",
        "  elif m == 2:\n",
        "    name = input(\"Digite el nombre de la pelicula a eliminar - \")\n",
        "    if P.delete_node(name):\n",
        "      P.display_tree()\n",
        "      print(\"Se elimino la pelicula\")\n",
        "\n",
        "    else:\n",
        "      print(\"No se encontro la pelicula\")\n",
        "  elif m == 3:\n",
        "    name = input(\"Digite el nombre de la pelicula a buscar - \")\n",
        "    pel = P.search(name)\n",
        "    if pel[0] != None:\n",
        "      pel = pel[0]\n",
        "      print(\"Se encontro la pelicula\")\n",
        "    else:\n",
        "      print(\"No se encontro la pelicula\")\n",
        "  elif m == 4:\n",
        "    print(\"Se va a buscar peliculas sobre un año especificado, cuyo porcentaje de ganancias a nivel nacional sea menor que a nivel internacional, y cuyas ganancias internacionales sean mayores a un numeros especificado\")\n",
        "    y = int(input(\"Digite el año: \"))\n",
        "    f = int(input(\"Digite la cota inferior de ganancias a nivel internacional: \"))\n",
        "    met = P.esp_search(y, f)\n",
        "    if len(met) == 0:\n",
        "      print(\"No se encontraron peliculas\")\n",
        "    else:\n",
        "      print(\"Se encontraron las siguientes peliculas:\")\n",
        "      for i in met:\n",
        "        print(i.name)\n",
        "  elif m == 5:\n",
        "    niveles = P.leer_por_niveles()\n",
        "    for i in niveles:\n",
        "      print(i)\n",
        "  elif m == 6:\n",
        "    opMenu(met, pel)\n",
        "  elif m == 7:\n",
        "    comandos()\n",
        "  elif m == 8:\n",
        "    break\n",
        "  m = int(input(\"Digite 7 para leer los comandos disponibles: \"))\n"
      ],
      "metadata": {
        "id": "cEoBjVmvzq6o",
        "colab": {
          "base_uri": "https://localhost:8080/"
        },
        "outputId": "e76ea18c-98b8-4ce5-cbc4-5a33fca61b20"
      },
      "execution_count": 32,
      "outputs": [
        {
          "name": "stdout",
          "output_type": "stream",
          "text": [
            "Digite 1 para agregar una pelicula\n",
            "Digite 2 para eliminar una pelicula\n",
            "Digite 3 para buscar una pelicula\n",
            "Digite 4 buscar una pelicula bajo los parametros\n",
            "Digite 5 para hacer un recorrido por niveles\n",
            "Digite 6 para abrir el menu de operaciones\n",
            "Digite 8 para salir - \n",
            "Digite 7 para leer los comandos disponibles: 8\n"
          ]
        }
      ]
    },
    {
      "cell_type": "code",
      "source": [
        "T = BinaryTree()\n",
        "T.movie(\"dinosaur\")\n",
        "T.movie(\"cast away\")\n",
        "T.movie(\"what women want\")\n",
        "T.movie(\"the perfect score\")\n",
        "T.movie(\"loser\")\n",
        "T.movie(\"bait\")\n",
        "T.movie(\"the pianist\")\n",
        "T.movie(\"high crimes\")\n",
        "T.movie(\"pinocchio\")\n",
        "T.movie(\"van wilder\")\n",
        "met = T.esp_search(2000, 10)\n",
        "if len(met) == 0:\n",
        "    print(\"No se encontraron peliculas\")\n",
        "else:\n",
        "    print(\"Se encontraron las siguientes peliculas:\")\n",
        "    for i in met:\n",
        "      print(i.name)\n",
        "niveles = T.leer_por_niveles()\n",
        "for i in niveles:\n",
        "  print(i)\n",
        "T.delete_node(\"pinocchio\")\n",
        "T.display_tree()\n",
        "T.delete_node(\"what women want\")\n",
        "T.display_tree()\n",
        "T.delete_node(\"the pianist\")\n",
        "T.display_tree()\n",
        "T.delete_node(\"dinosaur\")\n",
        "T.display_tree()\n",
        "T.movie(\"mohou0han\")\n",
        "T.delete_node(\"high crimes\")\n",
        "T.display_tree()"
      ],
      "metadata": {
        "colab": {
          "base_uri": "https://localhost:8080/",
          "height": 1000
        },
        "id": "ysJLdPWo2-Vn",
        "outputId": "5924737b-45bc-492c-dab7-7b5ea99e8ec3"
      },
      "execution_count": 35,
      "outputs": [
        {
          "output_type": "stream",
          "name": "stdout",
          "text": [
            "La película dinosaur ya existe en el árbol.\n"
          ]
        },
        {
          "output_type": "display_data",
          "data": {
            "image/svg+xml": "<?xml version=\"1.0\" encoding=\"UTF-8\" standalone=\"no\"?>\n<!DOCTYPE svg PUBLIC \"-//W3C//DTD SVG 1.1//EN\"\n \"http://www.w3.org/Graphics/SVG/1.1/DTD/svg11.dtd\">\n<!-- Generated by graphviz version 2.43.0 (0)\n -->\n<!-- Title: %3 Pages: 1 -->\n<svg width=\"90pt\" height=\"80pt\"\n viewBox=\"0.00 0.00 89.89 80.00\" xmlns=\"http://www.w3.org/2000/svg\" xmlns:xlink=\"http://www.w3.org/1999/xlink\">\n<g id=\"graph0\" class=\"graph\" transform=\"scale(1 1) rotate(0) translate(4 76)\">\n<title>%3</title>\n<polygon fill=\"white\" stroke=\"transparent\" points=\"-4,4 -4,-76 85.89,-76 85.89,4 -4,4\"/>\n<!-- dinosaur_L -->\n<g id=\"node1\" class=\"node\">\n<title>dinosaur_L</title>\n<ellipse fill=\"black\" stroke=\"black\" cx=\"31.95\" cy=\"0\" rx=\"0\" ry=\"0\"/>\n</g>\n<!-- dinosaur -->\n<g id=\"node2\" class=\"node\">\n<title>dinosaur</title>\n<ellipse fill=\"none\" stroke=\"black\" cx=\"40.95\" cy=\"-54\" rx=\"40.89\" ry=\"18\"/>\n<text text-anchor=\"middle\" x=\"40.95\" y=\"-50.3\" font-family=\"Times,serif\" font-size=\"14.00\">dinosaur</text>\n</g>\n<!-- dinosaur&#45;&gt;dinosaur_L -->\n<g id=\"edge1\" class=\"edge\">\n<title>dinosaur&#45;&gt;dinosaur_L</title>\n<path fill=\"none\" stroke=\"black\" d=\"M38,-35.97C36.57,-27.71 34.9,-18.07 33.68,-11\"/>\n<polygon fill=\"black\" stroke=\"black\" points=\"37.11,-10.31 31.96,-1.06 30.21,-11.51 37.11,-10.31\"/>\n</g>\n<!-- dinosaur_R -->\n<g id=\"node3\" class=\"node\">\n<title>dinosaur_R</title>\n<ellipse fill=\"black\" stroke=\"black\" cx=\"49.95\" cy=\"0\" rx=\"0\" ry=\"0\"/>\n</g>\n<!-- dinosaur&#45;&gt;dinosaur_R -->\n<g id=\"edge2\" class=\"edge\">\n<title>dinosaur&#45;&gt;dinosaur_R</title>\n<path fill=\"none\" stroke=\"black\" d=\"M43.89,-35.97C45.32,-27.71 46.99,-18.07 48.22,-11\"/>\n<polygon fill=\"black\" stroke=\"black\" points=\"51.68,-11.51 49.94,-1.06 44.78,-10.31 51.68,-11.51\"/>\n</g>\n</g>\n</svg>\n",
            "text/plain": [
              "<graphviz.graphs.Digraph at 0x7b781c60f400>"
            ]
          },
          "metadata": {}
        },
        {
          "output_type": "stream",
          "name": "stdout",
          "text": [
            "Se añadió la película: cast away\n"
          ]
        },
        {
          "output_type": "display_data",
          "data": {
            "image/svg+xml": "<?xml version=\"1.0\" encoding=\"UTF-8\" standalone=\"no\"?>\n<!DOCTYPE svg PUBLIC \"-//W3C//DTD SVG 1.1//EN\"\n \"http://www.w3.org/Graphics/SVG/1.1/DTD/svg11.dtd\">\n<!-- Generated by graphviz version 2.43.0 (0)\n -->\n<!-- Title: %3 Pages: 1 -->\n<svg width=\"125pt\" height=\"152pt\"\n viewBox=\"0.00 0.00 125.44 152.00\" xmlns=\"http://www.w3.org/2000/svg\" xmlns:xlink=\"http://www.w3.org/1999/xlink\">\n<g id=\"graph0\" class=\"graph\" transform=\"scale(1 1) rotate(0) translate(4 148)\">\n<title>%3</title>\n<polygon fill=\"white\" stroke=\"transparent\" points=\"-4,4 -4,-148 121.44,-148 121.44,4 -4,4\"/>\n<!-- dinosaur -->\n<g id=\"node1\" class=\"node\">\n<title>dinosaur</title>\n<ellipse fill=\"none\" stroke=\"black\" cx=\"76.5\" cy=\"-126\" rx=\"40.89\" ry=\"18\"/>\n<text text-anchor=\"middle\" x=\"76.5\" y=\"-122.3\" font-family=\"Times,serif\" font-size=\"14.00\">dinosaur</text>\n</g>\n<!-- cast away -->\n<g id=\"node2\" class=\"node\">\n<title>cast away</title>\n<ellipse fill=\"none\" stroke=\"black\" cx=\"45.5\" cy=\"-54\" rx=\"45.49\" ry=\"18\"/>\n<text text-anchor=\"middle\" x=\"45.5\" y=\"-50.3\" font-family=\"Times,serif\" font-size=\"14.00\">cast away</text>\n</g>\n<!-- dinosaur&#45;&gt;cast away -->\n<g id=\"edge1\" class=\"edge\">\n<title>dinosaur&#45;&gt;cast away</title>\n<path fill=\"none\" stroke=\"black\" d=\"M68.99,-108.05C65.41,-99.97 61.05,-90.12 57.06,-81.11\"/>\n<polygon fill=\"black\" stroke=\"black\" points=\"60.18,-79.52 52.93,-71.79 53.78,-82.35 60.18,-79.52\"/>\n</g>\n<!-- dinosaur_R -->\n<g id=\"node5\" class=\"node\">\n<title>dinosaur_R</title>\n<ellipse fill=\"black\" stroke=\"black\" cx=\"108.5\" cy=\"-54\" rx=\"0\" ry=\"0\"/>\n</g>\n<!-- dinosaur&#45;&gt;dinosaur_R -->\n<g id=\"edge4\" class=\"edge\">\n<title>dinosaur&#45;&gt;dinosaur_R</title>\n<path fill=\"none\" stroke=\"black\" d=\"M84.24,-108.05C90.48,-94.41 99.02,-75.73 104.12,-64.57\"/>\n<polygon fill=\"black\" stroke=\"black\" points=\"107.48,-65.64 108.45,-55.09 101.11,-62.73 107.48,-65.64\"/>\n</g>\n<!-- cast away_L -->\n<g id=\"node3\" class=\"node\">\n<title>cast away_L</title>\n<ellipse fill=\"black\" stroke=\"black\" cx=\"36.5\" cy=\"0\" rx=\"0\" ry=\"0\"/>\n</g>\n<!-- cast away&#45;&gt;cast away_L -->\n<g id=\"edge2\" class=\"edge\">\n<title>cast away&#45;&gt;cast away_L</title>\n<path fill=\"none\" stroke=\"black\" d=\"M42.55,-35.97C41.12,-27.71 39.45,-18.07 38.23,-11\"/>\n<polygon fill=\"black\" stroke=\"black\" points=\"41.66,-10.31 36.51,-1.06 34.76,-11.51 41.66,-10.31\"/>\n</g>\n<!-- cast away_R -->\n<g id=\"node4\" class=\"node\">\n<title>cast away_R</title>\n<ellipse fill=\"black\" stroke=\"black\" cx=\"54.5\" cy=\"0\" rx=\"0\" ry=\"0\"/>\n</g>\n<!-- cast away&#45;&gt;cast away_R -->\n<g id=\"edge3\" class=\"edge\">\n<title>cast away&#45;&gt;cast away_R</title>\n<path fill=\"none\" stroke=\"black\" d=\"M48.44,-35.97C49.87,-27.71 51.54,-18.07 52.76,-11\"/>\n<polygon fill=\"black\" stroke=\"black\" points=\"56.23,-11.51 54.49,-1.06 49.33,-10.31 56.23,-11.51\"/>\n</g>\n</g>\n</svg>\n",
            "text/plain": [
              "<graphviz.graphs.Digraph at 0x7b781c60fc10>"
            ]
          },
          "metadata": {}
        },
        {
          "output_type": "stream",
          "name": "stdout",
          "text": [
            "Se añadió la película: what women want\n"
          ]
        },
        {
          "output_type": "display_data",
          "data": {
            "image/svg+xml": "<?xml version=\"1.0\" encoding=\"UTF-8\" standalone=\"no\"?>\n<!DOCTYPE svg PUBLIC \"-//W3C//DTD SVG 1.1//EN\"\n \"http://www.w3.org/Graphics/SVG/1.1/DTD/svg11.dtd\">\n<!-- Generated by graphviz version 2.43.0 (0)\n -->\n<!-- Title: %3 Pages: 1 -->\n<svg width=\"270pt\" height=\"152pt\"\n viewBox=\"0.00 0.00 269.54 152.00\" xmlns=\"http://www.w3.org/2000/svg\" xmlns:xlink=\"http://www.w3.org/1999/xlink\">\n<g id=\"graph0\" class=\"graph\" transform=\"scale(1 1) rotate(0) translate(4 148)\">\n<title>%3</title>\n<polygon fill=\"white\" stroke=\"transparent\" points=\"-4,4 -4,-148 265.54,-148 265.54,4 -4,4\"/>\n<!-- dinosaur -->\n<g id=\"node1\" class=\"node\">\n<title>dinosaur</title>\n<ellipse fill=\"none\" stroke=\"black\" cx=\"115.5\" cy=\"-126\" rx=\"40.89\" ry=\"18\"/>\n<text text-anchor=\"middle\" x=\"115.5\" y=\"-122.3\" font-family=\"Times,serif\" font-size=\"14.00\">dinosaur</text>\n</g>\n<!-- cast away -->\n<g id=\"node2\" class=\"node\">\n<title>cast away</title>\n<ellipse fill=\"none\" stroke=\"black\" cx=\"45.5\" cy=\"-54\" rx=\"45.49\" ry=\"18\"/>\n<text text-anchor=\"middle\" x=\"45.5\" y=\"-50.3\" font-family=\"Times,serif\" font-size=\"14.00\">cast away</text>\n</g>\n<!-- dinosaur&#45;&gt;cast away -->\n<g id=\"edge1\" class=\"edge\">\n<title>dinosaur&#45;&gt;cast away</title>\n<path fill=\"none\" stroke=\"black\" d=\"M99.61,-109.12C90.61,-100.12 79.18,-88.68 69.14,-78.65\"/>\n<polygon fill=\"black\" stroke=\"black\" points=\"71.35,-75.9 61.8,-71.31 66.4,-80.85 71.35,-75.9\"/>\n</g>\n<!-- what women want -->\n<g id=\"node5\" class=\"node\">\n<title>what women want</title>\n<ellipse fill=\"none\" stroke=\"black\" cx=\"185.5\" cy=\"-54\" rx=\"76.09\" ry=\"18\"/>\n<text text-anchor=\"middle\" x=\"185.5\" y=\"-50.3\" font-family=\"Times,serif\" font-size=\"14.00\">what women want</text>\n</g>\n<!-- dinosaur&#45;&gt;what women want -->\n<g id=\"edge4\" class=\"edge\">\n<title>dinosaur&#45;&gt;what women want</title>\n<path fill=\"none\" stroke=\"black\" d=\"M131.38,-109.12C140.25,-100.24 151.49,-89.01 161.42,-79.08\"/>\n<polygon fill=\"black\" stroke=\"black\" points=\"164.1,-81.34 168.7,-71.8 159.15,-76.39 164.1,-81.34\"/>\n</g>\n<!-- cast away_L -->\n<g id=\"node3\" class=\"node\">\n<title>cast away_L</title>\n<ellipse fill=\"black\" stroke=\"black\" cx=\"36.5\" cy=\"0\" rx=\"0\" ry=\"0\"/>\n</g>\n<!-- cast away&#45;&gt;cast away_L -->\n<g id=\"edge2\" class=\"edge\">\n<title>cast away&#45;&gt;cast away_L</title>\n<path fill=\"none\" stroke=\"black\" d=\"M42.55,-35.97C41.12,-27.71 39.45,-18.07 38.23,-11\"/>\n<polygon fill=\"black\" stroke=\"black\" points=\"41.66,-10.31 36.51,-1.06 34.76,-11.51 41.66,-10.31\"/>\n</g>\n<!-- cast away_R -->\n<g id=\"node4\" class=\"node\">\n<title>cast away_R</title>\n<ellipse fill=\"black\" stroke=\"black\" cx=\"54.5\" cy=\"0\" rx=\"0\" ry=\"0\"/>\n</g>\n<!-- cast away&#45;&gt;cast away_R -->\n<g id=\"edge3\" class=\"edge\">\n<title>cast away&#45;&gt;cast away_R</title>\n<path fill=\"none\" stroke=\"black\" d=\"M48.44,-35.97C49.87,-27.71 51.54,-18.07 52.76,-11\"/>\n<polygon fill=\"black\" stroke=\"black\" points=\"56.23,-11.51 54.49,-1.06 49.33,-10.31 56.23,-11.51\"/>\n</g>\n<!-- what women want_L -->\n<g id=\"node6\" class=\"node\">\n<title>what women want_L</title>\n<ellipse fill=\"black\" stroke=\"black\" cx=\"176.5\" cy=\"0\" rx=\"0\" ry=\"0\"/>\n</g>\n<!-- what women want&#45;&gt;what women want_L -->\n<g id=\"edge5\" class=\"edge\">\n<title>what women want&#45;&gt;what women want_L</title>\n<path fill=\"none\" stroke=\"black\" d=\"M182.55,-35.97C181.12,-27.71 179.45,-18.07 178.23,-11\"/>\n<polygon fill=\"black\" stroke=\"black\" points=\"181.66,-10.31 176.51,-1.06 174.76,-11.51 181.66,-10.31\"/>\n</g>\n<!-- what women want_R -->\n<g id=\"node7\" class=\"node\">\n<title>what women want_R</title>\n<ellipse fill=\"black\" stroke=\"black\" cx=\"194.5\" cy=\"0\" rx=\"0\" ry=\"0\"/>\n</g>\n<!-- what women want&#45;&gt;what women want_R -->\n<g id=\"edge6\" class=\"edge\">\n<title>what women want&#45;&gt;what women want_R</title>\n<path fill=\"none\" stroke=\"black\" d=\"M188.44,-35.97C189.87,-27.71 191.54,-18.07 192.76,-11\"/>\n<polygon fill=\"black\" stroke=\"black\" points=\"196.23,-11.51 194.49,-1.06 189.33,-10.31 196.23,-11.51\"/>\n</g>\n</g>\n</svg>\n",
            "text/plain": [
              "<graphviz.graphs.Digraph at 0x7b781c31d300>"
            ]
          },
          "metadata": {}
        },
        {
          "output_type": "stream",
          "name": "stdout",
          "text": [
            "Se añadió la película: the perfect score\n"
          ]
        },
        {
          "output_type": "display_data",
          "data": {
            "image/svg+xml": "<?xml version=\"1.0\" encoding=\"UTF-8\" standalone=\"no\"?>\n<!DOCTYPE svg PUBLIC \"-//W3C//DTD SVG 1.1//EN\"\n \"http://www.w3.org/Graphics/SVG/1.1/DTD/svg11.dtd\">\n<!-- Generated by graphviz version 2.43.0 (0)\n -->\n<!-- Title: %3 Pages: 1 -->\n<svg width=\"270pt\" height=\"224pt\"\n viewBox=\"0.00 0.00 269.54 224.00\" xmlns=\"http://www.w3.org/2000/svg\" xmlns:xlink=\"http://www.w3.org/1999/xlink\">\n<g id=\"graph0\" class=\"graph\" transform=\"scale(1 1) rotate(0) translate(4 220)\">\n<title>%3</title>\n<polygon fill=\"white\" stroke=\"transparent\" points=\"-4,4 -4,-220 265.54,-220 265.54,4 -4,4\"/>\n<!-- dinosaur -->\n<g id=\"node1\" class=\"node\">\n<title>dinosaur</title>\n<ellipse fill=\"none\" stroke=\"black\" cx=\"115.5\" cy=\"-198\" rx=\"40.89\" ry=\"18\"/>\n<text text-anchor=\"middle\" x=\"115.5\" y=\"-194.3\" font-family=\"Times,serif\" font-size=\"14.00\">dinosaur</text>\n</g>\n<!-- cast away -->\n<g id=\"node2\" class=\"node\">\n<title>cast away</title>\n<ellipse fill=\"none\" stroke=\"black\" cx=\"45.5\" cy=\"-126\" rx=\"45.49\" ry=\"18\"/>\n<text text-anchor=\"middle\" x=\"45.5\" y=\"-122.3\" font-family=\"Times,serif\" font-size=\"14.00\">cast away</text>\n</g>\n<!-- dinosaur&#45;&gt;cast away -->\n<g id=\"edge1\" class=\"edge\">\n<title>dinosaur&#45;&gt;cast away</title>\n<path fill=\"none\" stroke=\"black\" d=\"M99.61,-181.12C90.61,-172.12 79.18,-160.68 69.14,-150.65\"/>\n<polygon fill=\"black\" stroke=\"black\" points=\"71.35,-147.9 61.8,-143.31 66.4,-152.85 71.35,-147.9\"/>\n</g>\n<!-- what women want -->\n<g id=\"node5\" class=\"node\">\n<title>what women want</title>\n<ellipse fill=\"none\" stroke=\"black\" cx=\"185.5\" cy=\"-126\" rx=\"76.09\" ry=\"18\"/>\n<text text-anchor=\"middle\" x=\"185.5\" y=\"-122.3\" font-family=\"Times,serif\" font-size=\"14.00\">what women want</text>\n</g>\n<!-- dinosaur&#45;&gt;what women want -->\n<g id=\"edge4\" class=\"edge\">\n<title>dinosaur&#45;&gt;what women want</title>\n<path fill=\"none\" stroke=\"black\" d=\"M131.38,-181.12C140.25,-172.24 151.49,-161.01 161.42,-151.08\"/>\n<polygon fill=\"black\" stroke=\"black\" points=\"164.1,-153.34 168.7,-143.8 159.15,-148.39 164.1,-153.34\"/>\n</g>\n<!-- cast away_L -->\n<g id=\"node3\" class=\"node\">\n<title>cast away_L</title>\n<ellipse fill=\"black\" stroke=\"black\" cx=\"36.5\" cy=\"-54\" rx=\"0\" ry=\"0\"/>\n</g>\n<!-- cast away&#45;&gt;cast away_L -->\n<g id=\"edge2\" class=\"edge\">\n<title>cast away&#45;&gt;cast away_L</title>\n<path fill=\"none\" stroke=\"black\" d=\"M43.27,-107.7C41.56,-94.36 39.24,-76.38 37.81,-65.24\"/>\n<polygon fill=\"black\" stroke=\"black\" points=\"41.25,-64.56 36.51,-55.09 34.31,-65.46 41.25,-64.56\"/>\n</g>\n<!-- cast away_R -->\n<g id=\"node4\" class=\"node\">\n<title>cast away_R</title>\n<ellipse fill=\"black\" stroke=\"black\" cx=\"54.5\" cy=\"-54\" rx=\"0\" ry=\"0\"/>\n</g>\n<!-- cast away&#45;&gt;cast away_R -->\n<g id=\"edge3\" class=\"edge\">\n<title>cast away&#45;&gt;cast away_R</title>\n<path fill=\"none\" stroke=\"black\" d=\"M47.72,-107.7C49.44,-94.36 51.75,-76.38 53.18,-65.24\"/>\n<polygon fill=\"black\" stroke=\"black\" points=\"56.68,-65.46 54.48,-55.09 49.74,-64.56 56.68,-65.46\"/>\n</g>\n<!-- the perfect score -->\n<g id=\"node6\" class=\"node\">\n<title>the perfect score</title>\n<ellipse fill=\"none\" stroke=\"black\" cx=\"163.5\" cy=\"-54\" rx=\"69.59\" ry=\"18\"/>\n<text text-anchor=\"middle\" x=\"163.5\" y=\"-50.3\" font-family=\"Times,serif\" font-size=\"14.00\">the perfect score</text>\n</g>\n<!-- what women want&#45;&gt;the perfect score -->\n<g id=\"edge5\" class=\"edge\">\n<title>what women want&#45;&gt;the perfect score</title>\n<path fill=\"none\" stroke=\"black\" d=\"M180.06,-107.7C177.61,-99.9 174.66,-90.51 171.93,-81.83\"/>\n<polygon fill=\"black\" stroke=\"black\" points=\"175.21,-80.59 168.87,-72.1 168.53,-82.69 175.21,-80.59\"/>\n</g>\n<!-- what women want_R -->\n<g id=\"node9\" class=\"node\">\n<title>what women want_R</title>\n<ellipse fill=\"black\" stroke=\"black\" cx=\"251.5\" cy=\"-54\" rx=\"0\" ry=\"0\"/>\n</g>\n<!-- what women want&#45;&gt;what women want_R -->\n<g id=\"edge8\" class=\"edge\">\n<title>what women want&#45;&gt;what women want_R</title>\n<path fill=\"none\" stroke=\"black\" d=\"M206.37,-108.56C217.94,-98.77 232.05,-85.62 242.5,-72 244.25,-69.71 245.84,-67.04 247.18,-64.5\"/>\n<polygon fill=\"black\" stroke=\"black\" points=\"250.5,-65.67 251.45,-55.12 244.13,-62.77 250.5,-65.67\"/>\n</g>\n<!-- the perfect score_L -->\n<g id=\"node7\" class=\"node\">\n<title>the perfect score_L</title>\n<ellipse fill=\"black\" stroke=\"black\" cx=\"154.5\" cy=\"0\" rx=\"0\" ry=\"0\"/>\n</g>\n<!-- the perfect score&#45;&gt;the perfect score_L -->\n<g id=\"edge6\" class=\"edge\">\n<title>the perfect score&#45;&gt;the perfect score_L</title>\n<path fill=\"none\" stroke=\"black\" d=\"M160.55,-35.97C159.12,-27.71 157.45,-18.07 156.23,-11\"/>\n<polygon fill=\"black\" stroke=\"black\" points=\"159.66,-10.31 154.51,-1.06 152.76,-11.51 159.66,-10.31\"/>\n</g>\n<!-- the perfect score_R -->\n<g id=\"node8\" class=\"node\">\n<title>the perfect score_R</title>\n<ellipse fill=\"black\" stroke=\"black\" cx=\"172.5\" cy=\"0\" rx=\"0\" ry=\"0\"/>\n</g>\n<!-- the perfect score&#45;&gt;the perfect score_R -->\n<g id=\"edge7\" class=\"edge\">\n<title>the perfect score&#45;&gt;the perfect score_R</title>\n<path fill=\"none\" stroke=\"black\" d=\"M166.44,-35.97C167.87,-27.71 169.54,-18.07 170.76,-11\"/>\n<polygon fill=\"black\" stroke=\"black\" points=\"174.23,-11.51 172.49,-1.06 167.33,-10.31 174.23,-11.51\"/>\n</g>\n</g>\n</svg>\n",
            "text/plain": [
              "<graphviz.graphs.Digraph at 0x7b781c31d300>"
            ]
          },
          "metadata": {}
        },
        {
          "output_type": "stream",
          "name": "stdout",
          "text": [
            "Se añadió la película: loser\n"
          ]
        },
        {
          "output_type": "display_data",
          "data": {
            "image/svg+xml": "<?xml version=\"1.0\" encoding=\"UTF-8\" standalone=\"no\"?>\n<!DOCTYPE svg PUBLIC \"-//W3C//DTD SVG 1.1//EN\"\n \"http://www.w3.org/Graphics/SVG/1.1/DTD/svg11.dtd\">\n<!-- Generated by graphviz version 2.43.0 (0)\n -->\n<!-- Title: %3 Pages: 1 -->\n<svg width=\"346pt\" height=\"224pt\"\n viewBox=\"0.00 0.00 345.54 224.00\" xmlns=\"http://www.w3.org/2000/svg\" xmlns:xlink=\"http://www.w3.org/1999/xlink\">\n<g id=\"graph0\" class=\"graph\" transform=\"scale(1 1) rotate(0) translate(4 220)\">\n<title>%3</title>\n<polygon fill=\"white\" stroke=\"transparent\" points=\"-4,4 -4,-220 341.54,-220 341.54,4 -4,4\"/>\n<!-- dinosaur -->\n<g id=\"node1\" class=\"node\">\n<title>dinosaur</title>\n<ellipse fill=\"none\" stroke=\"black\" cx=\"111.5\" cy=\"-198\" rx=\"40.89\" ry=\"18\"/>\n<text text-anchor=\"middle\" x=\"111.5\" y=\"-194.3\" font-family=\"Times,serif\" font-size=\"14.00\">dinosaur</text>\n</g>\n<!-- cast away -->\n<g id=\"node2\" class=\"node\">\n<title>cast away</title>\n<ellipse fill=\"none\" stroke=\"black\" cx=\"45.5\" cy=\"-126\" rx=\"45.49\" ry=\"18\"/>\n<text text-anchor=\"middle\" x=\"45.5\" y=\"-122.3\" font-family=\"Times,serif\" font-size=\"14.00\">cast away</text>\n</g>\n<!-- dinosaur&#45;&gt;cast away -->\n<g id=\"edge1\" class=\"edge\">\n<title>dinosaur&#45;&gt;cast away</title>\n<path fill=\"none\" stroke=\"black\" d=\"M96.52,-181.12C88.03,-172.12 77.25,-160.68 67.79,-150.65\"/>\n<polygon fill=\"black\" stroke=\"black\" points=\"70.28,-148.18 60.87,-143.31 65.18,-152.98 70.28,-148.18\"/>\n</g>\n<!-- the perfect score -->\n<g id=\"node5\" class=\"node\">\n<title>the perfect score</title>\n<ellipse fill=\"none\" stroke=\"black\" cx=\"178.5\" cy=\"-126\" rx=\"69.59\" ry=\"18\"/>\n<text text-anchor=\"middle\" x=\"178.5\" y=\"-122.3\" font-family=\"Times,serif\" font-size=\"14.00\">the perfect score</text>\n</g>\n<!-- dinosaur&#45;&gt;the perfect score -->\n<g id=\"edge4\" class=\"edge\">\n<title>dinosaur&#45;&gt;the perfect score</title>\n<path fill=\"none\" stroke=\"black\" d=\"M126.7,-181.12C135.19,-172.24 145.94,-161.01 155.45,-151.08\"/>\n<polygon fill=\"black\" stroke=\"black\" points=\"158.03,-153.44 162.42,-143.8 152.98,-148.6 158.03,-153.44\"/>\n</g>\n<!-- cast away_L -->\n<g id=\"node3\" class=\"node\">\n<title>cast away_L</title>\n<ellipse fill=\"black\" stroke=\"black\" cx=\"36.5\" cy=\"-54\" rx=\"0\" ry=\"0\"/>\n</g>\n<!-- cast away&#45;&gt;cast away_L -->\n<g id=\"edge2\" class=\"edge\">\n<title>cast away&#45;&gt;cast away_L</title>\n<path fill=\"none\" stroke=\"black\" d=\"M43.27,-107.7C41.56,-94.36 39.24,-76.38 37.81,-65.24\"/>\n<polygon fill=\"black\" stroke=\"black\" points=\"41.25,-64.56 36.51,-55.09 34.31,-65.46 41.25,-64.56\"/>\n</g>\n<!-- cast away_R -->\n<g id=\"node4\" class=\"node\">\n<title>cast away_R</title>\n<ellipse fill=\"black\" stroke=\"black\" cx=\"54.5\" cy=\"-54\" rx=\"0\" ry=\"0\"/>\n</g>\n<!-- cast away&#45;&gt;cast away_R -->\n<g id=\"edge3\" class=\"edge\">\n<title>cast away&#45;&gt;cast away_R</title>\n<path fill=\"none\" stroke=\"black\" d=\"M47.72,-107.7C49.44,-94.36 51.75,-76.38 53.18,-65.24\"/>\n<polygon fill=\"black\" stroke=\"black\" points=\"56.68,-65.46 54.48,-55.09 49.74,-64.56 56.68,-65.46\"/>\n</g>\n<!-- loser -->\n<g id=\"node6\" class=\"node\">\n<title>loser</title>\n<ellipse fill=\"none\" stroke=\"black\" cx=\"139.5\" cy=\"-54\" rx=\"27.9\" ry=\"18\"/>\n<text text-anchor=\"middle\" x=\"139.5\" y=\"-50.3\" font-family=\"Times,serif\" font-size=\"14.00\">loser</text>\n</g>\n<!-- the perfect score&#45;&gt;loser -->\n<g id=\"edge5\" class=\"edge\">\n<title>the perfect score&#45;&gt;loser</title>\n<path fill=\"none\" stroke=\"black\" d=\"M169.06,-108.05C164.39,-99.68 158.66,-89.4 153.5,-80.13\"/>\n<polygon fill=\"black\" stroke=\"black\" points=\"156.51,-78.34 148.58,-71.31 150.39,-81.75 156.51,-78.34\"/>\n</g>\n<!-- what women want -->\n<g id=\"node9\" class=\"node\">\n<title>what women want</title>\n<ellipse fill=\"none\" stroke=\"black\" cx=\"261.5\" cy=\"-54\" rx=\"76.09\" ry=\"18\"/>\n<text text-anchor=\"middle\" x=\"261.5\" y=\"-50.3\" font-family=\"Times,serif\" font-size=\"14.00\">what women want</text>\n</g>\n<!-- the perfect score&#45;&gt;what women want -->\n<g id=\"edge8\" class=\"edge\">\n<title>the perfect score&#45;&gt;what women want</title>\n<path fill=\"none\" stroke=\"black\" d=\"M198.17,-108.41C208.92,-99.34 222.4,-87.97 234.16,-78.06\"/>\n<polygon fill=\"black\" stroke=\"black\" points=\"236.58,-80.59 241.97,-71.47 232.07,-75.24 236.58,-80.59\"/>\n</g>\n<!-- loser_L -->\n<g id=\"node7\" class=\"node\">\n<title>loser_L</title>\n<ellipse fill=\"black\" stroke=\"black\" cx=\"130.5\" cy=\"0\" rx=\"0\" ry=\"0\"/>\n</g>\n<!-- loser&#45;&gt;loser_L -->\n<g id=\"edge6\" class=\"edge\">\n<title>loser&#45;&gt;loser_L</title>\n<path fill=\"none\" stroke=\"black\" d=\"M136.55,-35.97C135.12,-27.71 133.45,-18.07 132.23,-11\"/>\n<polygon fill=\"black\" stroke=\"black\" points=\"135.66,-10.31 130.51,-1.06 128.76,-11.51 135.66,-10.31\"/>\n</g>\n<!-- loser_R -->\n<g id=\"node8\" class=\"node\">\n<title>loser_R</title>\n<ellipse fill=\"black\" stroke=\"black\" cx=\"148.5\" cy=\"0\" rx=\"0\" ry=\"0\"/>\n</g>\n<!-- loser&#45;&gt;loser_R -->\n<g id=\"edge7\" class=\"edge\">\n<title>loser&#45;&gt;loser_R</title>\n<path fill=\"none\" stroke=\"black\" d=\"M142.44,-35.97C143.87,-27.71 145.54,-18.07 146.76,-11\"/>\n<polygon fill=\"black\" stroke=\"black\" points=\"150.23,-11.51 148.49,-1.06 143.33,-10.31 150.23,-11.51\"/>\n</g>\n<!-- what women want_L -->\n<g id=\"node10\" class=\"node\">\n<title>what women want_L</title>\n<ellipse fill=\"black\" stroke=\"black\" cx=\"252.5\" cy=\"0\" rx=\"0\" ry=\"0\"/>\n</g>\n<!-- what women want&#45;&gt;what women want_L -->\n<g id=\"edge9\" class=\"edge\">\n<title>what women want&#45;&gt;what women want_L</title>\n<path fill=\"none\" stroke=\"black\" d=\"M258.55,-35.97C257.12,-27.71 255.45,-18.07 254.23,-11\"/>\n<polygon fill=\"black\" stroke=\"black\" points=\"257.66,-10.31 252.51,-1.06 250.76,-11.51 257.66,-10.31\"/>\n</g>\n<!-- what women want_R -->\n<g id=\"node11\" class=\"node\">\n<title>what women want_R</title>\n<ellipse fill=\"black\" stroke=\"black\" cx=\"270.5\" cy=\"0\" rx=\"0\" ry=\"0\"/>\n</g>\n<!-- what women want&#45;&gt;what women want_R -->\n<g id=\"edge10\" class=\"edge\">\n<title>what women want&#45;&gt;what women want_R</title>\n<path fill=\"none\" stroke=\"black\" d=\"M264.44,-35.97C265.87,-27.71 267.54,-18.07 268.76,-11\"/>\n<polygon fill=\"black\" stroke=\"black\" points=\"272.23,-11.51 270.49,-1.06 265.33,-10.31 272.23,-11.51\"/>\n</g>\n</g>\n</svg>\n",
            "text/plain": [
              "<graphviz.graphs.Digraph at 0x7b781c31f610>"
            ]
          },
          "metadata": {}
        },
        {
          "output_type": "stream",
          "name": "stdout",
          "text": [
            "Se añadió la película: bait\n"
          ]
        },
        {
          "output_type": "display_data",
          "data": {
            "image/svg+xml": "<?xml version=\"1.0\" encoding=\"UTF-8\" standalone=\"no\"?>\n<!DOCTYPE svg PUBLIC \"-//W3C//DTD SVG 1.1//EN\"\n \"http://www.w3.org/Graphics/SVG/1.1/DTD/svg11.dtd\">\n<!-- Generated by graphviz version 2.43.0 (0)\n -->\n<!-- Title: %3 Pages: 1 -->\n<svg width=\"356pt\" height=\"224pt\"\n viewBox=\"0.00 0.00 356.04 224.00\" xmlns=\"http://www.w3.org/2000/svg\" xmlns:xlink=\"http://www.w3.org/1999/xlink\">\n<g id=\"graph0\" class=\"graph\" transform=\"scale(1 1) rotate(0) translate(4 220)\">\n<title>%3</title>\n<polygon fill=\"white\" stroke=\"transparent\" points=\"-4,4 -4,-220 352.04,-220 352.04,4 -4,4\"/>\n<!-- dinosaur -->\n<g id=\"node1\" class=\"node\">\n<title>dinosaur</title>\n<ellipse fill=\"none\" stroke=\"black\" cx=\"115\" cy=\"-198\" rx=\"40.89\" ry=\"18\"/>\n<text text-anchor=\"middle\" x=\"115\" y=\"-194.3\" font-family=\"Times,serif\" font-size=\"14.00\">dinosaur</text>\n</g>\n<!-- cast away -->\n<g id=\"node2\" class=\"node\">\n<title>cast away</title>\n<ellipse fill=\"none\" stroke=\"black\" cx=\"49\" cy=\"-126\" rx=\"45.49\" ry=\"18\"/>\n<text text-anchor=\"middle\" x=\"49\" y=\"-122.3\" font-family=\"Times,serif\" font-size=\"14.00\">cast away</text>\n</g>\n<!-- dinosaur&#45;&gt;cast away -->\n<g id=\"edge1\" class=\"edge\">\n<title>dinosaur&#45;&gt;cast away</title>\n<path fill=\"none\" stroke=\"black\" d=\"M100.02,-181.12C91.54,-172.12 80.76,-160.68 71.29,-150.65\"/>\n<polygon fill=\"black\" stroke=\"black\" points=\"73.78,-148.18 64.38,-143.31 68.69,-152.98 73.78,-148.18\"/>\n</g>\n<!-- the perfect score -->\n<g id=\"node7\" class=\"node\">\n<title>the perfect score</title>\n<ellipse fill=\"none\" stroke=\"black\" cx=\"182\" cy=\"-126\" rx=\"69.59\" ry=\"18\"/>\n<text text-anchor=\"middle\" x=\"182\" y=\"-122.3\" font-family=\"Times,serif\" font-size=\"14.00\">the perfect score</text>\n</g>\n<!-- dinosaur&#45;&gt;the perfect score -->\n<g id=\"edge6\" class=\"edge\">\n<title>dinosaur&#45;&gt;the perfect score</title>\n<path fill=\"none\" stroke=\"black\" d=\"M130.2,-181.12C138.69,-172.24 149.45,-161.01 158.95,-151.08\"/>\n<polygon fill=\"black\" stroke=\"black\" points=\"161.54,-153.44 165.92,-143.8 156.48,-148.6 161.54,-153.44\"/>\n</g>\n<!-- bait -->\n<g id=\"node3\" class=\"node\">\n<title>bait</title>\n<ellipse fill=\"none\" stroke=\"black\" cx=\"27\" cy=\"-54\" rx=\"27\" ry=\"18\"/>\n<text text-anchor=\"middle\" x=\"27\" y=\"-50.3\" font-family=\"Times,serif\" font-size=\"14.00\">bait</text>\n</g>\n<!-- cast away&#45;&gt;bait -->\n<g id=\"edge2\" class=\"edge\">\n<title>cast away&#45;&gt;bait</title>\n<path fill=\"none\" stroke=\"black\" d=\"M43.67,-108.05C41.16,-100.06 38.1,-90.33 35.3,-81.4\"/>\n<polygon fill=\"black\" stroke=\"black\" points=\"38.61,-80.28 32.28,-71.79 31.94,-82.38 38.61,-80.28\"/>\n</g>\n<!-- cast away_R -->\n<g id=\"node6\" class=\"node\">\n<title>cast away_R</title>\n<ellipse fill=\"black\" stroke=\"black\" cx=\"72\" cy=\"-54\" rx=\"0\" ry=\"0\"/>\n</g>\n<!-- cast away&#45;&gt;cast away_R -->\n<g id=\"edge5\" class=\"edge\">\n<title>cast away&#45;&gt;cast away_R</title>\n<path fill=\"none\" stroke=\"black\" d=\"M54.57,-108.05C59,-94.57 65.05,-76.16 68.73,-64.95\"/>\n<polygon fill=\"black\" stroke=\"black\" points=\"72.17,-65.69 71.97,-55.09 65.52,-63.5 72.17,-65.69\"/>\n</g>\n<!-- bait_L -->\n<g id=\"node4\" class=\"node\">\n<title>bait_L</title>\n<ellipse fill=\"black\" stroke=\"black\" cx=\"18\" cy=\"0\" rx=\"0\" ry=\"0\"/>\n</g>\n<!-- bait&#45;&gt;bait_L -->\n<g id=\"edge3\" class=\"edge\">\n<title>bait&#45;&gt;bait_L</title>\n<path fill=\"none\" stroke=\"black\" d=\"M24.05,-35.97C22.62,-27.71 20.95,-18.07 19.73,-11\"/>\n<polygon fill=\"black\" stroke=\"black\" points=\"23.16,-10.31 18.01,-1.06 16.27,-11.51 23.16,-10.31\"/>\n</g>\n<!-- bait_R -->\n<g id=\"node5\" class=\"node\">\n<title>bait_R</title>\n<ellipse fill=\"black\" stroke=\"black\" cx=\"36\" cy=\"0\" rx=\"0\" ry=\"0\"/>\n</g>\n<!-- bait&#45;&gt;bait_R -->\n<g id=\"edge4\" class=\"edge\">\n<title>bait&#45;&gt;bait_R</title>\n<path fill=\"none\" stroke=\"black\" d=\"M29.95,-35.97C31.38,-27.71 33.05,-18.07 34.27,-11\"/>\n<polygon fill=\"black\" stroke=\"black\" points=\"37.73,-11.51 35.99,-1.06 30.84,-10.31 37.73,-11.51\"/>\n</g>\n<!-- loser -->\n<g id=\"node8\" class=\"node\">\n<title>loser</title>\n<ellipse fill=\"none\" stroke=\"black\" cx=\"150\" cy=\"-54\" rx=\"27.9\" ry=\"18\"/>\n<text text-anchor=\"middle\" x=\"150\" y=\"-50.3\" font-family=\"Times,serif\" font-size=\"14.00\">loser</text>\n</g>\n<!-- the perfect score&#45;&gt;loser -->\n<g id=\"edge7\" class=\"edge\">\n<title>the perfect score&#45;&gt;loser</title>\n<path fill=\"none\" stroke=\"black\" d=\"M174.25,-108.05C170.56,-99.97 166.06,-90.12 161.94,-81.11\"/>\n<polygon fill=\"black\" stroke=\"black\" points=\"165.02,-79.43 157.67,-71.79 158.65,-82.34 165.02,-79.43\"/>\n</g>\n<!-- what women want -->\n<g id=\"node11\" class=\"node\">\n<title>what women want</title>\n<ellipse fill=\"none\" stroke=\"black\" cx=\"272\" cy=\"-54\" rx=\"76.09\" ry=\"18\"/>\n<text text-anchor=\"middle\" x=\"272\" y=\"-50.3\" font-family=\"Times,serif\" font-size=\"14.00\">what women want</text>\n</g>\n<!-- the perfect score&#45;&gt;what women want -->\n<g id=\"edge10\" class=\"edge\">\n<title>the perfect score&#45;&gt;what women want</title>\n<path fill=\"none\" stroke=\"black\" d=\"M202.87,-108.76C214.72,-99.55 229.72,-87.88 242.73,-77.77\"/>\n<polygon fill=\"black\" stroke=\"black\" points=\"245.18,-80.29 250.93,-71.39 240.89,-74.77 245.18,-80.29\"/>\n</g>\n<!-- loser_L -->\n<g id=\"node9\" class=\"node\">\n<title>loser_L</title>\n<ellipse fill=\"black\" stroke=\"black\" cx=\"141\" cy=\"0\" rx=\"0\" ry=\"0\"/>\n</g>\n<!-- loser&#45;&gt;loser_L -->\n<g id=\"edge8\" class=\"edge\">\n<title>loser&#45;&gt;loser_L</title>\n<path fill=\"none\" stroke=\"black\" d=\"M147.05,-35.97C145.62,-27.71 143.95,-18.07 142.73,-11\"/>\n<polygon fill=\"black\" stroke=\"black\" points=\"146.16,-10.31 141.01,-1.06 139.27,-11.51 146.16,-10.31\"/>\n</g>\n<!-- loser_R -->\n<g id=\"node10\" class=\"node\">\n<title>loser_R</title>\n<ellipse fill=\"black\" stroke=\"black\" cx=\"159\" cy=\"0\" rx=\"0\" ry=\"0\"/>\n</g>\n<!-- loser&#45;&gt;loser_R -->\n<g id=\"edge9\" class=\"edge\">\n<title>loser&#45;&gt;loser_R</title>\n<path fill=\"none\" stroke=\"black\" d=\"M152.95,-35.97C154.38,-27.71 156.05,-18.07 157.27,-11\"/>\n<polygon fill=\"black\" stroke=\"black\" points=\"160.73,-11.51 158.99,-1.06 153.84,-10.31 160.73,-11.51\"/>\n</g>\n<!-- what women want_L -->\n<g id=\"node12\" class=\"node\">\n<title>what women want_L</title>\n<ellipse fill=\"black\" stroke=\"black\" cx=\"263\" cy=\"0\" rx=\"0\" ry=\"0\"/>\n</g>\n<!-- what women want&#45;&gt;what women want_L -->\n<g id=\"edge11\" class=\"edge\">\n<title>what women want&#45;&gt;what women want_L</title>\n<path fill=\"none\" stroke=\"black\" d=\"M269.05,-35.97C267.62,-27.71 265.95,-18.07 264.73,-11\"/>\n<polygon fill=\"black\" stroke=\"black\" points=\"268.16,-10.31 263.01,-1.06 261.27,-11.51 268.16,-10.31\"/>\n</g>\n<!-- what women want_R -->\n<g id=\"node13\" class=\"node\">\n<title>what women want_R</title>\n<ellipse fill=\"black\" stroke=\"black\" cx=\"281\" cy=\"0\" rx=\"0\" ry=\"0\"/>\n</g>\n<!-- what women want&#45;&gt;what women want_R -->\n<g id=\"edge12\" class=\"edge\">\n<title>what women want&#45;&gt;what women want_R</title>\n<path fill=\"none\" stroke=\"black\" d=\"M274.95,-35.97C276.38,-27.71 278.05,-18.07 279.27,-11\"/>\n<polygon fill=\"black\" stroke=\"black\" points=\"282.73,-11.51 280.99,-1.06 275.84,-10.31 282.73,-11.51\"/>\n</g>\n</g>\n</svg>\n",
            "text/plain": [
              "<graphviz.graphs.Digraph at 0x7b781c31f610>"
            ]
          },
          "metadata": {}
        },
        {
          "output_type": "stream",
          "name": "stdout",
          "text": [
            "Se añadió la película: the pianist\n"
          ]
        },
        {
          "output_type": "display_data",
          "data": {
            "image/svg+xml": "<?xml version=\"1.0\" encoding=\"UTF-8\" standalone=\"no\"?>\n<!DOCTYPE svg PUBLIC \"-//W3C//DTD SVG 1.1//EN\"\n \"http://www.w3.org/Graphics/SVG/1.1/DTD/svg11.dtd\">\n<!-- Generated by graphviz version 2.43.0 (0)\n -->\n<!-- Title: %3 Pages: 1 -->\n<svg width=\"356pt\" height=\"296pt\"\n viewBox=\"0.00 0.00 356.04 296.00\" xmlns=\"http://www.w3.org/2000/svg\" xmlns:xlink=\"http://www.w3.org/1999/xlink\">\n<g id=\"graph0\" class=\"graph\" transform=\"scale(1 1) rotate(0) translate(4 292)\">\n<title>%3</title>\n<polygon fill=\"white\" stroke=\"transparent\" points=\"-4,4 -4,-292 352.04,-292 352.04,4 -4,4\"/>\n<!-- dinosaur -->\n<g id=\"node1\" class=\"node\">\n<title>dinosaur</title>\n<ellipse fill=\"none\" stroke=\"black\" cx=\"115\" cy=\"-270\" rx=\"40.89\" ry=\"18\"/>\n<text text-anchor=\"middle\" x=\"115\" y=\"-266.3\" font-family=\"Times,serif\" font-size=\"14.00\">dinosaur</text>\n</g>\n<!-- cast away -->\n<g id=\"node2\" class=\"node\">\n<title>cast away</title>\n<ellipse fill=\"none\" stroke=\"black\" cx=\"49\" cy=\"-198\" rx=\"45.49\" ry=\"18\"/>\n<text text-anchor=\"middle\" x=\"49\" y=\"-194.3\" font-family=\"Times,serif\" font-size=\"14.00\">cast away</text>\n</g>\n<!-- dinosaur&#45;&gt;cast away -->\n<g id=\"edge1\" class=\"edge\">\n<title>dinosaur&#45;&gt;cast away</title>\n<path fill=\"none\" stroke=\"black\" d=\"M100.02,-253.12C91.54,-244.12 80.76,-232.68 71.29,-222.65\"/>\n<polygon fill=\"black\" stroke=\"black\" points=\"73.78,-220.18 64.38,-215.31 68.69,-224.98 73.78,-220.18\"/>\n</g>\n<!-- the perfect score -->\n<g id=\"node7\" class=\"node\">\n<title>the perfect score</title>\n<ellipse fill=\"none\" stroke=\"black\" cx=\"182\" cy=\"-198\" rx=\"69.59\" ry=\"18\"/>\n<text text-anchor=\"middle\" x=\"182\" y=\"-194.3\" font-family=\"Times,serif\" font-size=\"14.00\">the perfect score</text>\n</g>\n<!-- dinosaur&#45;&gt;the perfect score -->\n<g id=\"edge6\" class=\"edge\">\n<title>dinosaur&#45;&gt;the perfect score</title>\n<path fill=\"none\" stroke=\"black\" d=\"M130.2,-253.12C138.69,-244.24 149.45,-233.01 158.95,-223.08\"/>\n<polygon fill=\"black\" stroke=\"black\" points=\"161.54,-225.44 165.92,-215.8 156.48,-220.6 161.54,-225.44\"/>\n</g>\n<!-- bait -->\n<g id=\"node3\" class=\"node\">\n<title>bait</title>\n<ellipse fill=\"none\" stroke=\"black\" cx=\"27\" cy=\"-126\" rx=\"27\" ry=\"18\"/>\n<text text-anchor=\"middle\" x=\"27\" y=\"-122.3\" font-family=\"Times,serif\" font-size=\"14.00\">bait</text>\n</g>\n<!-- cast away&#45;&gt;bait -->\n<g id=\"edge2\" class=\"edge\">\n<title>cast away&#45;&gt;bait</title>\n<path fill=\"none\" stroke=\"black\" d=\"M43.67,-180.05C41.16,-172.06 38.1,-162.33 35.3,-153.4\"/>\n<polygon fill=\"black\" stroke=\"black\" points=\"38.61,-152.28 32.28,-143.79 31.94,-154.38 38.61,-152.28\"/>\n</g>\n<!-- cast away_R -->\n<g id=\"node6\" class=\"node\">\n<title>cast away_R</title>\n<ellipse fill=\"black\" stroke=\"black\" cx=\"72\" cy=\"-126\" rx=\"0\" ry=\"0\"/>\n</g>\n<!-- cast away&#45;&gt;cast away_R -->\n<g id=\"edge5\" class=\"edge\">\n<title>cast away&#45;&gt;cast away_R</title>\n<path fill=\"none\" stroke=\"black\" d=\"M54.57,-180.05C59,-166.57 65.05,-148.16 68.73,-136.95\"/>\n<polygon fill=\"black\" stroke=\"black\" points=\"72.17,-137.69 71.97,-127.09 65.52,-135.5 72.17,-137.69\"/>\n</g>\n<!-- bait_L -->\n<g id=\"node4\" class=\"node\">\n<title>bait_L</title>\n<ellipse fill=\"black\" stroke=\"black\" cx=\"18\" cy=\"-54\" rx=\"0\" ry=\"0\"/>\n</g>\n<!-- bait&#45;&gt;bait_L -->\n<g id=\"edge3\" class=\"edge\">\n<title>bait&#45;&gt;bait_L</title>\n<path fill=\"none\" stroke=\"black\" d=\"M24.82,-108.05C23.11,-94.73 20.78,-76.59 19.33,-65.35\"/>\n<polygon fill=\"black\" stroke=\"black\" points=\"22.76,-64.57 18.01,-55.09 15.82,-65.46 22.76,-64.57\"/>\n</g>\n<!-- bait_R -->\n<g id=\"node5\" class=\"node\">\n<title>bait_R</title>\n<ellipse fill=\"black\" stroke=\"black\" cx=\"36\" cy=\"-54\" rx=\"0\" ry=\"0\"/>\n</g>\n<!-- bait&#45;&gt;bait_R -->\n<g id=\"edge4\" class=\"edge\">\n<title>bait&#45;&gt;bait_R</title>\n<path fill=\"none\" stroke=\"black\" d=\"M29.18,-108.05C30.89,-94.73 33.22,-76.59 34.67,-65.35\"/>\n<polygon fill=\"black\" stroke=\"black\" points=\"38.18,-65.46 35.99,-55.09 31.24,-64.57 38.18,-65.46\"/>\n</g>\n<!-- loser -->\n<g id=\"node8\" class=\"node\">\n<title>loser</title>\n<ellipse fill=\"none\" stroke=\"black\" cx=\"150\" cy=\"-126\" rx=\"27.9\" ry=\"18\"/>\n<text text-anchor=\"middle\" x=\"150\" y=\"-122.3\" font-family=\"Times,serif\" font-size=\"14.00\">loser</text>\n</g>\n<!-- the perfect score&#45;&gt;loser -->\n<g id=\"edge7\" class=\"edge\">\n<title>the perfect score&#45;&gt;loser</title>\n<path fill=\"none\" stroke=\"black\" d=\"M174.25,-180.05C170.56,-171.97 166.06,-162.12 161.94,-153.11\"/>\n<polygon fill=\"black\" stroke=\"black\" points=\"165.02,-151.43 157.67,-143.79 158.65,-154.34 165.02,-151.43\"/>\n</g>\n<!-- what women want -->\n<g id=\"node11\" class=\"node\">\n<title>what women want</title>\n<ellipse fill=\"none\" stroke=\"black\" cx=\"272\" cy=\"-126\" rx=\"76.09\" ry=\"18\"/>\n<text text-anchor=\"middle\" x=\"272\" y=\"-122.3\" font-family=\"Times,serif\" font-size=\"14.00\">what women want</text>\n</g>\n<!-- the perfect score&#45;&gt;what women want -->\n<g id=\"edge10\" class=\"edge\">\n<title>the perfect score&#45;&gt;what women want</title>\n<path fill=\"none\" stroke=\"black\" d=\"M202.87,-180.76C214.72,-171.55 229.72,-159.88 242.73,-149.77\"/>\n<polygon fill=\"black\" stroke=\"black\" points=\"245.18,-152.29 250.93,-143.39 240.89,-146.77 245.18,-152.29\"/>\n</g>\n<!-- loser_L -->\n<g id=\"node9\" class=\"node\">\n<title>loser_L</title>\n<ellipse fill=\"black\" stroke=\"black\" cx=\"141\" cy=\"-54\" rx=\"0\" ry=\"0\"/>\n</g>\n<!-- loser&#45;&gt;loser_L -->\n<g id=\"edge8\" class=\"edge\">\n<title>loser&#45;&gt;loser_L</title>\n<path fill=\"none\" stroke=\"black\" d=\"M147.78,-107.7C146.06,-94.36 143.75,-76.38 142.32,-65.24\"/>\n<polygon fill=\"black\" stroke=\"black\" points=\"145.76,-64.56 141.01,-55.09 138.82,-65.46 145.76,-64.56\"/>\n</g>\n<!-- loser_R -->\n<g id=\"node10\" class=\"node\">\n<title>loser_R</title>\n<ellipse fill=\"black\" stroke=\"black\" cx=\"159\" cy=\"-54\" rx=\"0\" ry=\"0\"/>\n</g>\n<!-- loser&#45;&gt;loser_R -->\n<g id=\"edge9\" class=\"edge\">\n<title>loser&#45;&gt;loser_R</title>\n<path fill=\"none\" stroke=\"black\" d=\"M152.22,-107.7C153.94,-94.36 156.25,-76.38 157.68,-65.24\"/>\n<polygon fill=\"black\" stroke=\"black\" points=\"161.18,-65.46 158.99,-55.09 154.24,-64.56 161.18,-65.46\"/>\n</g>\n<!-- the pianist -->\n<g id=\"node12\" class=\"node\">\n<title>the pianist</title>\n<ellipse fill=\"none\" stroke=\"black\" cx=\"252\" cy=\"-54\" rx=\"47.39\" ry=\"18\"/>\n<text text-anchor=\"middle\" x=\"252\" y=\"-50.3\" font-family=\"Times,serif\" font-size=\"14.00\">the pianist</text>\n</g>\n<!-- what women want&#45;&gt;the pianist -->\n<g id=\"edge11\" class=\"edge\">\n<title>what women want&#45;&gt;the pianist</title>\n<path fill=\"none\" stroke=\"black\" d=\"M267.06,-107.7C264.83,-99.9 262.15,-90.51 259.67,-81.83\"/>\n<polygon fill=\"black\" stroke=\"black\" points=\"263,-80.76 256.89,-72.1 256.27,-82.68 263,-80.76\"/>\n</g>\n<!-- what women want_R -->\n<g id=\"node15\" class=\"node\">\n<title>what women want_R</title>\n<ellipse fill=\"black\" stroke=\"black\" cx=\"317\" cy=\"-54\" rx=\"0\" ry=\"0\"/>\n</g>\n<!-- what women want&#45;&gt;what women want_R -->\n<g id=\"edge14\" class=\"edge\">\n<title>what women want&#45;&gt;what women want_R</title>\n<path fill=\"none\" stroke=\"black\" d=\"M284.16,-108.13C291.38,-97.86 300.54,-84.39 308,-72 309.49,-69.53 310.99,-66.8 312.34,-64.26\"/>\n<polygon fill=\"black\" stroke=\"black\" points=\"315.57,-65.62 316.95,-55.11 309.32,-62.46 315.57,-65.62\"/>\n</g>\n<!-- the pianist_L -->\n<g id=\"node13\" class=\"node\">\n<title>the pianist_L</title>\n<ellipse fill=\"black\" stroke=\"black\" cx=\"243\" cy=\"0\" rx=\"0\" ry=\"0\"/>\n</g>\n<!-- the pianist&#45;&gt;the pianist_L -->\n<g id=\"edge12\" class=\"edge\">\n<title>the pianist&#45;&gt;the pianist_L</title>\n<path fill=\"none\" stroke=\"black\" d=\"M249.05,-35.97C247.62,-27.71 245.95,-18.07 244.73,-11\"/>\n<polygon fill=\"black\" stroke=\"black\" points=\"248.16,-10.31 243.01,-1.06 241.27,-11.51 248.16,-10.31\"/>\n</g>\n<!-- the pianist_R -->\n<g id=\"node14\" class=\"node\">\n<title>the pianist_R</title>\n<ellipse fill=\"black\" stroke=\"black\" cx=\"261\" cy=\"0\" rx=\"0\" ry=\"0\"/>\n</g>\n<!-- the pianist&#45;&gt;the pianist_R -->\n<g id=\"edge13\" class=\"edge\">\n<title>the pianist&#45;&gt;the pianist_R</title>\n<path fill=\"none\" stroke=\"black\" d=\"M254.95,-35.97C256.38,-27.71 258.05,-18.07 259.27,-11\"/>\n<polygon fill=\"black\" stroke=\"black\" points=\"262.73,-11.51 260.99,-1.06 255.84,-10.31 262.73,-11.51\"/>\n</g>\n</g>\n</svg>\n",
            "text/plain": [
              "<graphviz.graphs.Digraph at 0x7b781c31f610>"
            ]
          },
          "metadata": {}
        },
        {
          "output_type": "stream",
          "name": "stdout",
          "text": [
            "Se añadió la película: high crimes\n"
          ]
        },
        {
          "output_type": "display_data",
          "data": {
            "image/svg+xml": "<?xml version=\"1.0\" encoding=\"UTF-8\" standalone=\"no\"?>\n<!DOCTYPE svg PUBLIC \"-//W3C//DTD SVG 1.1//EN\"\n \"http://www.w3.org/Graphics/SVG/1.1/DTD/svg11.dtd\">\n<!-- Generated by graphviz version 2.43.0 (0)\n -->\n<!-- Title: %3 Pages: 1 -->\n<svg width=\"332pt\" height=\"296pt\"\n viewBox=\"0.00 0.00 332.04 296.00\" xmlns=\"http://www.w3.org/2000/svg\" xmlns:xlink=\"http://www.w3.org/1999/xlink\">\n<g id=\"graph0\" class=\"graph\" transform=\"scale(1 1) rotate(0) translate(4 292)\">\n<title>%3</title>\n<polygon fill=\"white\" stroke=\"transparent\" points=\"-4,4 -4,-292 328.04,-292 328.04,4 -4,4\"/>\n<!-- dinosaur -->\n<g id=\"node1\" class=\"node\">\n<title>dinosaur</title>\n<ellipse fill=\"none\" stroke=\"black\" cx=\"115\" cy=\"-270\" rx=\"40.89\" ry=\"18\"/>\n<text text-anchor=\"middle\" x=\"115\" y=\"-266.3\" font-family=\"Times,serif\" font-size=\"14.00\">dinosaur</text>\n</g>\n<!-- cast away -->\n<g id=\"node2\" class=\"node\">\n<title>cast away</title>\n<ellipse fill=\"none\" stroke=\"black\" cx=\"49\" cy=\"-198\" rx=\"45.49\" ry=\"18\"/>\n<text text-anchor=\"middle\" x=\"49\" y=\"-194.3\" font-family=\"Times,serif\" font-size=\"14.00\">cast away</text>\n</g>\n<!-- dinosaur&#45;&gt;cast away -->\n<g id=\"edge1\" class=\"edge\">\n<title>dinosaur&#45;&gt;cast away</title>\n<path fill=\"none\" stroke=\"black\" d=\"M100.02,-253.12C91.54,-244.12 80.76,-232.68 71.29,-222.65\"/>\n<polygon fill=\"black\" stroke=\"black\" points=\"73.78,-220.18 64.38,-215.31 68.69,-224.98 73.78,-220.18\"/>\n</g>\n<!-- the perfect score -->\n<g id=\"node7\" class=\"node\">\n<title>the perfect score</title>\n<ellipse fill=\"none\" stroke=\"black\" cx=\"182\" cy=\"-198\" rx=\"69.59\" ry=\"18\"/>\n<text text-anchor=\"middle\" x=\"182\" y=\"-194.3\" font-family=\"Times,serif\" font-size=\"14.00\">the perfect score</text>\n</g>\n<!-- dinosaur&#45;&gt;the perfect score -->\n<g id=\"edge6\" class=\"edge\">\n<title>dinosaur&#45;&gt;the perfect score</title>\n<path fill=\"none\" stroke=\"black\" d=\"M130.2,-253.12C138.69,-244.24 149.45,-233.01 158.95,-223.08\"/>\n<polygon fill=\"black\" stroke=\"black\" points=\"161.54,-225.44 165.92,-215.8 156.48,-220.6 161.54,-225.44\"/>\n</g>\n<!-- bait -->\n<g id=\"node3\" class=\"node\">\n<title>bait</title>\n<ellipse fill=\"none\" stroke=\"black\" cx=\"27\" cy=\"-126\" rx=\"27\" ry=\"18\"/>\n<text text-anchor=\"middle\" x=\"27\" y=\"-122.3\" font-family=\"Times,serif\" font-size=\"14.00\">bait</text>\n</g>\n<!-- cast away&#45;&gt;bait -->\n<g id=\"edge2\" class=\"edge\">\n<title>cast away&#45;&gt;bait</title>\n<path fill=\"none\" stroke=\"black\" d=\"M43.67,-180.05C41.16,-172.06 38.1,-162.33 35.3,-153.4\"/>\n<polygon fill=\"black\" stroke=\"black\" points=\"38.61,-152.28 32.28,-143.79 31.94,-154.38 38.61,-152.28\"/>\n</g>\n<!-- cast away_R -->\n<g id=\"node6\" class=\"node\">\n<title>cast away_R</title>\n<ellipse fill=\"black\" stroke=\"black\" cx=\"72\" cy=\"-126\" rx=\"0\" ry=\"0\"/>\n</g>\n<!-- cast away&#45;&gt;cast away_R -->\n<g id=\"edge5\" class=\"edge\">\n<title>cast away&#45;&gt;cast away_R</title>\n<path fill=\"none\" stroke=\"black\" d=\"M54.57,-180.05C59,-166.57 65.05,-148.16 68.73,-136.95\"/>\n<polygon fill=\"black\" stroke=\"black\" points=\"72.17,-137.69 71.97,-127.09 65.52,-135.5 72.17,-137.69\"/>\n</g>\n<!-- bait_L -->\n<g id=\"node4\" class=\"node\">\n<title>bait_L</title>\n<ellipse fill=\"black\" stroke=\"black\" cx=\"14\" cy=\"-54\" rx=\"0\" ry=\"0\"/>\n</g>\n<!-- bait&#45;&gt;bait_L -->\n<g id=\"edge3\" class=\"edge\">\n<title>bait&#45;&gt;bait_L</title>\n<path fill=\"none\" stroke=\"black\" d=\"M23.85,-108.05C21.35,-94.57 17.93,-76.16 15.85,-64.95\"/>\n<polygon fill=\"black\" stroke=\"black\" points=\"19.28,-64.29 14.02,-55.09 12.4,-65.56 19.28,-64.29\"/>\n</g>\n<!-- bait_R -->\n<g id=\"node5\" class=\"node\">\n<title>bait_R</title>\n<ellipse fill=\"black\" stroke=\"black\" cx=\"32\" cy=\"-54\" rx=\"0\" ry=\"0\"/>\n</g>\n<!-- bait&#45;&gt;bait_R -->\n<g id=\"edge4\" class=\"edge\">\n<title>bait&#45;&gt;bait_R</title>\n<path fill=\"none\" stroke=\"black\" d=\"M28.24,-107.7C29.19,-94.36 30.47,-76.38 31.27,-65.24\"/>\n<polygon fill=\"black\" stroke=\"black\" points=\"34.77,-65.32 31.99,-55.09 27.79,-64.82 34.77,-65.32\"/>\n</g>\n<!-- loser -->\n<g id=\"node8\" class=\"node\">\n<title>loser</title>\n<ellipse fill=\"none\" stroke=\"black\" cx=\"126\" cy=\"-126\" rx=\"27.9\" ry=\"18\"/>\n<text text-anchor=\"middle\" x=\"126\" y=\"-122.3\" font-family=\"Times,serif\" font-size=\"14.00\">loser</text>\n</g>\n<!-- the perfect score&#45;&gt;loser -->\n<g id=\"edge7\" class=\"edge\">\n<title>the perfect score&#45;&gt;loser</title>\n<path fill=\"none\" stroke=\"black\" d=\"M168.44,-180.05C161.33,-171.17 152.51,-160.14 144.76,-150.45\"/>\n<polygon fill=\"black\" stroke=\"black\" points=\"147.27,-147.98 138.29,-142.36 141.8,-152.35 147.27,-147.98\"/>\n</g>\n<!-- what women want -->\n<g id=\"node13\" class=\"node\">\n<title>what women want</title>\n<ellipse fill=\"none\" stroke=\"black\" cx=\"248\" cy=\"-126\" rx=\"76.09\" ry=\"18\"/>\n<text text-anchor=\"middle\" x=\"248\" y=\"-122.3\" font-family=\"Times,serif\" font-size=\"14.00\">what women want</text>\n</g>\n<!-- the perfect score&#45;&gt;what women want -->\n<g id=\"edge12\" class=\"edge\">\n<title>the perfect score&#45;&gt;what women want</title>\n<path fill=\"none\" stroke=\"black\" d=\"M197.64,-180.41C205.82,-171.73 215.99,-160.95 225.05,-151.34\"/>\n<polygon fill=\"black\" stroke=\"black\" points=\"227.7,-153.63 232.01,-143.96 222.61,-148.83 227.7,-153.63\"/>\n</g>\n<!-- high crimes -->\n<g id=\"node9\" class=\"node\">\n<title>high crimes</title>\n<ellipse fill=\"none\" stroke=\"black\" cx=\"106\" cy=\"-54\" rx=\"52.79\" ry=\"18\"/>\n<text text-anchor=\"middle\" x=\"106\" y=\"-50.3\" font-family=\"Times,serif\" font-size=\"14.00\">high crimes</text>\n</g>\n<!-- loser&#45;&gt;high crimes -->\n<g id=\"edge8\" class=\"edge\">\n<title>loser&#45;&gt;high crimes</title>\n<path fill=\"none\" stroke=\"black\" d=\"M121.16,-108.05C118.93,-100.26 116.23,-90.82 113.74,-82.08\"/>\n<polygon fill=\"black\" stroke=\"black\" points=\"117.05,-80.93 110.94,-72.28 110.32,-82.85 117.05,-80.93\"/>\n</g>\n<!-- loser_R -->\n<g id=\"node12\" class=\"node\">\n<title>loser_R</title>\n<ellipse fill=\"black\" stroke=\"black\" cx=\"177\" cy=\"-54\" rx=\"0\" ry=\"0\"/>\n</g>\n<!-- loser&#45;&gt;loser_R -->\n<g id=\"edge11\" class=\"edge\">\n<title>loser&#45;&gt;loser_R</title>\n<path fill=\"none\" stroke=\"black\" d=\"M139.28,-109.79C147.96,-99.49 159.27,-85.37 168,-72 169.57,-69.59 171.11,-66.87 172.45,-64.33\"/>\n<polygon fill=\"black\" stroke=\"black\" points=\"175.71,-65.63 176.95,-55.11 169.42,-62.57 175.71,-65.63\"/>\n</g>\n<!-- high crimes_L -->\n<g id=\"node10\" class=\"node\">\n<title>high crimes_L</title>\n<ellipse fill=\"black\" stroke=\"black\" cx=\"97\" cy=\"0\" rx=\"0\" ry=\"0\"/>\n</g>\n<!-- high crimes&#45;&gt;high crimes_L -->\n<g id=\"edge9\" class=\"edge\">\n<title>high crimes&#45;&gt;high crimes_L</title>\n<path fill=\"none\" stroke=\"black\" d=\"M103.05,-35.97C101.62,-27.71 99.95,-18.07 98.73,-11\"/>\n<polygon fill=\"black\" stroke=\"black\" points=\"102.16,-10.31 97.01,-1.06 95.27,-11.51 102.16,-10.31\"/>\n</g>\n<!-- high crimes_R -->\n<g id=\"node11\" class=\"node\">\n<title>high crimes_R</title>\n<ellipse fill=\"black\" stroke=\"black\" cx=\"115\" cy=\"0\" rx=\"0\" ry=\"0\"/>\n</g>\n<!-- high crimes&#45;&gt;high crimes_R -->\n<g id=\"edge10\" class=\"edge\">\n<title>high crimes&#45;&gt;high crimes_R</title>\n<path fill=\"none\" stroke=\"black\" d=\"M108.95,-35.97C110.38,-27.71 112.05,-18.07 113.27,-11\"/>\n<polygon fill=\"black\" stroke=\"black\" points=\"116.73,-11.51 114.99,-1.06 109.84,-10.31 116.73,-11.51\"/>\n</g>\n<!-- the pianist -->\n<g id=\"node14\" class=\"node\">\n<title>the pianist</title>\n<ellipse fill=\"none\" stroke=\"black\" cx=\"243\" cy=\"-54\" rx=\"47.39\" ry=\"18\"/>\n<text text-anchor=\"middle\" x=\"243\" y=\"-50.3\" font-family=\"Times,serif\" font-size=\"14.00\">the pianist</text>\n</g>\n<!-- what women want&#45;&gt;the pianist -->\n<g id=\"edge13\" class=\"edge\">\n<title>what women want&#45;&gt;the pianist</title>\n<path fill=\"none\" stroke=\"black\" d=\"M246.76,-107.7C246.21,-99.98 245.55,-90.71 244.94,-82.11\"/>\n<polygon fill=\"black\" stroke=\"black\" points=\"248.43,-81.83 244.22,-72.1 241.44,-82.33 248.43,-81.83\"/>\n</g>\n<!-- what women want_R -->\n<g id=\"node17\" class=\"node\">\n<title>what women want_R</title>\n<ellipse fill=\"black\" stroke=\"black\" cx=\"308\" cy=\"-54\" rx=\"0\" ry=\"0\"/>\n</g>\n<!-- what women want&#45;&gt;what women want_R -->\n<g id=\"edge16\" class=\"edge\">\n<title>what women want&#45;&gt;what women want_R</title>\n<path fill=\"none\" stroke=\"black\" d=\"M266.31,-108.43C276.67,-98.49 289.42,-85.24 299,-72 300.69,-69.67 302.26,-66.98 303.6,-64.43\"/>\n<polygon fill=\"black\" stroke=\"black\" points=\"306.9,-65.66 307.95,-55.11 300.55,-62.7 306.9,-65.66\"/>\n</g>\n<!-- the pianist_L -->\n<g id=\"node15\" class=\"node\">\n<title>the pianist_L</title>\n<ellipse fill=\"black\" stroke=\"black\" cx=\"234\" cy=\"0\" rx=\"0\" ry=\"0\"/>\n</g>\n<!-- the pianist&#45;&gt;the pianist_L -->\n<g id=\"edge14\" class=\"edge\">\n<title>the pianist&#45;&gt;the pianist_L</title>\n<path fill=\"none\" stroke=\"black\" d=\"M240.05,-35.97C238.62,-27.71 236.95,-18.07 235.73,-11\"/>\n<polygon fill=\"black\" stroke=\"black\" points=\"239.16,-10.31 234.01,-1.06 232.27,-11.51 239.16,-10.31\"/>\n</g>\n<!-- the pianist_R -->\n<g id=\"node16\" class=\"node\">\n<title>the pianist_R</title>\n<ellipse fill=\"black\" stroke=\"black\" cx=\"252\" cy=\"0\" rx=\"0\" ry=\"0\"/>\n</g>\n<!-- the pianist&#45;&gt;the pianist_R -->\n<g id=\"edge15\" class=\"edge\">\n<title>the pianist&#45;&gt;the pianist_R</title>\n<path fill=\"none\" stroke=\"black\" d=\"M245.95,-35.97C247.38,-27.71 249.05,-18.07 250.27,-11\"/>\n<polygon fill=\"black\" stroke=\"black\" points=\"253.73,-11.51 251.99,-1.06 246.84,-10.31 253.73,-11.51\"/>\n</g>\n</g>\n</svg>\n",
            "text/plain": [
              "<graphviz.graphs.Digraph at 0x7b781c31e3e0>"
            ]
          },
          "metadata": {}
        },
        {
          "output_type": "stream",
          "name": "stdout",
          "text": [
            "Se añadió la película: pinocchio\n"
          ]
        },
        {
          "output_type": "display_data",
          "data": {
            "image/svg+xml": "<?xml version=\"1.0\" encoding=\"UTF-8\" standalone=\"no\"?>\n<!DOCTYPE svg PUBLIC \"-//W3C//DTD SVG 1.1//EN\"\n \"http://www.w3.org/Graphics/SVG/1.1/DTD/svg11.dtd\">\n<!-- Generated by graphviz version 2.43.0 (0)\n -->\n<!-- Title: %3 Pages: 1 -->\n<svg width=\"410pt\" height=\"296pt\"\n viewBox=\"0.00 0.00 410.04 296.00\" xmlns=\"http://www.w3.org/2000/svg\" xmlns:xlink=\"http://www.w3.org/1999/xlink\">\n<g id=\"graph0\" class=\"graph\" transform=\"scale(1 1) rotate(0) translate(4 292)\">\n<title>%3</title>\n<polygon fill=\"white\" stroke=\"transparent\" points=\"-4,4 -4,-292 406.04,-292 406.04,4 -4,4\"/>\n<!-- dinosaur -->\n<g id=\"node1\" class=\"node\">\n<title>dinosaur</title>\n<ellipse fill=\"none\" stroke=\"black\" cx=\"137\" cy=\"-270\" rx=\"40.89\" ry=\"18\"/>\n<text text-anchor=\"middle\" x=\"137\" y=\"-266.3\" font-family=\"Times,serif\" font-size=\"14.00\">dinosaur</text>\n</g>\n<!-- cast away -->\n<g id=\"node2\" class=\"node\">\n<title>cast away</title>\n<ellipse fill=\"none\" stroke=\"black\" cx=\"71\" cy=\"-198\" rx=\"45.49\" ry=\"18\"/>\n<text text-anchor=\"middle\" x=\"71\" y=\"-194.3\" font-family=\"Times,serif\" font-size=\"14.00\">cast away</text>\n</g>\n<!-- dinosaur&#45;&gt;cast away -->\n<g id=\"edge1\" class=\"edge\">\n<title>dinosaur&#45;&gt;cast away</title>\n<path fill=\"none\" stroke=\"black\" d=\"M122.02,-253.12C113.54,-244.12 102.76,-232.68 93.29,-222.65\"/>\n<polygon fill=\"black\" stroke=\"black\" points=\"95.78,-220.18 86.38,-215.31 90.69,-224.98 95.78,-220.18\"/>\n</g>\n<!-- the perfect score -->\n<g id=\"node7\" class=\"node\">\n<title>the perfect score</title>\n<ellipse fill=\"none\" stroke=\"black\" cx=\"204\" cy=\"-198\" rx=\"69.59\" ry=\"18\"/>\n<text text-anchor=\"middle\" x=\"204\" y=\"-194.3\" font-family=\"Times,serif\" font-size=\"14.00\">the perfect score</text>\n</g>\n<!-- dinosaur&#45;&gt;the perfect score -->\n<g id=\"edge6\" class=\"edge\">\n<title>dinosaur&#45;&gt;the perfect score</title>\n<path fill=\"none\" stroke=\"black\" d=\"M152.2,-253.12C160.69,-244.24 171.45,-233.01 180.95,-223.08\"/>\n<polygon fill=\"black\" stroke=\"black\" points=\"183.54,-225.44 187.92,-215.8 178.48,-220.6 183.54,-225.44\"/>\n</g>\n<!-- bait -->\n<g id=\"node3\" class=\"node\">\n<title>bait</title>\n<ellipse fill=\"none\" stroke=\"black\" cx=\"27\" cy=\"-126\" rx=\"27\" ry=\"18\"/>\n<text text-anchor=\"middle\" x=\"27\" y=\"-122.3\" font-family=\"Times,serif\" font-size=\"14.00\">bait</text>\n</g>\n<!-- cast away&#45;&gt;bait -->\n<g id=\"edge2\" class=\"edge\">\n<title>cast away&#45;&gt;bait</title>\n<path fill=\"none\" stroke=\"black\" d=\"M60.57,-180.41C55.18,-171.83 48.49,-161.19 42.51,-151.67\"/>\n<polygon fill=\"black\" stroke=\"black\" points=\"45.33,-149.59 37.05,-142.99 39.41,-153.32 45.33,-149.59\"/>\n</g>\n<!-- cast away_R -->\n<g id=\"node6\" class=\"node\">\n<title>cast away_R</title>\n<ellipse fill=\"black\" stroke=\"black\" cx=\"72\" cy=\"-126\" rx=\"0\" ry=\"0\"/>\n</g>\n<!-- cast away&#45;&gt;cast away_R -->\n<g id=\"edge5\" class=\"edge\">\n<title>cast away&#45;&gt;cast away_R</title>\n<path fill=\"none\" stroke=\"black\" d=\"M71.25,-179.7C71.44,-166.36 71.69,-148.38 71.85,-137.24\"/>\n<polygon fill=\"black\" stroke=\"black\" points=\"75.36,-137.14 72,-127.09 68.36,-137.04 75.36,-137.14\"/>\n</g>\n<!-- bait_L -->\n<g id=\"node4\" class=\"node\">\n<title>bait_L</title>\n<ellipse fill=\"black\" stroke=\"black\" cx=\"10\" cy=\"-54\" rx=\"0\" ry=\"0\"/>\n</g>\n<!-- bait&#45;&gt;bait_L -->\n<g id=\"edge3\" class=\"edge\">\n<title>bait&#45;&gt;bait_L</title>\n<path fill=\"none\" stroke=\"black\" d=\"M22.88,-108.05C19.61,-94.57 15.14,-76.16 12.42,-64.95\"/>\n<polygon fill=\"black\" stroke=\"black\" points=\"15.78,-63.98 10.02,-55.09 8.98,-65.64 15.78,-63.98\"/>\n</g>\n<!-- bait_R -->\n<g id=\"node5\" class=\"node\">\n<title>bait_R</title>\n<ellipse fill=\"black\" stroke=\"black\" cx=\"28\" cy=\"-54\" rx=\"0\" ry=\"0\"/>\n</g>\n<!-- bait&#45;&gt;bait_R -->\n<g id=\"edge4\" class=\"edge\">\n<title>bait&#45;&gt;bait_R</title>\n<path fill=\"none\" stroke=\"black\" d=\"M27.25,-107.7C27.44,-94.36 27.69,-76.38 27.85,-65.24\"/>\n<polygon fill=\"black\" stroke=\"black\" points=\"31.36,-65.14 28,-55.09 24.36,-65.04 31.36,-65.14\"/>\n</g>\n<!-- loser -->\n<g id=\"node8\" class=\"node\">\n<title>loser</title>\n<ellipse fill=\"none\" stroke=\"black\" cx=\"204\" cy=\"-126\" rx=\"27.9\" ry=\"18\"/>\n<text text-anchor=\"middle\" x=\"204\" y=\"-122.3\" font-family=\"Times,serif\" font-size=\"14.00\">loser</text>\n</g>\n<!-- the perfect score&#45;&gt;loser -->\n<g id=\"edge7\" class=\"edge\">\n<title>the perfect score&#45;&gt;loser</title>\n<path fill=\"none\" stroke=\"black\" d=\"M204,-179.7C204,-171.98 204,-162.71 204,-154.11\"/>\n<polygon fill=\"black\" stroke=\"black\" points=\"207.5,-154.1 204,-144.1 200.5,-154.1 207.5,-154.1\"/>\n</g>\n<!-- what women want -->\n<g id=\"node15\" class=\"node\">\n<title>what women want</title>\n<ellipse fill=\"none\" stroke=\"black\" cx=\"326\" cy=\"-126\" rx=\"76.09\" ry=\"18\"/>\n<text text-anchor=\"middle\" x=\"326\" y=\"-122.3\" font-family=\"Times,serif\" font-size=\"14.00\">what women want</text>\n</g>\n<!-- the perfect score&#45;&gt;what women want -->\n<g id=\"edge14\" class=\"edge\">\n<title>the perfect score&#45;&gt;what women want</title>\n<path fill=\"none\" stroke=\"black\" d=\"M231.38,-181.29C248.53,-171.45 270.83,-158.66 289.47,-147.96\"/>\n<polygon fill=\"black\" stroke=\"black\" points=\"291.36,-150.91 298.29,-142.9 287.87,-144.84 291.36,-150.91\"/>\n</g>\n<!-- high crimes -->\n<g id=\"node9\" class=\"node\">\n<title>high crimes</title>\n<ellipse fill=\"none\" stroke=\"black\" cx=\"99\" cy=\"-54\" rx=\"52.79\" ry=\"18\"/>\n<text text-anchor=\"middle\" x=\"99\" y=\"-50.3\" font-family=\"Times,serif\" font-size=\"14.00\">high crimes</text>\n</g>\n<!-- loser&#45;&gt;high crimes -->\n<g id=\"edge8\" class=\"edge\">\n<title>loser&#45;&gt;high crimes</title>\n<path fill=\"none\" stroke=\"black\" d=\"M185.23,-112.49C170.02,-102.35 148.26,-87.84 130.41,-75.94\"/>\n<polygon fill=\"black\" stroke=\"black\" points=\"132.27,-72.97 122.01,-70.34 128.39,-78.8 132.27,-72.97\"/>\n</g>\n<!-- pinocchio -->\n<g id=\"node12\" class=\"node\">\n<title>pinocchio</title>\n<ellipse fill=\"none\" stroke=\"black\" cx=\"215\" cy=\"-54\" rx=\"45.49\" ry=\"18\"/>\n<text text-anchor=\"middle\" x=\"215\" y=\"-50.3\" font-family=\"Times,serif\" font-size=\"14.00\">pinocchio</text>\n</g>\n<!-- loser&#45;&gt;pinocchio -->\n<g id=\"edge11\" class=\"edge\">\n<title>loser&#45;&gt;pinocchio</title>\n<path fill=\"none\" stroke=\"black\" d=\"M206.66,-108.05C207.87,-100.35 209.34,-91.03 210.7,-82.36\"/>\n<polygon fill=\"black\" stroke=\"black\" points=\"214.19,-82.7 212.29,-72.28 207.28,-81.61 214.19,-82.7\"/>\n</g>\n<!-- high crimes_L -->\n<g id=\"node10\" class=\"node\">\n<title>high crimes_L</title>\n<ellipse fill=\"black\" stroke=\"black\" cx=\"90\" cy=\"0\" rx=\"0\" ry=\"0\"/>\n</g>\n<!-- high crimes&#45;&gt;high crimes_L -->\n<g id=\"edge9\" class=\"edge\">\n<title>high crimes&#45;&gt;high crimes_L</title>\n<path fill=\"none\" stroke=\"black\" d=\"M96.05,-35.97C94.62,-27.71 92.95,-18.07 91.73,-11\"/>\n<polygon fill=\"black\" stroke=\"black\" points=\"95.16,-10.31 90.01,-1.06 88.27,-11.51 95.16,-10.31\"/>\n</g>\n<!-- high crimes_R -->\n<g id=\"node11\" class=\"node\">\n<title>high crimes_R</title>\n<ellipse fill=\"black\" stroke=\"black\" cx=\"108\" cy=\"0\" rx=\"0\" ry=\"0\"/>\n</g>\n<!-- high crimes&#45;&gt;high crimes_R -->\n<g id=\"edge10\" class=\"edge\">\n<title>high crimes&#45;&gt;high crimes_R</title>\n<path fill=\"none\" stroke=\"black\" d=\"M101.95,-35.97C103.38,-27.71 105.05,-18.07 106.27,-11\"/>\n<polygon fill=\"black\" stroke=\"black\" points=\"109.73,-11.51 107.99,-1.06 102.84,-10.31 109.73,-11.51\"/>\n</g>\n<!-- pinocchio_L -->\n<g id=\"node13\" class=\"node\">\n<title>pinocchio_L</title>\n<ellipse fill=\"black\" stroke=\"black\" cx=\"206\" cy=\"0\" rx=\"0\" ry=\"0\"/>\n</g>\n<!-- pinocchio&#45;&gt;pinocchio_L -->\n<g id=\"edge12\" class=\"edge\">\n<title>pinocchio&#45;&gt;pinocchio_L</title>\n<path fill=\"none\" stroke=\"black\" d=\"M212.05,-35.97C210.62,-27.71 208.95,-18.07 207.73,-11\"/>\n<polygon fill=\"black\" stroke=\"black\" points=\"211.16,-10.31 206.01,-1.06 204.27,-11.51 211.16,-10.31\"/>\n</g>\n<!-- pinocchio_R -->\n<g id=\"node14\" class=\"node\">\n<title>pinocchio_R</title>\n<ellipse fill=\"black\" stroke=\"black\" cx=\"224\" cy=\"0\" rx=\"0\" ry=\"0\"/>\n</g>\n<!-- pinocchio&#45;&gt;pinocchio_R -->\n<g id=\"edge13\" class=\"edge\">\n<title>pinocchio&#45;&gt;pinocchio_R</title>\n<path fill=\"none\" stroke=\"black\" d=\"M217.95,-35.97C219.38,-27.71 221.05,-18.07 222.27,-11\"/>\n<polygon fill=\"black\" stroke=\"black\" points=\"225.73,-11.51 223.99,-1.06 218.84,-10.31 225.73,-11.51\"/>\n</g>\n<!-- the pianist -->\n<g id=\"node16\" class=\"node\">\n<title>the pianist</title>\n<ellipse fill=\"none\" stroke=\"black\" cx=\"326\" cy=\"-54\" rx=\"47.39\" ry=\"18\"/>\n<text text-anchor=\"middle\" x=\"326\" y=\"-50.3\" font-family=\"Times,serif\" font-size=\"14.00\">the pianist</text>\n</g>\n<!-- what women want&#45;&gt;the pianist -->\n<g id=\"edge15\" class=\"edge\">\n<title>what women want&#45;&gt;the pianist</title>\n<path fill=\"none\" stroke=\"black\" d=\"M326,-107.7C326,-99.98 326,-90.71 326,-82.11\"/>\n<polygon fill=\"black\" stroke=\"black\" points=\"329.5,-82.1 326,-72.1 322.5,-82.1 329.5,-82.1\"/>\n</g>\n<!-- what women want_R -->\n<g id=\"node19\" class=\"node\">\n<title>what women want_R</title>\n<ellipse fill=\"black\" stroke=\"black\" cx=\"391\" cy=\"-54\" rx=\"0\" ry=\"0\"/>\n</g>\n<!-- what women want&#45;&gt;what women want_R -->\n<g id=\"edge18\" class=\"edge\">\n<title>what women want&#45;&gt;what women want_R</title>\n<path fill=\"none\" stroke=\"black\" d=\"M346.49,-108.5C357.85,-98.68 371.71,-85.53 382,-72 383.74,-69.71 385.33,-67.03 386.68,-64.49\"/>\n<polygon fill=\"black\" stroke=\"black\" points=\"389.98,-65.67 390.96,-55.12 383.62,-62.76 389.98,-65.67\"/>\n</g>\n<!-- the pianist_L -->\n<g id=\"node17\" class=\"node\">\n<title>the pianist_L</title>\n<ellipse fill=\"black\" stroke=\"black\" cx=\"317\" cy=\"0\" rx=\"0\" ry=\"0\"/>\n</g>\n<!-- the pianist&#45;&gt;the pianist_L -->\n<g id=\"edge16\" class=\"edge\">\n<title>the pianist&#45;&gt;the pianist_L</title>\n<path fill=\"none\" stroke=\"black\" d=\"M323.05,-35.97C321.62,-27.71 319.95,-18.07 318.73,-11\"/>\n<polygon fill=\"black\" stroke=\"black\" points=\"322.16,-10.31 317.01,-1.06 315.27,-11.51 322.16,-10.31\"/>\n</g>\n<!-- the pianist_R -->\n<g id=\"node18\" class=\"node\">\n<title>the pianist_R</title>\n<ellipse fill=\"black\" stroke=\"black\" cx=\"335\" cy=\"0\" rx=\"0\" ry=\"0\"/>\n</g>\n<!-- the pianist&#45;&gt;the pianist_R -->\n<g id=\"edge17\" class=\"edge\">\n<title>the pianist&#45;&gt;the pianist_R</title>\n<path fill=\"none\" stroke=\"black\" d=\"M328.95,-35.97C330.38,-27.71 332.05,-18.07 333.27,-11\"/>\n<polygon fill=\"black\" stroke=\"black\" points=\"336.73,-11.51 334.99,-1.06 329.84,-10.31 336.73,-11.51\"/>\n</g>\n</g>\n</svg>\n",
            "text/plain": [
              "<graphviz.graphs.Digraph at 0x7b781c31f610>"
            ]
          },
          "metadata": {}
        },
        {
          "output_type": "stream",
          "name": "stdout",
          "text": [
            "Se añadió la película: van wilder\n"
          ]
        },
        {
          "output_type": "display_data",
          "data": {
            "image/svg+xml": "<?xml version=\"1.0\" encoding=\"UTF-8\" standalone=\"no\"?>\n<!DOCTYPE svg PUBLIC \"-//W3C//DTD SVG 1.1//EN\"\n \"http://www.w3.org/Graphics/SVG/1.1/DTD/svg11.dtd\">\n<!-- Generated by graphviz version 2.43.0 (0)\n -->\n<!-- Title: %3 Pages: 1 -->\n<svg width=\"550pt\" height=\"296pt\"\n viewBox=\"0.00 0.00 550.04 296.00\" xmlns=\"http://www.w3.org/2000/svg\" xmlns:xlink=\"http://www.w3.org/1999/xlink\">\n<g id=\"graph0\" class=\"graph\" transform=\"scale(1 1) rotate(0) translate(4 292)\">\n<title>%3</title>\n<polygon fill=\"white\" stroke=\"transparent\" points=\"-4,4 -4,-292 546.04,-292 546.04,4 -4,4\"/>\n<!-- dinosaur -->\n<g id=\"node1\" class=\"node\">\n<title>dinosaur</title>\n<ellipse fill=\"none\" stroke=\"black\" cx=\"145\" cy=\"-270\" rx=\"40.89\" ry=\"18\"/>\n<text text-anchor=\"middle\" x=\"145\" y=\"-266.3\" font-family=\"Times,serif\" font-size=\"14.00\">dinosaur</text>\n</g>\n<!-- cast away -->\n<g id=\"node2\" class=\"node\">\n<title>cast away</title>\n<ellipse fill=\"none\" stroke=\"black\" cx=\"74\" cy=\"-198\" rx=\"45.49\" ry=\"18\"/>\n<text text-anchor=\"middle\" x=\"74\" y=\"-194.3\" font-family=\"Times,serif\" font-size=\"14.00\">cast away</text>\n</g>\n<!-- dinosaur&#45;&gt;cast away -->\n<g id=\"edge1\" class=\"edge\">\n<title>dinosaur&#45;&gt;cast away</title>\n<path fill=\"none\" stroke=\"black\" d=\"M128.89,-253.12C119.67,-244.03 107.94,-232.46 97.68,-222.35\"/>\n<polygon fill=\"black\" stroke=\"black\" points=\"100.12,-219.84 90.54,-215.31 95.2,-224.82 100.12,-219.84\"/>\n</g>\n<!-- the perfect score -->\n<g id=\"node7\" class=\"node\">\n<title>the perfect score</title>\n<ellipse fill=\"none\" stroke=\"black\" cx=\"210\" cy=\"-198\" rx=\"69.59\" ry=\"18\"/>\n<text text-anchor=\"middle\" x=\"210\" y=\"-194.3\" font-family=\"Times,serif\" font-size=\"14.00\">the perfect score</text>\n</g>\n<!-- dinosaur&#45;&gt;the perfect score -->\n<g id=\"edge6\" class=\"edge\">\n<title>dinosaur&#45;&gt;the perfect score</title>\n<path fill=\"none\" stroke=\"black\" d=\"M159.75,-253.12C167.91,-244.33 178.22,-233.23 187.37,-223.37\"/>\n<polygon fill=\"black\" stroke=\"black\" points=\"190.16,-225.51 194.4,-215.8 185.03,-220.74 190.16,-225.51\"/>\n</g>\n<!-- bait -->\n<g id=\"node3\" class=\"node\">\n<title>bait</title>\n<ellipse fill=\"none\" stroke=\"black\" cx=\"27\" cy=\"-126\" rx=\"27\" ry=\"18\"/>\n<text text-anchor=\"middle\" x=\"27\" y=\"-122.3\" font-family=\"Times,serif\" font-size=\"14.00\">bait</text>\n</g>\n<!-- cast away&#45;&gt;bait -->\n<g id=\"edge2\" class=\"edge\">\n<title>cast away&#45;&gt;bait</title>\n<path fill=\"none\" stroke=\"black\" d=\"M62.86,-180.41C57.04,-171.74 49.81,-160.97 43.37,-151.38\"/>\n<polygon fill=\"black\" stroke=\"black\" points=\"46.22,-149.34 37.73,-142.99 40.4,-153.24 46.22,-149.34\"/>\n</g>\n<!-- cast away_R -->\n<g id=\"node6\" class=\"node\">\n<title>cast away_R</title>\n<ellipse fill=\"black\" stroke=\"black\" cx=\"74\" cy=\"-126\" rx=\"0\" ry=\"0\"/>\n</g>\n<!-- cast away&#45;&gt;cast away_R -->\n<g id=\"edge5\" class=\"edge\">\n<title>cast away&#45;&gt;cast away_R</title>\n<path fill=\"none\" stroke=\"black\" d=\"M74,-179.7C74,-166.36 74,-148.38 74,-137.24\"/>\n<polygon fill=\"black\" stroke=\"black\" points=\"77.5,-137.09 74,-127.09 70.5,-137.09 77.5,-137.09\"/>\n</g>\n<!-- bait_L -->\n<g id=\"node4\" class=\"node\">\n<title>bait_L</title>\n<ellipse fill=\"black\" stroke=\"black\" cx=\"9\" cy=\"-54\" rx=\"0\" ry=\"0\"/>\n</g>\n<!-- bait&#45;&gt;bait_L -->\n<g id=\"edge3\" class=\"edge\">\n<title>bait&#45;&gt;bait_L</title>\n<path fill=\"none\" stroke=\"black\" d=\"M22.64,-108.05C19.18,-94.57 14.44,-76.16 11.56,-64.95\"/>\n<polygon fill=\"black\" stroke=\"black\" points=\"14.9,-63.91 9.02,-55.09 8.12,-65.65 14.9,-63.91\"/>\n</g>\n<!-- bait_R -->\n<g id=\"node5\" class=\"node\">\n<title>bait_R</title>\n<ellipse fill=\"black\" stroke=\"black\" cx=\"27\" cy=\"-54\" rx=\"0\" ry=\"0\"/>\n</g>\n<!-- bait&#45;&gt;bait_R -->\n<g id=\"edge4\" class=\"edge\">\n<title>bait&#45;&gt;bait_R</title>\n<path fill=\"none\" stroke=\"black\" d=\"M27,-107.7C27,-94.36 27,-76.38 27,-65.24\"/>\n<polygon fill=\"black\" stroke=\"black\" points=\"30.5,-65.09 27,-55.09 23.5,-65.09 30.5,-65.09\"/>\n</g>\n<!-- loser -->\n<g id=\"node8\" class=\"node\">\n<title>loser</title>\n<ellipse fill=\"none\" stroke=\"black\" cx=\"210\" cy=\"-126\" rx=\"27.9\" ry=\"18\"/>\n<text text-anchor=\"middle\" x=\"210\" y=\"-122.3\" font-family=\"Times,serif\" font-size=\"14.00\">loser</text>\n</g>\n<!-- the perfect score&#45;&gt;loser -->\n<g id=\"edge7\" class=\"edge\">\n<title>the perfect score&#45;&gt;loser</title>\n<path fill=\"none\" stroke=\"black\" d=\"M210,-179.7C210,-171.98 210,-162.71 210,-154.11\"/>\n<polygon fill=\"black\" stroke=\"black\" points=\"213.5,-154.1 210,-144.1 206.5,-154.1 213.5,-154.1\"/>\n</g>\n<!-- van wilder -->\n<g id=\"node15\" class=\"node\">\n<title>van wilder</title>\n<ellipse fill=\"none\" stroke=\"black\" cx=\"325\" cy=\"-126\" rx=\"48.19\" ry=\"18\"/>\n<text text-anchor=\"middle\" x=\"325\" y=\"-122.3\" font-family=\"Times,serif\" font-size=\"14.00\">van wilder</text>\n</g>\n<!-- the perfect score&#45;&gt;van wilder -->\n<g id=\"edge14\" class=\"edge\">\n<title>the perfect score&#45;&gt;van wilder</title>\n<path fill=\"none\" stroke=\"black\" d=\"M236.1,-181.12C252.69,-171.02 274.31,-157.86 292.08,-147.04\"/>\n<polygon fill=\"black\" stroke=\"black\" points=\"294.25,-149.82 300.97,-141.63 290.61,-143.84 294.25,-149.82\"/>\n</g>\n<!-- high crimes -->\n<g id=\"node9\" class=\"node\">\n<title>high crimes</title>\n<ellipse fill=\"none\" stroke=\"black\" cx=\"98\" cy=\"-54\" rx=\"52.79\" ry=\"18\"/>\n<text text-anchor=\"middle\" x=\"98\" y=\"-50.3\" font-family=\"Times,serif\" font-size=\"14.00\">high crimes</text>\n</g>\n<!-- loser&#45;&gt;high crimes -->\n<g id=\"edge8\" class=\"edge\">\n<title>loser&#45;&gt;high crimes</title>\n<path fill=\"none\" stroke=\"black\" d=\"M190.49,-112.81C174.08,-102.55 150.26,-87.66 130.9,-75.56\"/>\n<polygon fill=\"black\" stroke=\"black\" points=\"132.7,-72.56 122.36,-70.23 128.99,-78.49 132.7,-72.56\"/>\n</g>\n<!-- pinocchio -->\n<g id=\"node12\" class=\"node\">\n<title>pinocchio</title>\n<ellipse fill=\"none\" stroke=\"black\" cx=\"214\" cy=\"-54\" rx=\"45.49\" ry=\"18\"/>\n<text text-anchor=\"middle\" x=\"214\" y=\"-50.3\" font-family=\"Times,serif\" font-size=\"14.00\">pinocchio</text>\n</g>\n<!-- loser&#45;&gt;pinocchio -->\n<g id=\"edge11\" class=\"edge\">\n<title>loser&#45;&gt;pinocchio</title>\n<path fill=\"none\" stroke=\"black\" d=\"M210.99,-107.7C211.43,-99.98 211.96,-90.71 212.45,-82.11\"/>\n<polygon fill=\"black\" stroke=\"black\" points=\"215.95,-82.29 213.02,-72.1 208.96,-81.89 215.95,-82.29\"/>\n</g>\n<!-- high crimes_L -->\n<g id=\"node10\" class=\"node\">\n<title>high crimes_L</title>\n<ellipse fill=\"black\" stroke=\"black\" cx=\"89\" cy=\"0\" rx=\"0\" ry=\"0\"/>\n</g>\n<!-- high crimes&#45;&gt;high crimes_L -->\n<g id=\"edge9\" class=\"edge\">\n<title>high crimes&#45;&gt;high crimes_L</title>\n<path fill=\"none\" stroke=\"black\" d=\"M95.05,-35.97C93.62,-27.71 91.95,-18.07 90.73,-11\"/>\n<polygon fill=\"black\" stroke=\"black\" points=\"94.16,-10.31 89.01,-1.06 87.27,-11.51 94.16,-10.31\"/>\n</g>\n<!-- high crimes_R -->\n<g id=\"node11\" class=\"node\">\n<title>high crimes_R</title>\n<ellipse fill=\"black\" stroke=\"black\" cx=\"107\" cy=\"0\" rx=\"0\" ry=\"0\"/>\n</g>\n<!-- high crimes&#45;&gt;high crimes_R -->\n<g id=\"edge10\" class=\"edge\">\n<title>high crimes&#45;&gt;high crimes_R</title>\n<path fill=\"none\" stroke=\"black\" d=\"M100.95,-35.97C102.38,-27.71 104.05,-18.07 105.27,-11\"/>\n<polygon fill=\"black\" stroke=\"black\" points=\"108.73,-11.51 106.99,-1.06 101.84,-10.31 108.73,-11.51\"/>\n</g>\n<!-- pinocchio_L -->\n<g id=\"node13\" class=\"node\">\n<title>pinocchio_L</title>\n<ellipse fill=\"black\" stroke=\"black\" cx=\"205\" cy=\"0\" rx=\"0\" ry=\"0\"/>\n</g>\n<!-- pinocchio&#45;&gt;pinocchio_L -->\n<g id=\"edge12\" class=\"edge\">\n<title>pinocchio&#45;&gt;pinocchio_L</title>\n<path fill=\"none\" stroke=\"black\" d=\"M211.05,-35.97C209.62,-27.71 207.95,-18.07 206.73,-11\"/>\n<polygon fill=\"black\" stroke=\"black\" points=\"210.16,-10.31 205.01,-1.06 203.27,-11.51 210.16,-10.31\"/>\n</g>\n<!-- pinocchio_R -->\n<g id=\"node14\" class=\"node\">\n<title>pinocchio_R</title>\n<ellipse fill=\"black\" stroke=\"black\" cx=\"223\" cy=\"0\" rx=\"0\" ry=\"0\"/>\n</g>\n<!-- pinocchio&#45;&gt;pinocchio_R -->\n<g id=\"edge13\" class=\"edge\">\n<title>pinocchio&#45;&gt;pinocchio_R</title>\n<path fill=\"none\" stroke=\"black\" d=\"M216.95,-35.97C218.38,-27.71 220.05,-18.07 221.27,-11\"/>\n<polygon fill=\"black\" stroke=\"black\" points=\"224.73,-11.51 222.99,-1.06 217.84,-10.31 224.73,-11.51\"/>\n</g>\n<!-- the pianist -->\n<g id=\"node16\" class=\"node\">\n<title>the pianist</title>\n<ellipse fill=\"none\" stroke=\"black\" cx=\"325\" cy=\"-54\" rx=\"47.39\" ry=\"18\"/>\n<text text-anchor=\"middle\" x=\"325\" y=\"-50.3\" font-family=\"Times,serif\" font-size=\"14.00\">the pianist</text>\n</g>\n<!-- van wilder&#45;&gt;the pianist -->\n<g id=\"edge15\" class=\"edge\">\n<title>van wilder&#45;&gt;the pianist</title>\n<path fill=\"none\" stroke=\"black\" d=\"M325,-107.7C325,-99.98 325,-90.71 325,-82.11\"/>\n<polygon fill=\"black\" stroke=\"black\" points=\"328.5,-82.1 325,-72.1 321.5,-82.1 328.5,-82.1\"/>\n</g>\n<!-- what women want -->\n<g id=\"node19\" class=\"node\">\n<title>what women want</title>\n<ellipse fill=\"none\" stroke=\"black\" cx=\"466\" cy=\"-54\" rx=\"76.09\" ry=\"18\"/>\n<text text-anchor=\"middle\" x=\"466\" y=\"-50.3\" font-family=\"Times,serif\" font-size=\"14.00\">what women want</text>\n</g>\n<!-- van wilder&#45;&gt;what women want -->\n<g id=\"edge18\" class=\"edge\">\n<title>van wilder&#45;&gt;what women want</title>\n<path fill=\"none\" stroke=\"black\" d=\"M352.86,-111.17C373.69,-100.83 402.47,-86.54 425.8,-74.96\"/>\n<polygon fill=\"black\" stroke=\"black\" points=\"427.36,-78.09 434.76,-70.51 424.25,-71.82 427.36,-78.09\"/>\n</g>\n<!-- the pianist_L -->\n<g id=\"node17\" class=\"node\">\n<title>the pianist_L</title>\n<ellipse fill=\"black\" stroke=\"black\" cx=\"316\" cy=\"0\" rx=\"0\" ry=\"0\"/>\n</g>\n<!-- the pianist&#45;&gt;the pianist_L -->\n<g id=\"edge16\" class=\"edge\">\n<title>the pianist&#45;&gt;the pianist_L</title>\n<path fill=\"none\" stroke=\"black\" d=\"M322.05,-35.97C320.62,-27.71 318.95,-18.07 317.73,-11\"/>\n<polygon fill=\"black\" stroke=\"black\" points=\"321.16,-10.31 316.01,-1.06 314.27,-11.51 321.16,-10.31\"/>\n</g>\n<!-- the pianist_R -->\n<g id=\"node18\" class=\"node\">\n<title>the pianist_R</title>\n<ellipse fill=\"black\" stroke=\"black\" cx=\"334\" cy=\"0\" rx=\"0\" ry=\"0\"/>\n</g>\n<!-- the pianist&#45;&gt;the pianist_R -->\n<g id=\"edge17\" class=\"edge\">\n<title>the pianist&#45;&gt;the pianist_R</title>\n<path fill=\"none\" stroke=\"black\" d=\"M327.95,-35.97C329.38,-27.71 331.05,-18.07 332.27,-11\"/>\n<polygon fill=\"black\" stroke=\"black\" points=\"335.73,-11.51 333.99,-1.06 328.84,-10.31 335.73,-11.51\"/>\n</g>\n<!-- what women want_L -->\n<g id=\"node20\" class=\"node\">\n<title>what women want_L</title>\n<ellipse fill=\"black\" stroke=\"black\" cx=\"457\" cy=\"0\" rx=\"0\" ry=\"0\"/>\n</g>\n<!-- what women want&#45;&gt;what women want_L -->\n<g id=\"edge19\" class=\"edge\">\n<title>what women want&#45;&gt;what women want_L</title>\n<path fill=\"none\" stroke=\"black\" d=\"M463.05,-35.97C461.62,-27.71 459.95,-18.07 458.73,-11\"/>\n<polygon fill=\"black\" stroke=\"black\" points=\"462.16,-10.31 457.01,-1.06 455.27,-11.51 462.16,-10.31\"/>\n</g>\n<!-- what women want_R -->\n<g id=\"node21\" class=\"node\">\n<title>what women want_R</title>\n<ellipse fill=\"black\" stroke=\"black\" cx=\"475\" cy=\"0\" rx=\"0\" ry=\"0\"/>\n</g>\n<!-- what women want&#45;&gt;what women want_R -->\n<g id=\"edge20\" class=\"edge\">\n<title>what women want&#45;&gt;what women want_R</title>\n<path fill=\"none\" stroke=\"black\" d=\"M468.95,-35.97C470.38,-27.71 472.05,-18.07 473.27,-11\"/>\n<polygon fill=\"black\" stroke=\"black\" points=\"476.73,-11.51 474.99,-1.06 469.84,-10.31 476.73,-11.51\"/>\n</g>\n</g>\n</svg>\n",
            "text/plain": [
              "<graphviz.graphs.Digraph at 0x7b781c31fe20>"
            ]
          },
          "metadata": {}
        },
        {
          "output_type": "stream",
          "name": "stdout",
          "text": [
            "Se encontraron las siguientes peliculas:\n",
            "dinosaur\n",
            "what women want\n",
            "['dinosaur']\n",
            "['cast away', 'the perfect score']\n",
            "['bait', 'loser', 'van wilder']\n",
            "['high crimes', 'pinocchio', 'the pianist', 'what women want']\n"
          ]
        },
        {
          "output_type": "display_data",
          "data": {
            "image/svg+xml": "<?xml version=\"1.0\" encoding=\"UTF-8\" standalone=\"no\"?>\n<!DOCTYPE svg PUBLIC \"-//W3C//DTD SVG 1.1//EN\"\n \"http://www.w3.org/Graphics/SVG/1.1/DTD/svg11.dtd\">\n<!-- Generated by graphviz version 2.43.0 (0)\n -->\n<!-- Title: %3 Pages: 1 -->\n<svg width=\"492pt\" height=\"296pt\"\n viewBox=\"0.00 0.00 492.04 296.00\" xmlns=\"http://www.w3.org/2000/svg\" xmlns:xlink=\"http://www.w3.org/1999/xlink\">\n<g id=\"graph0\" class=\"graph\" transform=\"scale(1 1) rotate(0) translate(4 292)\">\n<title>%3</title>\n<polygon fill=\"white\" stroke=\"transparent\" points=\"-4,4 -4,-292 488.04,-292 488.04,4 -4,4\"/>\n<!-- dinosaur -->\n<g id=\"node1\" class=\"node\">\n<title>dinosaur</title>\n<ellipse fill=\"none\" stroke=\"black\" cx=\"115\" cy=\"-270\" rx=\"40.89\" ry=\"18\"/>\n<text text-anchor=\"middle\" x=\"115\" y=\"-266.3\" font-family=\"Times,serif\" font-size=\"14.00\">dinosaur</text>\n</g>\n<!-- cast away -->\n<g id=\"node2\" class=\"node\">\n<title>cast away</title>\n<ellipse fill=\"none\" stroke=\"black\" cx=\"49\" cy=\"-198\" rx=\"45.49\" ry=\"18\"/>\n<text text-anchor=\"middle\" x=\"49\" y=\"-194.3\" font-family=\"Times,serif\" font-size=\"14.00\">cast away</text>\n</g>\n<!-- dinosaur&#45;&gt;cast away -->\n<g id=\"edge1\" class=\"edge\">\n<title>dinosaur&#45;&gt;cast away</title>\n<path fill=\"none\" stroke=\"black\" d=\"M100.02,-253.12C91.54,-244.12 80.76,-232.68 71.29,-222.65\"/>\n<polygon fill=\"black\" stroke=\"black\" points=\"73.78,-220.18 64.38,-215.31 68.69,-224.98 73.78,-220.18\"/>\n</g>\n<!-- the perfect score -->\n<g id=\"node7\" class=\"node\">\n<title>the perfect score</title>\n<ellipse fill=\"none\" stroke=\"black\" cx=\"182\" cy=\"-198\" rx=\"69.59\" ry=\"18\"/>\n<text text-anchor=\"middle\" x=\"182\" y=\"-194.3\" font-family=\"Times,serif\" font-size=\"14.00\">the perfect score</text>\n</g>\n<!-- dinosaur&#45;&gt;the perfect score -->\n<g id=\"edge6\" class=\"edge\">\n<title>dinosaur&#45;&gt;the perfect score</title>\n<path fill=\"none\" stroke=\"black\" d=\"M130.2,-253.12C138.69,-244.24 149.45,-233.01 158.95,-223.08\"/>\n<polygon fill=\"black\" stroke=\"black\" points=\"161.54,-225.44 165.92,-215.8 156.48,-220.6 161.54,-225.44\"/>\n</g>\n<!-- bait -->\n<g id=\"node3\" class=\"node\">\n<title>bait</title>\n<ellipse fill=\"none\" stroke=\"black\" cx=\"27\" cy=\"-126\" rx=\"27\" ry=\"18\"/>\n<text text-anchor=\"middle\" x=\"27\" y=\"-122.3\" font-family=\"Times,serif\" font-size=\"14.00\">bait</text>\n</g>\n<!-- cast away&#45;&gt;bait -->\n<g id=\"edge2\" class=\"edge\">\n<title>cast away&#45;&gt;bait</title>\n<path fill=\"none\" stroke=\"black\" d=\"M43.67,-180.05C41.16,-172.06 38.1,-162.33 35.3,-153.4\"/>\n<polygon fill=\"black\" stroke=\"black\" points=\"38.61,-152.28 32.28,-143.79 31.94,-154.38 38.61,-152.28\"/>\n</g>\n<!-- cast away_R -->\n<g id=\"node6\" class=\"node\">\n<title>cast away_R</title>\n<ellipse fill=\"black\" stroke=\"black\" cx=\"72\" cy=\"-126\" rx=\"0\" ry=\"0\"/>\n</g>\n<!-- cast away&#45;&gt;cast away_R -->\n<g id=\"edge5\" class=\"edge\">\n<title>cast away&#45;&gt;cast away_R</title>\n<path fill=\"none\" stroke=\"black\" d=\"M54.57,-180.05C59,-166.57 65.05,-148.16 68.73,-136.95\"/>\n<polygon fill=\"black\" stroke=\"black\" points=\"72.17,-137.69 71.97,-127.09 65.52,-135.5 72.17,-137.69\"/>\n</g>\n<!-- bait_L -->\n<g id=\"node4\" class=\"node\">\n<title>bait_L</title>\n<ellipse fill=\"black\" stroke=\"black\" cx=\"18\" cy=\"-54\" rx=\"0\" ry=\"0\"/>\n</g>\n<!-- bait&#45;&gt;bait_L -->\n<g id=\"edge3\" class=\"edge\">\n<title>bait&#45;&gt;bait_L</title>\n<path fill=\"none\" stroke=\"black\" d=\"M24.82,-108.05C23.11,-94.73 20.78,-76.59 19.33,-65.35\"/>\n<polygon fill=\"black\" stroke=\"black\" points=\"22.76,-64.57 18.01,-55.09 15.82,-65.46 22.76,-64.57\"/>\n</g>\n<!-- bait_R -->\n<g id=\"node5\" class=\"node\">\n<title>bait_R</title>\n<ellipse fill=\"black\" stroke=\"black\" cx=\"36\" cy=\"-54\" rx=\"0\" ry=\"0\"/>\n</g>\n<!-- bait&#45;&gt;bait_R -->\n<g id=\"edge4\" class=\"edge\">\n<title>bait&#45;&gt;bait_R</title>\n<path fill=\"none\" stroke=\"black\" d=\"M29.18,-108.05C30.89,-94.73 33.22,-76.59 34.67,-65.35\"/>\n<polygon fill=\"black\" stroke=\"black\" points=\"38.18,-65.46 35.99,-55.09 31.24,-64.57 38.18,-65.46\"/>\n</g>\n<!-- loser -->\n<g id=\"node8\" class=\"node\">\n<title>loser</title>\n<ellipse fill=\"none\" stroke=\"black\" cx=\"177\" cy=\"-126\" rx=\"27.9\" ry=\"18\"/>\n<text text-anchor=\"middle\" x=\"177\" y=\"-122.3\" font-family=\"Times,serif\" font-size=\"14.00\">loser</text>\n</g>\n<!-- the perfect score&#45;&gt;loser -->\n<g id=\"edge7\" class=\"edge\">\n<title>the perfect score&#45;&gt;loser</title>\n<path fill=\"none\" stroke=\"black\" d=\"M180.76,-179.7C180.21,-171.98 179.55,-162.71 178.94,-154.11\"/>\n<polygon fill=\"black\" stroke=\"black\" points=\"182.43,-153.83 178.22,-144.1 175.44,-154.33 182.43,-153.83\"/>\n</g>\n<!-- van wilder -->\n<g id=\"node13\" class=\"node\">\n<title>van wilder</title>\n<ellipse fill=\"none\" stroke=\"black\" cx=\"271\" cy=\"-126\" rx=\"48.19\" ry=\"18\"/>\n<text text-anchor=\"middle\" x=\"271\" y=\"-122.3\" font-family=\"Times,serif\" font-size=\"14.00\">van wilder</text>\n</g>\n<!-- the perfect score&#45;&gt;van wilder -->\n<g id=\"edge12\" class=\"edge\">\n<title>the perfect score&#45;&gt;van wilder</title>\n<path fill=\"none\" stroke=\"black\" d=\"M202.64,-180.76C214.61,-171.36 229.83,-159.38 242.88,-149.12\"/>\n<polygon fill=\"black\" stroke=\"black\" points=\"245.39,-151.6 251.08,-142.67 241.06,-146.1 245.39,-151.6\"/>\n</g>\n<!-- high crimes -->\n<g id=\"node9\" class=\"node\">\n<title>high crimes</title>\n<ellipse fill=\"none\" stroke=\"black\" cx=\"123\" cy=\"-54\" rx=\"52.79\" ry=\"18\"/>\n<text text-anchor=\"middle\" x=\"123\" y=\"-50.3\" font-family=\"Times,serif\" font-size=\"14.00\">high crimes</text>\n</g>\n<!-- loser&#45;&gt;high crimes -->\n<g id=\"edge8\" class=\"edge\">\n<title>loser&#45;&gt;high crimes</title>\n<path fill=\"none\" stroke=\"black\" d=\"M165.02,-109.46C158.32,-100.78 149.81,-89.75 142.2,-79.89\"/>\n<polygon fill=\"black\" stroke=\"black\" points=\"144.96,-77.74 136.08,-71.96 139.42,-82.02 144.96,-77.74\"/>\n</g>\n<!-- loser_R -->\n<g id=\"node12\" class=\"node\">\n<title>loser_R</title>\n<ellipse fill=\"black\" stroke=\"black\" cx=\"194\" cy=\"-54\" rx=\"0\" ry=\"0\"/>\n</g>\n<!-- loser&#45;&gt;loser_R -->\n<g id=\"edge11\" class=\"edge\">\n<title>loser&#45;&gt;loser_R</title>\n<path fill=\"none\" stroke=\"black\" d=\"M181.12,-108.05C184.39,-94.57 188.86,-76.16 191.58,-64.95\"/>\n<polygon fill=\"black\" stroke=\"black\" points=\"195.02,-65.64 193.98,-55.09 188.22,-63.98 195.02,-65.64\"/>\n</g>\n<!-- high crimes_L -->\n<g id=\"node10\" class=\"node\">\n<title>high crimes_L</title>\n<ellipse fill=\"black\" stroke=\"black\" cx=\"114\" cy=\"0\" rx=\"0\" ry=\"0\"/>\n</g>\n<!-- high crimes&#45;&gt;high crimes_L -->\n<g id=\"edge9\" class=\"edge\">\n<title>high crimes&#45;&gt;high crimes_L</title>\n<path fill=\"none\" stroke=\"black\" d=\"M120.05,-35.97C118.62,-27.71 116.95,-18.07 115.73,-11\"/>\n<polygon fill=\"black\" stroke=\"black\" points=\"119.16,-10.31 114.01,-1.06 112.27,-11.51 119.16,-10.31\"/>\n</g>\n<!-- high crimes_R -->\n<g id=\"node11\" class=\"node\">\n<title>high crimes_R</title>\n<ellipse fill=\"black\" stroke=\"black\" cx=\"132\" cy=\"0\" rx=\"0\" ry=\"0\"/>\n</g>\n<!-- high crimes&#45;&gt;high crimes_R -->\n<g id=\"edge10\" class=\"edge\">\n<title>high crimes&#45;&gt;high crimes_R</title>\n<path fill=\"none\" stroke=\"black\" d=\"M125.95,-35.97C127.38,-27.71 129.05,-18.07 130.27,-11\"/>\n<polygon fill=\"black\" stroke=\"black\" points=\"133.73,-11.51 131.99,-1.06 126.84,-10.31 133.73,-11.51\"/>\n</g>\n<!-- the pianist -->\n<g id=\"node14\" class=\"node\">\n<title>the pianist</title>\n<ellipse fill=\"none\" stroke=\"black\" cx=\"267\" cy=\"-54\" rx=\"47.39\" ry=\"18\"/>\n<text text-anchor=\"middle\" x=\"267\" y=\"-50.3\" font-family=\"Times,serif\" font-size=\"14.00\">the pianist</text>\n</g>\n<!-- van wilder&#45;&gt;the pianist -->\n<g id=\"edge13\" class=\"edge\">\n<title>van wilder&#45;&gt;the pianist</title>\n<path fill=\"none\" stroke=\"black\" d=\"M270.01,-107.7C269.57,-99.98 269.04,-90.71 268.55,-82.11\"/>\n<polygon fill=\"black\" stroke=\"black\" points=\"272.04,-81.89 267.98,-72.1 265.05,-82.29 272.04,-81.89\"/>\n</g>\n<!-- what women want -->\n<g id=\"node17\" class=\"node\">\n<title>what women want</title>\n<ellipse fill=\"none\" stroke=\"black\" cx=\"408\" cy=\"-54\" rx=\"76.09\" ry=\"18\"/>\n<text text-anchor=\"middle\" x=\"408\" y=\"-50.3\" font-family=\"Times,serif\" font-size=\"14.00\">what women want</text>\n</g>\n<!-- van wilder&#45;&gt;what women want -->\n<g id=\"edge16\" class=\"edge\">\n<title>van wilder&#45;&gt;what women want</title>\n<path fill=\"none\" stroke=\"black\" d=\"M298.39,-111C318.43,-100.76 345.92,-86.72 368.36,-75.26\"/>\n<polygon fill=\"black\" stroke=\"black\" points=\"370,-78.35 377.31,-70.68 366.81,-72.11 370,-78.35\"/>\n</g>\n<!-- the pianist_L -->\n<g id=\"node15\" class=\"node\">\n<title>the pianist_L</title>\n<ellipse fill=\"black\" stroke=\"black\" cx=\"258\" cy=\"0\" rx=\"0\" ry=\"0\"/>\n</g>\n<!-- the pianist&#45;&gt;the pianist_L -->\n<g id=\"edge14\" class=\"edge\">\n<title>the pianist&#45;&gt;the pianist_L</title>\n<path fill=\"none\" stroke=\"black\" d=\"M264.05,-35.97C262.62,-27.71 260.95,-18.07 259.73,-11\"/>\n<polygon fill=\"black\" stroke=\"black\" points=\"263.16,-10.31 258.01,-1.06 256.27,-11.51 263.16,-10.31\"/>\n</g>\n<!-- the pianist_R -->\n<g id=\"node16\" class=\"node\">\n<title>the pianist_R</title>\n<ellipse fill=\"black\" stroke=\"black\" cx=\"276\" cy=\"0\" rx=\"0\" ry=\"0\"/>\n</g>\n<!-- the pianist&#45;&gt;the pianist_R -->\n<g id=\"edge15\" class=\"edge\">\n<title>the pianist&#45;&gt;the pianist_R</title>\n<path fill=\"none\" stroke=\"black\" d=\"M269.95,-35.97C271.38,-27.71 273.05,-18.07 274.27,-11\"/>\n<polygon fill=\"black\" stroke=\"black\" points=\"277.73,-11.51 275.99,-1.06 270.84,-10.31 277.73,-11.51\"/>\n</g>\n<!-- what women want_L -->\n<g id=\"node18\" class=\"node\">\n<title>what women want_L</title>\n<ellipse fill=\"black\" stroke=\"black\" cx=\"399\" cy=\"0\" rx=\"0\" ry=\"0\"/>\n</g>\n<!-- what women want&#45;&gt;what women want_L -->\n<g id=\"edge17\" class=\"edge\">\n<title>what women want&#45;&gt;what women want_L</title>\n<path fill=\"none\" stroke=\"black\" d=\"M405.05,-35.97C403.62,-27.71 401.95,-18.07 400.73,-11\"/>\n<polygon fill=\"black\" stroke=\"black\" points=\"404.16,-10.31 399.01,-1.06 397.27,-11.51 404.16,-10.31\"/>\n</g>\n<!-- what women want_R -->\n<g id=\"node19\" class=\"node\">\n<title>what women want_R</title>\n<ellipse fill=\"black\" stroke=\"black\" cx=\"417\" cy=\"0\" rx=\"0\" ry=\"0\"/>\n</g>\n<!-- what women want&#45;&gt;what women want_R -->\n<g id=\"edge18\" class=\"edge\">\n<title>what women want&#45;&gt;what women want_R</title>\n<path fill=\"none\" stroke=\"black\" d=\"M410.95,-35.97C412.38,-27.71 414.05,-18.07 415.27,-11\"/>\n<polygon fill=\"black\" stroke=\"black\" points=\"418.73,-11.51 416.99,-1.06 411.84,-10.31 418.73,-11.51\"/>\n</g>\n</g>\n</svg>\n",
            "text/plain": [
              "<graphviz.graphs.Digraph at 0x7b781c60f8e0>"
            ]
          },
          "metadata": {}
        },
        {
          "output_type": "display_data",
          "data": {
            "image/svg+xml": "<?xml version=\"1.0\" encoding=\"UTF-8\" standalone=\"no\"?>\n<!DOCTYPE svg PUBLIC \"-//W3C//DTD SVG 1.1//EN\"\n \"http://www.w3.org/Graphics/SVG/1.1/DTD/svg11.dtd\">\n<!-- Generated by graphviz version 2.43.0 (0)\n -->\n<!-- Title: %3 Pages: 1 -->\n<svg width=\"340pt\" height=\"296pt\"\n viewBox=\"0.00 0.00 340.00 296.00\" xmlns=\"http://www.w3.org/2000/svg\" xmlns:xlink=\"http://www.w3.org/1999/xlink\">\n<g id=\"graph0\" class=\"graph\" transform=\"scale(1 1) rotate(0) translate(4 292)\">\n<title>%3</title>\n<polygon fill=\"white\" stroke=\"transparent\" points=\"-4,4 -4,-292 336,-292 336,4 -4,4\"/>\n<!-- dinosaur -->\n<g id=\"node1\" class=\"node\">\n<title>dinosaur</title>\n<ellipse fill=\"none\" stroke=\"black\" cx=\"115\" cy=\"-270\" rx=\"40.89\" ry=\"18\"/>\n<text text-anchor=\"middle\" x=\"115\" y=\"-266.3\" font-family=\"Times,serif\" font-size=\"14.00\">dinosaur</text>\n</g>\n<!-- cast away -->\n<g id=\"node2\" class=\"node\">\n<title>cast away</title>\n<ellipse fill=\"none\" stroke=\"black\" cx=\"49\" cy=\"-198\" rx=\"45.49\" ry=\"18\"/>\n<text text-anchor=\"middle\" x=\"49\" y=\"-194.3\" font-family=\"Times,serif\" font-size=\"14.00\">cast away</text>\n</g>\n<!-- dinosaur&#45;&gt;cast away -->\n<g id=\"edge1\" class=\"edge\">\n<title>dinosaur&#45;&gt;cast away</title>\n<path fill=\"none\" stroke=\"black\" d=\"M100.02,-253.12C91.54,-244.12 80.76,-232.68 71.29,-222.65\"/>\n<polygon fill=\"black\" stroke=\"black\" points=\"73.78,-220.18 64.38,-215.31 68.69,-224.98 73.78,-220.18\"/>\n</g>\n<!-- the perfect score -->\n<g id=\"node7\" class=\"node\">\n<title>the perfect score</title>\n<ellipse fill=\"none\" stroke=\"black\" cx=\"182\" cy=\"-198\" rx=\"69.59\" ry=\"18\"/>\n<text text-anchor=\"middle\" x=\"182\" y=\"-194.3\" font-family=\"Times,serif\" font-size=\"14.00\">the perfect score</text>\n</g>\n<!-- dinosaur&#45;&gt;the perfect score -->\n<g id=\"edge6\" class=\"edge\">\n<title>dinosaur&#45;&gt;the perfect score</title>\n<path fill=\"none\" stroke=\"black\" d=\"M130.2,-253.12C138.69,-244.24 149.45,-233.01 158.95,-223.08\"/>\n<polygon fill=\"black\" stroke=\"black\" points=\"161.54,-225.44 165.92,-215.8 156.48,-220.6 161.54,-225.44\"/>\n</g>\n<!-- bait -->\n<g id=\"node3\" class=\"node\">\n<title>bait</title>\n<ellipse fill=\"none\" stroke=\"black\" cx=\"27\" cy=\"-126\" rx=\"27\" ry=\"18\"/>\n<text text-anchor=\"middle\" x=\"27\" y=\"-122.3\" font-family=\"Times,serif\" font-size=\"14.00\">bait</text>\n</g>\n<!-- cast away&#45;&gt;bait -->\n<g id=\"edge2\" class=\"edge\">\n<title>cast away&#45;&gt;bait</title>\n<path fill=\"none\" stroke=\"black\" d=\"M43.67,-180.05C41.16,-172.06 38.1,-162.33 35.3,-153.4\"/>\n<polygon fill=\"black\" stroke=\"black\" points=\"38.61,-152.28 32.28,-143.79 31.94,-154.38 38.61,-152.28\"/>\n</g>\n<!-- cast away_R -->\n<g id=\"node6\" class=\"node\">\n<title>cast away_R</title>\n<ellipse fill=\"black\" stroke=\"black\" cx=\"72\" cy=\"-126\" rx=\"0\" ry=\"0\"/>\n</g>\n<!-- cast away&#45;&gt;cast away_R -->\n<g id=\"edge5\" class=\"edge\">\n<title>cast away&#45;&gt;cast away_R</title>\n<path fill=\"none\" stroke=\"black\" d=\"M54.57,-180.05C59,-166.57 65.05,-148.16 68.73,-136.95\"/>\n<polygon fill=\"black\" stroke=\"black\" points=\"72.17,-137.69 71.97,-127.09 65.52,-135.5 72.17,-137.69\"/>\n</g>\n<!-- bait_L -->\n<g id=\"node4\" class=\"node\">\n<title>bait_L</title>\n<ellipse fill=\"black\" stroke=\"black\" cx=\"18\" cy=\"-54\" rx=\"0\" ry=\"0\"/>\n</g>\n<!-- bait&#45;&gt;bait_L -->\n<g id=\"edge3\" class=\"edge\">\n<title>bait&#45;&gt;bait_L</title>\n<path fill=\"none\" stroke=\"black\" d=\"M24.82,-108.05C23.11,-94.73 20.78,-76.59 19.33,-65.35\"/>\n<polygon fill=\"black\" stroke=\"black\" points=\"22.76,-64.57 18.01,-55.09 15.82,-65.46 22.76,-64.57\"/>\n</g>\n<!-- bait_R -->\n<g id=\"node5\" class=\"node\">\n<title>bait_R</title>\n<ellipse fill=\"black\" stroke=\"black\" cx=\"36\" cy=\"-54\" rx=\"0\" ry=\"0\"/>\n</g>\n<!-- bait&#45;&gt;bait_R -->\n<g id=\"edge4\" class=\"edge\">\n<title>bait&#45;&gt;bait_R</title>\n<path fill=\"none\" stroke=\"black\" d=\"M29.18,-108.05C30.89,-94.73 33.22,-76.59 34.67,-65.35\"/>\n<polygon fill=\"black\" stroke=\"black\" points=\"38.18,-65.46 35.99,-55.09 31.24,-64.57 38.18,-65.46\"/>\n</g>\n<!-- loser -->\n<g id=\"node8\" class=\"node\">\n<title>loser</title>\n<ellipse fill=\"none\" stroke=\"black\" cx=\"177\" cy=\"-126\" rx=\"27.9\" ry=\"18\"/>\n<text text-anchor=\"middle\" x=\"177\" y=\"-122.3\" font-family=\"Times,serif\" font-size=\"14.00\">loser</text>\n</g>\n<!-- the perfect score&#45;&gt;loser -->\n<g id=\"edge7\" class=\"edge\">\n<title>the perfect score&#45;&gt;loser</title>\n<path fill=\"none\" stroke=\"black\" d=\"M180.76,-179.7C180.21,-171.98 179.55,-162.71 178.94,-154.11\"/>\n<polygon fill=\"black\" stroke=\"black\" points=\"182.43,-153.83 178.22,-144.1 175.44,-154.33 182.43,-153.83\"/>\n</g>\n<!-- van wilder -->\n<g id=\"node13\" class=\"node\">\n<title>van wilder</title>\n<ellipse fill=\"none\" stroke=\"black\" cx=\"271\" cy=\"-126\" rx=\"48.19\" ry=\"18\"/>\n<text text-anchor=\"middle\" x=\"271\" y=\"-122.3\" font-family=\"Times,serif\" font-size=\"14.00\">van wilder</text>\n</g>\n<!-- the perfect score&#45;&gt;van wilder -->\n<g id=\"edge12\" class=\"edge\">\n<title>the perfect score&#45;&gt;van wilder</title>\n<path fill=\"none\" stroke=\"black\" d=\"M202.64,-180.76C214.61,-171.36 229.83,-159.38 242.88,-149.12\"/>\n<polygon fill=\"black\" stroke=\"black\" points=\"245.39,-151.6 251.08,-142.67 241.06,-146.1 245.39,-151.6\"/>\n</g>\n<!-- high crimes -->\n<g id=\"node9\" class=\"node\">\n<title>high crimes</title>\n<ellipse fill=\"none\" stroke=\"black\" cx=\"123\" cy=\"-54\" rx=\"52.79\" ry=\"18\"/>\n<text text-anchor=\"middle\" x=\"123\" y=\"-50.3\" font-family=\"Times,serif\" font-size=\"14.00\">high crimes</text>\n</g>\n<!-- loser&#45;&gt;high crimes -->\n<g id=\"edge8\" class=\"edge\">\n<title>loser&#45;&gt;high crimes</title>\n<path fill=\"none\" stroke=\"black\" d=\"M165.02,-109.46C158.32,-100.78 149.81,-89.75 142.2,-79.89\"/>\n<polygon fill=\"black\" stroke=\"black\" points=\"144.96,-77.74 136.08,-71.96 139.42,-82.02 144.96,-77.74\"/>\n</g>\n<!-- loser_R -->\n<g id=\"node12\" class=\"node\">\n<title>loser_R</title>\n<ellipse fill=\"black\" stroke=\"black\" cx=\"194\" cy=\"-54\" rx=\"0\" ry=\"0\"/>\n</g>\n<!-- loser&#45;&gt;loser_R -->\n<g id=\"edge11\" class=\"edge\">\n<title>loser&#45;&gt;loser_R</title>\n<path fill=\"none\" stroke=\"black\" d=\"M181.12,-108.05C184.39,-94.57 188.86,-76.16 191.58,-64.95\"/>\n<polygon fill=\"black\" stroke=\"black\" points=\"195.02,-65.64 193.98,-55.09 188.22,-63.98 195.02,-65.64\"/>\n</g>\n<!-- high crimes_L -->\n<g id=\"node10\" class=\"node\">\n<title>high crimes_L</title>\n<ellipse fill=\"black\" stroke=\"black\" cx=\"114\" cy=\"0\" rx=\"0\" ry=\"0\"/>\n</g>\n<!-- high crimes&#45;&gt;high crimes_L -->\n<g id=\"edge9\" class=\"edge\">\n<title>high crimes&#45;&gt;high crimes_L</title>\n<path fill=\"none\" stroke=\"black\" d=\"M120.05,-35.97C118.62,-27.71 116.95,-18.07 115.73,-11\"/>\n<polygon fill=\"black\" stroke=\"black\" points=\"119.16,-10.31 114.01,-1.06 112.27,-11.51 119.16,-10.31\"/>\n</g>\n<!-- high crimes_R -->\n<g id=\"node11\" class=\"node\">\n<title>high crimes_R</title>\n<ellipse fill=\"black\" stroke=\"black\" cx=\"132\" cy=\"0\" rx=\"0\" ry=\"0\"/>\n</g>\n<!-- high crimes&#45;&gt;high crimes_R -->\n<g id=\"edge10\" class=\"edge\">\n<title>high crimes&#45;&gt;high crimes_R</title>\n<path fill=\"none\" stroke=\"black\" d=\"M125.95,-35.97C127.38,-27.71 129.05,-18.07 130.27,-11\"/>\n<polygon fill=\"black\" stroke=\"black\" points=\"133.73,-11.51 131.99,-1.06 126.84,-10.31 133.73,-11.51\"/>\n</g>\n<!-- the pianist -->\n<g id=\"node14\" class=\"node\">\n<title>the pianist</title>\n<ellipse fill=\"none\" stroke=\"black\" cx=\"267\" cy=\"-54\" rx=\"47.39\" ry=\"18\"/>\n<text text-anchor=\"middle\" x=\"267\" y=\"-50.3\" font-family=\"Times,serif\" font-size=\"14.00\">the pianist</text>\n</g>\n<!-- van wilder&#45;&gt;the pianist -->\n<g id=\"edge13\" class=\"edge\">\n<title>van wilder&#45;&gt;the pianist</title>\n<path fill=\"none\" stroke=\"black\" d=\"M270.01,-107.7C269.57,-99.98 269.04,-90.71 268.55,-82.11\"/>\n<polygon fill=\"black\" stroke=\"black\" points=\"272.04,-81.89 267.98,-72.1 265.05,-82.29 272.04,-81.89\"/>\n</g>\n<!-- van wilder_R -->\n<g id=\"node17\" class=\"node\">\n<title>van wilder_R</title>\n<ellipse fill=\"black\" stroke=\"black\" cx=\"332\" cy=\"-54\" rx=\"0\" ry=\"0\"/>\n</g>\n<!-- van wilder&#45;&gt;van wilder_R -->\n<g id=\"edge16\" class=\"edge\">\n<title>van wilder&#45;&gt;van wilder_R</title>\n<path fill=\"none\" stroke=\"black\" d=\"M289.2,-108.95C299.85,-98.98 313.11,-85.53 323,-72 324.7,-69.67 326.28,-66.99 327.62,-64.44\"/>\n<polygon fill=\"black\" stroke=\"black\" points=\"330.91,-65.66 331.95,-55.12 324.57,-62.71 330.91,-65.66\"/>\n</g>\n<!-- the pianist_L -->\n<g id=\"node15\" class=\"node\">\n<title>the pianist_L</title>\n<ellipse fill=\"black\" stroke=\"black\" cx=\"258\" cy=\"0\" rx=\"0\" ry=\"0\"/>\n</g>\n<!-- the pianist&#45;&gt;the pianist_L -->\n<g id=\"edge14\" class=\"edge\">\n<title>the pianist&#45;&gt;the pianist_L</title>\n<path fill=\"none\" stroke=\"black\" d=\"M264.05,-35.97C262.62,-27.71 260.95,-18.07 259.73,-11\"/>\n<polygon fill=\"black\" stroke=\"black\" points=\"263.16,-10.31 258.01,-1.06 256.27,-11.51 263.16,-10.31\"/>\n</g>\n<!-- the pianist_R -->\n<g id=\"node16\" class=\"node\">\n<title>the pianist_R</title>\n<ellipse fill=\"black\" stroke=\"black\" cx=\"276\" cy=\"0\" rx=\"0\" ry=\"0\"/>\n</g>\n<!-- the pianist&#45;&gt;the pianist_R -->\n<g id=\"edge15\" class=\"edge\">\n<title>the pianist&#45;&gt;the pianist_R</title>\n<path fill=\"none\" stroke=\"black\" d=\"M269.95,-35.97C271.38,-27.71 273.05,-18.07 274.27,-11\"/>\n<polygon fill=\"black\" stroke=\"black\" points=\"277.73,-11.51 275.99,-1.06 270.84,-10.31 277.73,-11.51\"/>\n</g>\n</g>\n</svg>\n",
            "text/plain": [
              "<graphviz.graphs.Digraph at 0x7b781c60f8e0>"
            ]
          },
          "metadata": {}
        },
        {
          "output_type": "display_data",
          "data": {
            "image/svg+xml": "<?xml version=\"1.0\" encoding=\"UTF-8\" standalone=\"no\"?>\n<!DOCTYPE svg PUBLIC \"-//W3C//DTD SVG 1.1//EN\"\n \"http://www.w3.org/Graphics/SVG/1.1/DTD/svg11.dtd\">\n<!-- Generated by graphviz version 2.43.0 (0)\n -->\n<!-- Title: %3 Pages: 1 -->\n<svg width=\"274pt\" height=\"296pt\"\n viewBox=\"0.00 0.00 274.10 296.00\" xmlns=\"http://www.w3.org/2000/svg\" xmlns:xlink=\"http://www.w3.org/1999/xlink\">\n<g id=\"graph0\" class=\"graph\" transform=\"scale(1 1) rotate(0) translate(4 292)\">\n<title>%3</title>\n<polygon fill=\"white\" stroke=\"transparent\" points=\"-4,4 -4,-292 270.1,-292 270.1,4 -4,4\"/>\n<!-- dinosaur -->\n<g id=\"node1\" class=\"node\">\n<title>dinosaur</title>\n<ellipse fill=\"none\" stroke=\"black\" cx=\"115\" cy=\"-270\" rx=\"40.89\" ry=\"18\"/>\n<text text-anchor=\"middle\" x=\"115\" y=\"-266.3\" font-family=\"Times,serif\" font-size=\"14.00\">dinosaur</text>\n</g>\n<!-- cast away -->\n<g id=\"node2\" class=\"node\">\n<title>cast away</title>\n<ellipse fill=\"none\" stroke=\"black\" cx=\"49\" cy=\"-198\" rx=\"45.49\" ry=\"18\"/>\n<text text-anchor=\"middle\" x=\"49\" y=\"-194.3\" font-family=\"Times,serif\" font-size=\"14.00\">cast away</text>\n</g>\n<!-- dinosaur&#45;&gt;cast away -->\n<g id=\"edge1\" class=\"edge\">\n<title>dinosaur&#45;&gt;cast away</title>\n<path fill=\"none\" stroke=\"black\" d=\"M100.02,-253.12C91.54,-244.12 80.76,-232.68 71.29,-222.65\"/>\n<polygon fill=\"black\" stroke=\"black\" points=\"73.78,-220.18 64.38,-215.31 68.69,-224.98 73.78,-220.18\"/>\n</g>\n<!-- the perfect score -->\n<g id=\"node7\" class=\"node\">\n<title>the perfect score</title>\n<ellipse fill=\"none\" stroke=\"black\" cx=\"182\" cy=\"-198\" rx=\"69.59\" ry=\"18\"/>\n<text text-anchor=\"middle\" x=\"182\" y=\"-194.3\" font-family=\"Times,serif\" font-size=\"14.00\">the perfect score</text>\n</g>\n<!-- dinosaur&#45;&gt;the perfect score -->\n<g id=\"edge6\" class=\"edge\">\n<title>dinosaur&#45;&gt;the perfect score</title>\n<path fill=\"none\" stroke=\"black\" d=\"M130.2,-253.12C138.69,-244.24 149.45,-233.01 158.95,-223.08\"/>\n<polygon fill=\"black\" stroke=\"black\" points=\"161.54,-225.44 165.92,-215.8 156.48,-220.6 161.54,-225.44\"/>\n</g>\n<!-- bait -->\n<g id=\"node3\" class=\"node\">\n<title>bait</title>\n<ellipse fill=\"none\" stroke=\"black\" cx=\"27\" cy=\"-126\" rx=\"27\" ry=\"18\"/>\n<text text-anchor=\"middle\" x=\"27\" y=\"-122.3\" font-family=\"Times,serif\" font-size=\"14.00\">bait</text>\n</g>\n<!-- cast away&#45;&gt;bait -->\n<g id=\"edge2\" class=\"edge\">\n<title>cast away&#45;&gt;bait</title>\n<path fill=\"none\" stroke=\"black\" d=\"M43.67,-180.05C41.16,-172.06 38.1,-162.33 35.3,-153.4\"/>\n<polygon fill=\"black\" stroke=\"black\" points=\"38.61,-152.28 32.28,-143.79 31.94,-154.38 38.61,-152.28\"/>\n</g>\n<!-- cast away_R -->\n<g id=\"node6\" class=\"node\">\n<title>cast away_R</title>\n<ellipse fill=\"black\" stroke=\"black\" cx=\"72\" cy=\"-126\" rx=\"0\" ry=\"0\"/>\n</g>\n<!-- cast away&#45;&gt;cast away_R -->\n<g id=\"edge5\" class=\"edge\">\n<title>cast away&#45;&gt;cast away_R</title>\n<path fill=\"none\" stroke=\"black\" d=\"M54.57,-180.05C59,-166.57 65.05,-148.16 68.73,-136.95\"/>\n<polygon fill=\"black\" stroke=\"black\" points=\"72.17,-137.69 71.97,-127.09 65.52,-135.5 72.17,-137.69\"/>\n</g>\n<!-- bait_L -->\n<g id=\"node4\" class=\"node\">\n<title>bait_L</title>\n<ellipse fill=\"black\" stroke=\"black\" cx=\"22\" cy=\"-54\" rx=\"0\" ry=\"0\"/>\n</g>\n<!-- bait&#45;&gt;bait_L -->\n<g id=\"edge3\" class=\"edge\">\n<title>bait&#45;&gt;bait_L</title>\n<path fill=\"none\" stroke=\"black\" d=\"M25.76,-107.7C24.81,-94.36 23.53,-76.38 22.73,-65.24\"/>\n<polygon fill=\"black\" stroke=\"black\" points=\"26.21,-64.82 22.01,-55.09 19.23,-65.32 26.21,-64.82\"/>\n</g>\n<!-- bait_R -->\n<g id=\"node5\" class=\"node\">\n<title>bait_R</title>\n<ellipse fill=\"black\" stroke=\"black\" cx=\"40\" cy=\"-54\" rx=\"0\" ry=\"0\"/>\n</g>\n<!-- bait&#45;&gt;bait_R -->\n<g id=\"edge4\" class=\"edge\">\n<title>bait&#45;&gt;bait_R</title>\n<path fill=\"none\" stroke=\"black\" d=\"M30.15,-108.05C32.65,-94.57 36.07,-76.16 38.15,-64.95\"/>\n<polygon fill=\"black\" stroke=\"black\" points=\"41.6,-65.56 39.98,-55.09 34.72,-64.29 41.6,-65.56\"/>\n</g>\n<!-- loser -->\n<g id=\"node8\" class=\"node\">\n<title>loser</title>\n<ellipse fill=\"none\" stroke=\"black\" cx=\"124\" cy=\"-126\" rx=\"27.9\" ry=\"18\"/>\n<text text-anchor=\"middle\" x=\"124\" y=\"-122.3\" font-family=\"Times,serif\" font-size=\"14.00\">loser</text>\n</g>\n<!-- the perfect score&#45;&gt;loser -->\n<g id=\"edge7\" class=\"edge\">\n<title>the perfect score&#45;&gt;loser</title>\n<path fill=\"none\" stroke=\"black\" d=\"M167.96,-180.05C160.52,-171.08 151.27,-159.92 143.18,-150.15\"/>\n<polygon fill=\"black\" stroke=\"black\" points=\"145.8,-147.82 136.72,-142.36 140.41,-152.29 145.8,-147.82\"/>\n</g>\n<!-- van wilder -->\n<g id=\"node13\" class=\"node\">\n<title>van wilder</title>\n<ellipse fill=\"none\" stroke=\"black\" cx=\"218\" cy=\"-126\" rx=\"48.19\" ry=\"18\"/>\n<text text-anchor=\"middle\" x=\"218\" y=\"-122.3\" font-family=\"Times,serif\" font-size=\"14.00\">van wilder</text>\n</g>\n<!-- the perfect score&#45;&gt;van wilder -->\n<g id=\"edge12\" class=\"edge\">\n<title>the perfect score&#45;&gt;van wilder</title>\n<path fill=\"none\" stroke=\"black\" d=\"M190.71,-180.05C194.92,-171.89 200.05,-161.91 204.72,-152.82\"/>\n<polygon fill=\"black\" stroke=\"black\" points=\"207.9,-154.28 209.37,-143.79 201.68,-151.08 207.9,-154.28\"/>\n</g>\n<!-- high crimes -->\n<g id=\"node9\" class=\"node\">\n<title>high crimes</title>\n<ellipse fill=\"none\" stroke=\"black\" cx=\"114\" cy=\"-54\" rx=\"52.79\" ry=\"18\"/>\n<text text-anchor=\"middle\" x=\"114\" y=\"-50.3\" font-family=\"Times,serif\" font-size=\"14.00\">high crimes</text>\n</g>\n<!-- loser&#45;&gt;high crimes -->\n<g id=\"edge8\" class=\"edge\">\n<title>loser&#45;&gt;high crimes</title>\n<path fill=\"none\" stroke=\"black\" d=\"M121.58,-108.05C120.48,-100.35 119.15,-91.03 117.91,-82.36\"/>\n<polygon fill=\"black\" stroke=\"black\" points=\"121.35,-81.68 116.47,-72.28 114.42,-82.67 121.35,-81.68\"/>\n</g>\n<!-- loser_R -->\n<g id=\"node12\" class=\"node\">\n<title>loser_R</title>\n<ellipse fill=\"black\" stroke=\"black\" cx=\"185\" cy=\"-54\" rx=\"0\" ry=\"0\"/>\n</g>\n<!-- loser&#45;&gt;loser_R -->\n<g id=\"edge11\" class=\"edge\">\n<title>loser&#45;&gt;loser_R</title>\n<path fill=\"none\" stroke=\"black\" d=\"M140.27,-110.75C151.21,-100.64 165.5,-86.36 176,-72 177.7,-69.67 179.28,-66.99 180.62,-64.44\"/>\n<polygon fill=\"black\" stroke=\"black\" points=\"183.91,-65.66 184.95,-55.12 177.57,-62.71 183.91,-65.66\"/>\n</g>\n<!-- high crimes_L -->\n<g id=\"node10\" class=\"node\">\n<title>high crimes_L</title>\n<ellipse fill=\"black\" stroke=\"black\" cx=\"105\" cy=\"0\" rx=\"0\" ry=\"0\"/>\n</g>\n<!-- high crimes&#45;&gt;high crimes_L -->\n<g id=\"edge9\" class=\"edge\">\n<title>high crimes&#45;&gt;high crimes_L</title>\n<path fill=\"none\" stroke=\"black\" d=\"M111.05,-35.97C109.62,-27.71 107.95,-18.07 106.73,-11\"/>\n<polygon fill=\"black\" stroke=\"black\" points=\"110.16,-10.31 105.01,-1.06 103.27,-11.51 110.16,-10.31\"/>\n</g>\n<!-- high crimes_R -->\n<g id=\"node11\" class=\"node\">\n<title>high crimes_R</title>\n<ellipse fill=\"black\" stroke=\"black\" cx=\"123\" cy=\"0\" rx=\"0\" ry=\"0\"/>\n</g>\n<!-- high crimes&#45;&gt;high crimes_R -->\n<g id=\"edge10\" class=\"edge\">\n<title>high crimes&#45;&gt;high crimes_R</title>\n<path fill=\"none\" stroke=\"black\" d=\"M116.95,-35.97C118.38,-27.71 120.05,-18.07 121.27,-11\"/>\n<polygon fill=\"black\" stroke=\"black\" points=\"124.73,-11.51 122.99,-1.06 117.84,-10.31 124.73,-11.51\"/>\n</g>\n<!-- van wilder_L -->\n<g id=\"node14\" class=\"node\">\n<title>van wilder_L</title>\n<ellipse fill=\"black\" stroke=\"black\" cx=\"207\" cy=\"-54\" rx=\"0\" ry=\"0\"/>\n</g>\n<!-- van wilder&#45;&gt;van wilder_L -->\n<g id=\"edge13\" class=\"edge\">\n<title>van wilder&#45;&gt;van wilder_L</title>\n<path fill=\"none\" stroke=\"black\" d=\"M215.28,-107.7C213.19,-94.36 210.36,-76.38 208.61,-65.24\"/>\n<polygon fill=\"black\" stroke=\"black\" points=\"212.02,-64.43 207.01,-55.09 205.11,-65.51 212.02,-64.43\"/>\n</g>\n<!-- van wilder_R -->\n<g id=\"node15\" class=\"node\">\n<title>van wilder_R</title>\n<ellipse fill=\"black\" stroke=\"black\" cx=\"225\" cy=\"-54\" rx=\"0\" ry=\"0\"/>\n</g>\n<!-- van wilder&#45;&gt;van wilder_R -->\n<g id=\"edge14\" class=\"edge\">\n<title>van wilder&#45;&gt;van wilder_R</title>\n<path fill=\"none\" stroke=\"black\" d=\"M219.73,-107.7C221.06,-94.36 222.86,-76.38 223.98,-65.24\"/>\n<polygon fill=\"black\" stroke=\"black\" points=\"227.48,-65.39 224.99,-55.09 220.51,-64.69 227.48,-65.39\"/>\n</g>\n</g>\n</svg>\n",
            "text/plain": [
              "<graphviz.graphs.Digraph at 0x7b781c60f8e0>"
            ]
          },
          "metadata": {}
        },
        {
          "output_type": "display_data",
          "data": {
            "image/svg+xml": "<?xml version=\"1.0\" encoding=\"UTF-8\" standalone=\"no\"?>\n<!DOCTYPE svg PUBLIC \"-//W3C//DTD SVG 1.1//EN\"\n \"http://www.w3.org/Graphics/SVG/1.1/DTD/svg11.dtd\">\n<!-- Generated by graphviz version 2.43.0 (0)\n -->\n<!-- Title: %3 Pages: 1 -->\n<svg width=\"300pt\" height=\"224pt\"\n viewBox=\"0.00 0.00 300.10 224.00\" xmlns=\"http://www.w3.org/2000/svg\" xmlns:xlink=\"http://www.w3.org/1999/xlink\">\n<g id=\"graph0\" class=\"graph\" transform=\"scale(1 1) rotate(0) translate(4 220)\">\n<title>%3</title>\n<polygon fill=\"white\" stroke=\"transparent\" points=\"-4,4 -4,-220 296.1,-220 296.1,4 -4,4\"/>\n<!-- high crimes -->\n<g id=\"node1\" class=\"node\">\n<title>high crimes</title>\n<ellipse fill=\"none\" stroke=\"black\" cx=\"115\" cy=\"-198\" rx=\"52.79\" ry=\"18\"/>\n<text text-anchor=\"middle\" x=\"115\" y=\"-194.3\" font-family=\"Times,serif\" font-size=\"14.00\">high crimes</text>\n</g>\n<!-- cast away -->\n<g id=\"node2\" class=\"node\">\n<title>cast away</title>\n<ellipse fill=\"none\" stroke=\"black\" cx=\"49\" cy=\"-126\" rx=\"45.49\" ry=\"18\"/>\n<text text-anchor=\"middle\" x=\"49\" y=\"-122.3\" font-family=\"Times,serif\" font-size=\"14.00\">cast away</text>\n</g>\n<!-- high crimes&#45;&gt;cast away -->\n<g id=\"edge1\" class=\"edge\">\n<title>high crimes&#45;&gt;cast away</title>\n<path fill=\"none\" stroke=\"black\" d=\"M99.69,-180.76C91.2,-171.75 80.48,-160.39 71.09,-150.43\"/>\n<polygon fill=\"black\" stroke=\"black\" points=\"73.63,-148.02 64.22,-143.15 68.54,-152.82 73.63,-148.02\"/>\n</g>\n<!-- the perfect score -->\n<g id=\"node7\" class=\"node\">\n<title>the perfect score</title>\n<ellipse fill=\"none\" stroke=\"black\" cx=\"182\" cy=\"-126\" rx=\"69.59\" ry=\"18\"/>\n<text text-anchor=\"middle\" x=\"182\" y=\"-122.3\" font-family=\"Times,serif\" font-size=\"14.00\">the perfect score</text>\n</g>\n<!-- high crimes&#45;&gt;the perfect score -->\n<g id=\"edge6\" class=\"edge\">\n<title>high crimes&#45;&gt;the perfect score</title>\n<path fill=\"none\" stroke=\"black\" d=\"M130.54,-180.76C138.96,-171.97 149.53,-160.93 158.89,-151.14\"/>\n<polygon fill=\"black\" stroke=\"black\" points=\"161.69,-153.28 166.08,-143.63 156.64,-148.44 161.69,-153.28\"/>\n</g>\n<!-- bait -->\n<g id=\"node3\" class=\"node\">\n<title>bait</title>\n<ellipse fill=\"none\" stroke=\"black\" cx=\"27\" cy=\"-54\" rx=\"27\" ry=\"18\"/>\n<text text-anchor=\"middle\" x=\"27\" y=\"-50.3\" font-family=\"Times,serif\" font-size=\"14.00\">bait</text>\n</g>\n<!-- cast away&#45;&gt;bait -->\n<g id=\"edge2\" class=\"edge\">\n<title>cast away&#45;&gt;bait</title>\n<path fill=\"none\" stroke=\"black\" d=\"M43.67,-108.05C41.16,-100.06 38.1,-90.33 35.3,-81.4\"/>\n<polygon fill=\"black\" stroke=\"black\" points=\"38.61,-80.28 32.28,-71.79 31.94,-82.38 38.61,-80.28\"/>\n</g>\n<!-- cast away_R -->\n<g id=\"node6\" class=\"node\">\n<title>cast away_R</title>\n<ellipse fill=\"black\" stroke=\"black\" cx=\"72\" cy=\"-54\" rx=\"0\" ry=\"0\"/>\n</g>\n<!-- cast away&#45;&gt;cast away_R -->\n<g id=\"edge5\" class=\"edge\">\n<title>cast away&#45;&gt;cast away_R</title>\n<path fill=\"none\" stroke=\"black\" d=\"M54.57,-108.05C59,-94.57 65.05,-76.16 68.73,-64.95\"/>\n<polygon fill=\"black\" stroke=\"black\" points=\"72.17,-65.69 71.97,-55.09 65.52,-63.5 72.17,-65.69\"/>\n</g>\n<!-- bait_L -->\n<g id=\"node4\" class=\"node\">\n<title>bait_L</title>\n<ellipse fill=\"black\" stroke=\"black\" cx=\"18\" cy=\"0\" rx=\"0\" ry=\"0\"/>\n</g>\n<!-- bait&#45;&gt;bait_L -->\n<g id=\"edge3\" class=\"edge\">\n<title>bait&#45;&gt;bait_L</title>\n<path fill=\"none\" stroke=\"black\" d=\"M24.05,-35.97C22.62,-27.71 20.95,-18.07 19.73,-11\"/>\n<polygon fill=\"black\" stroke=\"black\" points=\"23.16,-10.31 18.01,-1.06 16.27,-11.51 23.16,-10.31\"/>\n</g>\n<!-- bait_R -->\n<g id=\"node5\" class=\"node\">\n<title>bait_R</title>\n<ellipse fill=\"black\" stroke=\"black\" cx=\"36\" cy=\"0\" rx=\"0\" ry=\"0\"/>\n</g>\n<!-- bait&#45;&gt;bait_R -->\n<g id=\"edge4\" class=\"edge\">\n<title>bait&#45;&gt;bait_R</title>\n<path fill=\"none\" stroke=\"black\" d=\"M29.95,-35.97C31.38,-27.71 33.05,-18.07 34.27,-11\"/>\n<polygon fill=\"black\" stroke=\"black\" points=\"37.73,-11.51 35.99,-1.06 30.84,-10.31 37.73,-11.51\"/>\n</g>\n<!-- loser -->\n<g id=\"node8\" class=\"node\">\n<title>loser</title>\n<ellipse fill=\"none\" stroke=\"black\" cx=\"150\" cy=\"-54\" rx=\"27.9\" ry=\"18\"/>\n<text text-anchor=\"middle\" x=\"150\" y=\"-50.3\" font-family=\"Times,serif\" font-size=\"14.00\">loser</text>\n</g>\n<!-- the perfect score&#45;&gt;loser -->\n<g id=\"edge7\" class=\"edge\">\n<title>the perfect score&#45;&gt;loser</title>\n<path fill=\"none\" stroke=\"black\" d=\"M174.25,-108.05C170.56,-99.97 166.06,-90.12 161.94,-81.11\"/>\n<polygon fill=\"black\" stroke=\"black\" points=\"165.02,-79.43 157.67,-71.79 158.65,-82.34 165.02,-79.43\"/>\n</g>\n<!-- van wilder -->\n<g id=\"node11\" class=\"node\">\n<title>van wilder</title>\n<ellipse fill=\"none\" stroke=\"black\" cx=\"244\" cy=\"-54\" rx=\"48.19\" ry=\"18\"/>\n<text text-anchor=\"middle\" x=\"244\" y=\"-50.3\" font-family=\"Times,serif\" font-size=\"14.00\">van wilder</text>\n</g>\n<!-- the perfect score&#45;&gt;van wilder -->\n<g id=\"edge10\" class=\"edge\">\n<title>the perfect score&#45;&gt;van wilder</title>\n<path fill=\"none\" stroke=\"black\" d=\"M197.01,-108.05C204.74,-99.33 214.29,-88.54 222.76,-78.98\"/>\n<polygon fill=\"black\" stroke=\"black\" points=\"225.55,-81.11 229.56,-71.31 220.31,-76.47 225.55,-81.11\"/>\n</g>\n<!-- loser_L -->\n<g id=\"node9\" class=\"node\">\n<title>loser_L</title>\n<ellipse fill=\"black\" stroke=\"black\" cx=\"141\" cy=\"0\" rx=\"0\" ry=\"0\"/>\n</g>\n<!-- loser&#45;&gt;loser_L -->\n<g id=\"edge8\" class=\"edge\">\n<title>loser&#45;&gt;loser_L</title>\n<path fill=\"none\" stroke=\"black\" d=\"M147.05,-35.97C145.62,-27.71 143.95,-18.07 142.73,-11\"/>\n<polygon fill=\"black\" stroke=\"black\" points=\"146.16,-10.31 141.01,-1.06 139.27,-11.51 146.16,-10.31\"/>\n</g>\n<!-- loser_R -->\n<g id=\"node10\" class=\"node\">\n<title>loser_R</title>\n<ellipse fill=\"black\" stroke=\"black\" cx=\"159\" cy=\"0\" rx=\"0\" ry=\"0\"/>\n</g>\n<!-- loser&#45;&gt;loser_R -->\n<g id=\"edge9\" class=\"edge\">\n<title>loser&#45;&gt;loser_R</title>\n<path fill=\"none\" stroke=\"black\" d=\"M152.95,-35.97C154.38,-27.71 156.05,-18.07 157.27,-11\"/>\n<polygon fill=\"black\" stroke=\"black\" points=\"160.73,-11.51 158.99,-1.06 153.84,-10.31 160.73,-11.51\"/>\n</g>\n<!-- van wilder_L -->\n<g id=\"node12\" class=\"node\">\n<title>van wilder_L</title>\n<ellipse fill=\"black\" stroke=\"black\" cx=\"235\" cy=\"0\" rx=\"0\" ry=\"0\"/>\n</g>\n<!-- van wilder&#45;&gt;van wilder_L -->\n<g id=\"edge11\" class=\"edge\">\n<title>van wilder&#45;&gt;van wilder_L</title>\n<path fill=\"none\" stroke=\"black\" d=\"M241.05,-35.97C239.62,-27.71 237.95,-18.07 236.73,-11\"/>\n<polygon fill=\"black\" stroke=\"black\" points=\"240.16,-10.31 235.01,-1.06 233.27,-11.51 240.16,-10.31\"/>\n</g>\n<!-- van wilder_R -->\n<g id=\"node13\" class=\"node\">\n<title>van wilder_R</title>\n<ellipse fill=\"black\" stroke=\"black\" cx=\"253\" cy=\"0\" rx=\"0\" ry=\"0\"/>\n</g>\n<!-- van wilder&#45;&gt;van wilder_R -->\n<g id=\"edge12\" class=\"edge\">\n<title>van wilder&#45;&gt;van wilder_R</title>\n<path fill=\"none\" stroke=\"black\" d=\"M246.95,-35.97C248.38,-27.71 250.05,-18.07 251.27,-11\"/>\n<polygon fill=\"black\" stroke=\"black\" points=\"254.73,-11.51 252.99,-1.06 247.84,-10.31 254.73,-11.51\"/>\n</g>\n</g>\n</svg>\n",
            "text/plain": [
              "<graphviz.graphs.Digraph at 0x7b7844ad8820>"
            ]
          },
          "metadata": {}
        },
        {
          "output_type": "stream",
          "name": "stdout",
          "text": [
            "Se añadió la película: mohou0han\n"
          ]
        },
        {
          "output_type": "display_data",
          "data": {
            "image/svg+xml": "<?xml version=\"1.0\" encoding=\"UTF-8\" standalone=\"no\"?>\n<!DOCTYPE svg PUBLIC \"-//W3C//DTD SVG 1.1//EN\"\n \"http://www.w3.org/Graphics/SVG/1.1/DTD/svg11.dtd\">\n<!-- Generated by graphviz version 2.43.0 (0)\n -->\n<!-- Title: %3 Pages: 1 -->\n<svg width=\"275pt\" height=\"296pt\"\n viewBox=\"0.00 0.00 275.10 296.00\" xmlns=\"http://www.w3.org/2000/svg\" xmlns:xlink=\"http://www.w3.org/1999/xlink\">\n<g id=\"graph0\" class=\"graph\" transform=\"scale(1 1) rotate(0) translate(4 292)\">\n<title>%3</title>\n<polygon fill=\"white\" stroke=\"transparent\" points=\"-4,4 -4,-292 271.1,-292 271.1,4 -4,4\"/>\n<!-- high crimes -->\n<g id=\"node1\" class=\"node\">\n<title>high crimes</title>\n<ellipse fill=\"none\" stroke=\"black\" cx=\"115\" cy=\"-270\" rx=\"52.79\" ry=\"18\"/>\n<text text-anchor=\"middle\" x=\"115\" y=\"-266.3\" font-family=\"Times,serif\" font-size=\"14.00\">high crimes</text>\n</g>\n<!-- cast away -->\n<g id=\"node2\" class=\"node\">\n<title>cast away</title>\n<ellipse fill=\"none\" stroke=\"black\" cx=\"49\" cy=\"-198\" rx=\"45.49\" ry=\"18\"/>\n<text text-anchor=\"middle\" x=\"49\" y=\"-194.3\" font-family=\"Times,serif\" font-size=\"14.00\">cast away</text>\n</g>\n<!-- high crimes&#45;&gt;cast away -->\n<g id=\"edge1\" class=\"edge\">\n<title>high crimes&#45;&gt;cast away</title>\n<path fill=\"none\" stroke=\"black\" d=\"M99.69,-252.76C91.2,-243.75 80.48,-232.39 71.09,-222.43\"/>\n<polygon fill=\"black\" stroke=\"black\" points=\"73.63,-220.02 64.22,-215.15 68.54,-224.82 73.63,-220.02\"/>\n</g>\n<!-- the perfect score -->\n<g id=\"node7\" class=\"node\">\n<title>the perfect score</title>\n<ellipse fill=\"none\" stroke=\"black\" cx=\"182\" cy=\"-198\" rx=\"69.59\" ry=\"18\"/>\n<text text-anchor=\"middle\" x=\"182\" y=\"-194.3\" font-family=\"Times,serif\" font-size=\"14.00\">the perfect score</text>\n</g>\n<!-- high crimes&#45;&gt;the perfect score -->\n<g id=\"edge6\" class=\"edge\">\n<title>high crimes&#45;&gt;the perfect score</title>\n<path fill=\"none\" stroke=\"black\" d=\"M130.54,-252.76C138.96,-243.97 149.53,-232.93 158.89,-223.14\"/>\n<polygon fill=\"black\" stroke=\"black\" points=\"161.69,-225.28 166.08,-215.63 156.64,-220.44 161.69,-225.28\"/>\n</g>\n<!-- bait -->\n<g id=\"node3\" class=\"node\">\n<title>bait</title>\n<ellipse fill=\"none\" stroke=\"black\" cx=\"27\" cy=\"-126\" rx=\"27\" ry=\"18\"/>\n<text text-anchor=\"middle\" x=\"27\" y=\"-122.3\" font-family=\"Times,serif\" font-size=\"14.00\">bait</text>\n</g>\n<!-- cast away&#45;&gt;bait -->\n<g id=\"edge2\" class=\"edge\">\n<title>cast away&#45;&gt;bait</title>\n<path fill=\"none\" stroke=\"black\" d=\"M43.67,-180.05C41.16,-172.06 38.1,-162.33 35.3,-153.4\"/>\n<polygon fill=\"black\" stroke=\"black\" points=\"38.61,-152.28 32.28,-143.79 31.94,-154.38 38.61,-152.28\"/>\n</g>\n<!-- cast away_R -->\n<g id=\"node6\" class=\"node\">\n<title>cast away_R</title>\n<ellipse fill=\"black\" stroke=\"black\" cx=\"72\" cy=\"-126\" rx=\"0\" ry=\"0\"/>\n</g>\n<!-- cast away&#45;&gt;cast away_R -->\n<g id=\"edge5\" class=\"edge\">\n<title>cast away&#45;&gt;cast away_R</title>\n<path fill=\"none\" stroke=\"black\" d=\"M54.57,-180.05C59,-166.57 65.05,-148.16 68.73,-136.95\"/>\n<polygon fill=\"black\" stroke=\"black\" points=\"72.17,-137.69 71.97,-127.09 65.52,-135.5 72.17,-137.69\"/>\n</g>\n<!-- bait_L -->\n<g id=\"node4\" class=\"node\">\n<title>bait_L</title>\n<ellipse fill=\"black\" stroke=\"black\" cx=\"22\" cy=\"-54\" rx=\"0\" ry=\"0\"/>\n</g>\n<!-- bait&#45;&gt;bait_L -->\n<g id=\"edge3\" class=\"edge\">\n<title>bait&#45;&gt;bait_L</title>\n<path fill=\"none\" stroke=\"black\" d=\"M25.76,-107.7C24.81,-94.36 23.53,-76.38 22.73,-65.24\"/>\n<polygon fill=\"black\" stroke=\"black\" points=\"26.21,-64.82 22.01,-55.09 19.23,-65.32 26.21,-64.82\"/>\n</g>\n<!-- bait_R -->\n<g id=\"node5\" class=\"node\">\n<title>bait_R</title>\n<ellipse fill=\"black\" stroke=\"black\" cx=\"40\" cy=\"-54\" rx=\"0\" ry=\"0\"/>\n</g>\n<!-- bait&#45;&gt;bait_R -->\n<g id=\"edge4\" class=\"edge\">\n<title>bait&#45;&gt;bait_R</title>\n<path fill=\"none\" stroke=\"black\" d=\"M30.15,-108.05C32.65,-94.57 36.07,-76.16 38.15,-64.95\"/>\n<polygon fill=\"black\" stroke=\"black\" points=\"41.6,-65.56 39.98,-55.09 34.72,-64.29 41.6,-65.56\"/>\n</g>\n<!-- loser -->\n<g id=\"node8\" class=\"node\">\n<title>loser</title>\n<ellipse fill=\"none\" stroke=\"black\" cx=\"125\" cy=\"-126\" rx=\"27.9\" ry=\"18\"/>\n<text text-anchor=\"middle\" x=\"125\" y=\"-122.3\" font-family=\"Times,serif\" font-size=\"14.00\">loser</text>\n</g>\n<!-- the perfect score&#45;&gt;loser -->\n<g id=\"edge7\" class=\"edge\">\n<title>the perfect score&#45;&gt;loser</title>\n<path fill=\"none\" stroke=\"black\" d=\"M168.2,-180.05C160.89,-171.08 151.8,-159.92 143.85,-150.15\"/>\n<polygon fill=\"black\" stroke=\"black\" points=\"146.53,-147.9 137.5,-142.36 141.1,-152.32 146.53,-147.9\"/>\n</g>\n<!-- van wilder -->\n<g id=\"node13\" class=\"node\">\n<title>van wilder</title>\n<ellipse fill=\"none\" stroke=\"black\" cx=\"219\" cy=\"-126\" rx=\"48.19\" ry=\"18\"/>\n<text text-anchor=\"middle\" x=\"219\" y=\"-122.3\" font-family=\"Times,serif\" font-size=\"14.00\">van wilder</text>\n</g>\n<!-- the perfect score&#45;&gt;van wilder -->\n<g id=\"edge12\" class=\"edge\">\n<title>the perfect score&#45;&gt;van wilder</title>\n<path fill=\"none\" stroke=\"black\" d=\"M190.96,-180.05C195.27,-171.89 200.55,-161.91 205.35,-152.82\"/>\n<polygon fill=\"black\" stroke=\"black\" points=\"208.55,-154.27 210.13,-143.79 202.36,-150.99 208.55,-154.27\"/>\n</g>\n<!-- loser_L -->\n<g id=\"node9\" class=\"node\">\n<title>loser_L</title>\n<ellipse fill=\"black\" stroke=\"black\" cx=\"64\" cy=\"-54\" rx=\"0\" ry=\"0\"/>\n</g>\n<!-- loser&#45;&gt;loser_L -->\n<g id=\"edge8\" class=\"edge\">\n<title>loser&#45;&gt;loser_L</title>\n<path fill=\"none\" stroke=\"black\" d=\"M108.73,-110.75C97.79,-100.64 83.5,-86.36 73,-72 71.3,-69.67 69.72,-66.99 68.38,-64.44\"/>\n<polygon fill=\"black\" stroke=\"black\" points=\"71.43,-62.71 64.05,-55.12 65.09,-65.66 71.43,-62.71\"/>\n</g>\n<!-- mohou0han -->\n<g id=\"node10\" class=\"node\">\n<title>mohou0han</title>\n<ellipse fill=\"none\" stroke=\"black\" cx=\"135\" cy=\"-54\" rx=\"52.79\" ry=\"18\"/>\n<text text-anchor=\"middle\" x=\"135\" y=\"-50.3\" font-family=\"Times,serif\" font-size=\"14.00\">mohou0han</text>\n</g>\n<!-- loser&#45;&gt;mohou0han -->\n<g id=\"edge9\" class=\"edge\">\n<title>loser&#45;&gt;mohou0han</title>\n<path fill=\"none\" stroke=\"black\" d=\"M127.42,-108.05C128.52,-100.35 129.85,-91.03 131.09,-82.36\"/>\n<polygon fill=\"black\" stroke=\"black\" points=\"134.58,-82.67 132.53,-72.28 127.65,-81.68 134.58,-82.67\"/>\n</g>\n<!-- mohou0han_L -->\n<g id=\"node11\" class=\"node\">\n<title>mohou0han_L</title>\n<ellipse fill=\"black\" stroke=\"black\" cx=\"126\" cy=\"0\" rx=\"0\" ry=\"0\"/>\n</g>\n<!-- mohou0han&#45;&gt;mohou0han_L -->\n<g id=\"edge10\" class=\"edge\">\n<title>mohou0han&#45;&gt;mohou0han_L</title>\n<path fill=\"none\" stroke=\"black\" d=\"M132.05,-35.97C130.62,-27.71 128.95,-18.07 127.73,-11\"/>\n<polygon fill=\"black\" stroke=\"black\" points=\"131.16,-10.31 126.01,-1.06 124.27,-11.51 131.16,-10.31\"/>\n</g>\n<!-- mohou0han_R -->\n<g id=\"node12\" class=\"node\">\n<title>mohou0han_R</title>\n<ellipse fill=\"black\" stroke=\"black\" cx=\"144\" cy=\"0\" rx=\"0\" ry=\"0\"/>\n</g>\n<!-- mohou0han&#45;&gt;mohou0han_R -->\n<g id=\"edge11\" class=\"edge\">\n<title>mohou0han&#45;&gt;mohou0han_R</title>\n<path fill=\"none\" stroke=\"black\" d=\"M137.95,-35.97C139.38,-27.71 141.05,-18.07 142.27,-11\"/>\n<polygon fill=\"black\" stroke=\"black\" points=\"145.73,-11.51 143.99,-1.06 138.84,-10.31 145.73,-11.51\"/>\n</g>\n<!-- van wilder_L -->\n<g id=\"node14\" class=\"node\">\n<title>van wilder_L</title>\n<ellipse fill=\"black\" stroke=\"black\" cx=\"209\" cy=\"-54\" rx=\"0\" ry=\"0\"/>\n</g>\n<!-- van wilder&#45;&gt;van wilder_L -->\n<g id=\"edge13\" class=\"edge\">\n<title>van wilder&#45;&gt;van wilder_L</title>\n<path fill=\"none\" stroke=\"black\" d=\"M216.53,-107.7C214.62,-94.36 212.05,-76.38 210.46,-65.24\"/>\n<polygon fill=\"black\" stroke=\"black\" points=\"213.89,-64.5 209.01,-55.09 206.96,-65.49 213.89,-64.5\"/>\n</g>\n<!-- van wilder_R -->\n<g id=\"node15\" class=\"node\">\n<title>van wilder_R</title>\n<ellipse fill=\"black\" stroke=\"black\" cx=\"227\" cy=\"-54\" rx=\"0\" ry=\"0\"/>\n</g>\n<!-- van wilder&#45;&gt;van wilder_R -->\n<g id=\"edge14\" class=\"edge\">\n<title>van wilder&#45;&gt;van wilder_R</title>\n<path fill=\"none\" stroke=\"black\" d=\"M220.98,-107.7C222.5,-94.36 224.56,-76.38 225.83,-65.24\"/>\n<polygon fill=\"black\" stroke=\"black\" points=\"229.33,-65.43 226.99,-55.09 222.38,-64.63 229.33,-65.43\"/>\n</g>\n</g>\n</svg>\n",
            "text/plain": [
              "<graphviz.graphs.Digraph at 0x7b781c3033d0>"
            ]
          },
          "metadata": {}
        },
        {
          "output_type": "display_data",
          "data": {
            "image/svg+xml": "<?xml version=\"1.0\" encoding=\"UTF-8\" standalone=\"no\"?>\n<!DOCTYPE svg PUBLIC \"-//W3C//DTD SVG 1.1//EN\"\n \"http://www.w3.org/Graphics/SVG/1.1/DTD/svg11.dtd\">\n<!-- Generated by graphviz version 2.43.0 (0)\n -->\n<!-- Title: %3 Pages: 1 -->\n<svg width=\"337pt\" height=\"224pt\"\n viewBox=\"0.00 0.00 337.10 224.00\" xmlns=\"http://www.w3.org/2000/svg\" xmlns:xlink=\"http://www.w3.org/1999/xlink\">\n<g id=\"graph0\" class=\"graph\" transform=\"scale(1 1) rotate(0) translate(4 220)\">\n<title>%3</title>\n<polygon fill=\"white\" stroke=\"transparent\" points=\"-4,4 -4,-220 333.1,-220 333.1,4 -4,4\"/>\n<!-- loser -->\n<g id=\"node1\" class=\"node\">\n<title>loser</title>\n<ellipse fill=\"none\" stroke=\"black\" cx=\"115\" cy=\"-198\" rx=\"27.9\" ry=\"18\"/>\n<text text-anchor=\"middle\" x=\"115\" y=\"-194.3\" font-family=\"Times,serif\" font-size=\"14.00\">loser</text>\n</g>\n<!-- cast away -->\n<g id=\"node2\" class=\"node\">\n<title>cast away</title>\n<ellipse fill=\"none\" stroke=\"black\" cx=\"49\" cy=\"-126\" rx=\"45.49\" ry=\"18\"/>\n<text text-anchor=\"middle\" x=\"49\" y=\"-122.3\" font-family=\"Times,serif\" font-size=\"14.00\">cast away</text>\n</g>\n<!-- loser&#45;&gt;cast away -->\n<g id=\"edge1\" class=\"edge\">\n<title>loser&#45;&gt;cast away</title>\n<path fill=\"none\" stroke=\"black\" d=\"M101,-182.15C92.44,-173.07 81.29,-161.24 71.51,-150.87\"/>\n<polygon fill=\"black\" stroke=\"black\" points=\"73.77,-148.17 64.36,-143.29 68.67,-152.97 73.77,-148.17\"/>\n</g>\n<!-- the perfect score -->\n<g id=\"node7\" class=\"node\">\n<title>the perfect score</title>\n<ellipse fill=\"none\" stroke=\"black\" cx=\"182\" cy=\"-126\" rx=\"69.59\" ry=\"18\"/>\n<text text-anchor=\"middle\" x=\"182\" y=\"-122.3\" font-family=\"Times,serif\" font-size=\"14.00\">the perfect score</text>\n</g>\n<!-- loser&#45;&gt;the perfect score -->\n<g id=\"edge6\" class=\"edge\">\n<title>loser&#45;&gt;the perfect score</title>\n<path fill=\"none\" stroke=\"black\" d=\"M129.21,-182.15C137.78,-173.2 148.91,-161.58 158.73,-151.31\"/>\n<polygon fill=\"black\" stroke=\"black\" points=\"161.54,-153.43 165.93,-143.79 156.49,-148.59 161.54,-153.43\"/>\n</g>\n<!-- bait -->\n<g id=\"node3\" class=\"node\">\n<title>bait</title>\n<ellipse fill=\"none\" stroke=\"black\" cx=\"27\" cy=\"-54\" rx=\"27\" ry=\"18\"/>\n<text text-anchor=\"middle\" x=\"27\" y=\"-50.3\" font-family=\"Times,serif\" font-size=\"14.00\">bait</text>\n</g>\n<!-- cast away&#45;&gt;bait -->\n<g id=\"edge2\" class=\"edge\">\n<title>cast away&#45;&gt;bait</title>\n<path fill=\"none\" stroke=\"black\" d=\"M43.67,-108.05C41.16,-100.06 38.1,-90.33 35.3,-81.4\"/>\n<polygon fill=\"black\" stroke=\"black\" points=\"38.61,-80.28 32.28,-71.79 31.94,-82.38 38.61,-80.28\"/>\n</g>\n<!-- cast away_R -->\n<g id=\"node6\" class=\"node\">\n<title>cast away_R</title>\n<ellipse fill=\"black\" stroke=\"black\" cx=\"72\" cy=\"-54\" rx=\"0\" ry=\"0\"/>\n</g>\n<!-- cast away&#45;&gt;cast away_R -->\n<g id=\"edge5\" class=\"edge\">\n<title>cast away&#45;&gt;cast away_R</title>\n<path fill=\"none\" stroke=\"black\" d=\"M54.57,-108.05C59,-94.57 65.05,-76.16 68.73,-64.95\"/>\n<polygon fill=\"black\" stroke=\"black\" points=\"72.17,-65.69 71.97,-55.09 65.52,-63.5 72.17,-65.69\"/>\n</g>\n<!-- bait_L -->\n<g id=\"node4\" class=\"node\">\n<title>bait_L</title>\n<ellipse fill=\"black\" stroke=\"black\" cx=\"18\" cy=\"0\" rx=\"0\" ry=\"0\"/>\n</g>\n<!-- bait&#45;&gt;bait_L -->\n<g id=\"edge3\" class=\"edge\">\n<title>bait&#45;&gt;bait_L</title>\n<path fill=\"none\" stroke=\"black\" d=\"M24.05,-35.97C22.62,-27.71 20.95,-18.07 19.73,-11\"/>\n<polygon fill=\"black\" stroke=\"black\" points=\"23.16,-10.31 18.01,-1.06 16.27,-11.51 23.16,-10.31\"/>\n</g>\n<!-- bait_R -->\n<g id=\"node5\" class=\"node\">\n<title>bait_R</title>\n<ellipse fill=\"black\" stroke=\"black\" cx=\"36\" cy=\"0\" rx=\"0\" ry=\"0\"/>\n</g>\n<!-- bait&#45;&gt;bait_R -->\n<g id=\"edge4\" class=\"edge\">\n<title>bait&#45;&gt;bait_R</title>\n<path fill=\"none\" stroke=\"black\" d=\"M29.95,-35.97C31.38,-27.71 33.05,-18.07 34.27,-11\"/>\n<polygon fill=\"black\" stroke=\"black\" points=\"37.73,-11.51 35.99,-1.06 30.84,-10.31 37.73,-11.51\"/>\n</g>\n<!-- mohou0han -->\n<g id=\"node8\" class=\"node\">\n<title>mohou0han</title>\n<ellipse fill=\"none\" stroke=\"black\" cx=\"162\" cy=\"-54\" rx=\"52.79\" ry=\"18\"/>\n<text text-anchor=\"middle\" x=\"162\" y=\"-50.3\" font-family=\"Times,serif\" font-size=\"14.00\">mohou0han</text>\n</g>\n<!-- the perfect score&#45;&gt;mohou0han -->\n<g id=\"edge7\" class=\"edge\">\n<title>the perfect score&#45;&gt;mohou0han</title>\n<path fill=\"none\" stroke=\"black\" d=\"M177.06,-107.7C174.83,-99.9 172.15,-90.51 169.67,-81.83\"/>\n<polygon fill=\"black\" stroke=\"black\" points=\"173,-80.76 166.89,-72.1 166.27,-82.68 173,-80.76\"/>\n</g>\n<!-- van wilder -->\n<g id=\"node11\" class=\"node\">\n<title>van wilder</title>\n<ellipse fill=\"none\" stroke=\"black\" cx=\"281\" cy=\"-54\" rx=\"48.19\" ry=\"18\"/>\n<text text-anchor=\"middle\" x=\"281\" y=\"-50.3\" font-family=\"Times,serif\" font-size=\"14.00\">van wilder</text>\n</g>\n<!-- the perfect score&#45;&gt;van wilder -->\n<g id=\"edge10\" class=\"edge\">\n<title>the perfect score&#45;&gt;van wilder</title>\n<path fill=\"none\" stroke=\"black\" d=\"M204.96,-108.76C218.71,-99.04 236.34,-86.57 251.17,-76.09\"/>\n<polygon fill=\"black\" stroke=\"black\" points=\"253.37,-78.82 259.52,-70.19 249.33,-73.1 253.37,-78.82\"/>\n</g>\n<!-- mohou0han_L -->\n<g id=\"node9\" class=\"node\">\n<title>mohou0han_L</title>\n<ellipse fill=\"black\" stroke=\"black\" cx=\"153\" cy=\"0\" rx=\"0\" ry=\"0\"/>\n</g>\n<!-- mohou0han&#45;&gt;mohou0han_L -->\n<g id=\"edge8\" class=\"edge\">\n<title>mohou0han&#45;&gt;mohou0han_L</title>\n<path fill=\"none\" stroke=\"black\" d=\"M159.05,-35.97C157.62,-27.71 155.95,-18.07 154.73,-11\"/>\n<polygon fill=\"black\" stroke=\"black\" points=\"158.16,-10.31 153.01,-1.06 151.27,-11.51 158.16,-10.31\"/>\n</g>\n<!-- mohou0han_R -->\n<g id=\"node10\" class=\"node\">\n<title>mohou0han_R</title>\n<ellipse fill=\"black\" stroke=\"black\" cx=\"171\" cy=\"0\" rx=\"0\" ry=\"0\"/>\n</g>\n<!-- mohou0han&#45;&gt;mohou0han_R -->\n<g id=\"edge9\" class=\"edge\">\n<title>mohou0han&#45;&gt;mohou0han_R</title>\n<path fill=\"none\" stroke=\"black\" d=\"M164.95,-35.97C166.38,-27.71 168.05,-18.07 169.27,-11\"/>\n<polygon fill=\"black\" stroke=\"black\" points=\"172.73,-11.51 170.99,-1.06 165.84,-10.31 172.73,-11.51\"/>\n</g>\n<!-- van wilder_L -->\n<g id=\"node12\" class=\"node\">\n<title>van wilder_L</title>\n<ellipse fill=\"black\" stroke=\"black\" cx=\"272\" cy=\"0\" rx=\"0\" ry=\"0\"/>\n</g>\n<!-- van wilder&#45;&gt;van wilder_L -->\n<g id=\"edge11\" class=\"edge\">\n<title>van wilder&#45;&gt;van wilder_L</title>\n<path fill=\"none\" stroke=\"black\" d=\"M278.05,-35.97C276.62,-27.71 274.95,-18.07 273.73,-11\"/>\n<polygon fill=\"black\" stroke=\"black\" points=\"277.16,-10.31 272.01,-1.06 270.27,-11.51 277.16,-10.31\"/>\n</g>\n<!-- van wilder_R -->\n<g id=\"node13\" class=\"node\">\n<title>van wilder_R</title>\n<ellipse fill=\"black\" stroke=\"black\" cx=\"290\" cy=\"0\" rx=\"0\" ry=\"0\"/>\n</g>\n<!-- van wilder&#45;&gt;van wilder_R -->\n<g id=\"edge12\" class=\"edge\">\n<title>van wilder&#45;&gt;van wilder_R</title>\n<path fill=\"none\" stroke=\"black\" d=\"M283.95,-35.97C285.38,-27.71 287.05,-18.07 288.27,-11\"/>\n<polygon fill=\"black\" stroke=\"black\" points=\"291.73,-11.51 289.99,-1.06 284.84,-10.31 291.73,-11.51\"/>\n</g>\n</g>\n</svg>\n",
            "text/plain": [
              "<graphviz.graphs.Digraph at 0x7b781c60ff70>"
            ]
          },
          "metadata": {}
        }
      ]
    },
    {
      "cell_type": "code",
      "source": [],
      "metadata": {
        "id": "FgyfEs-b7Qrq"
      },
      "execution_count": 2,
      "outputs": []
    },
    {
      "cell_type": "code",
      "source": [
        "%config IPCompleter.greedy=True\n",
        "import pandas as pd\n",
        "import numpy as np\n",
        "import xlrd\n",
        "import seaborn as sns\n",
        "import matplotlib.pyplot as plt\n",
        "from matplotlib.ticker import PercentFormatter\n"
      ],
      "metadata": {
        "id": "N2q2Eo7-MNoS"
      },
      "execution_count": 3,
      "outputs": []
    },
    {
      "cell_type": "code",
      "source": [
        "from google.colab import files"
      ],
      "metadata": {
        "id": "783JIdeMMx0r"
      },
      "execution_count": 4,
      "outputs": []
    },
    {
      "cell_type": "code",
      "source": [
        "from google.colab import drive\n",
        "drive.mount('/content/drive')"
      ],
      "metadata": {
        "colab": {
          "base_uri": "https://localhost:8080/"
        },
        "id": "an7V6E31M9y9",
        "outputId": "b96e84a0-5b40-438e-94d3-c6e4ebcc1490"
      },
      "execution_count": 5,
      "outputs": [
        {
          "output_type": "stream",
          "name": "stdout",
          "text": [
            "Mounted at /content/drive\n"
          ]
        }
      ]
    },
    {
      "cell_type": "code",
      "source": [
        "#Ruta David Alejandro\n",
        "import pandas as pd\n",
        "df = pd.read_excel(\"/content/drive/MyDrive/dataset_movies.xlsx\")\n",
        "df.shape"
      ],
      "metadata": {
        "colab": {
          "base_uri": "https://localhost:8080/",
          "height": 359
        },
        "id": "Soj7HXxJN9L2",
        "outputId": "0783cc7e-6692-4a63-ccee-37df8b7455b9"
      },
      "execution_count": null,
      "outputs": [
        {
          "output_type": "error",
          "ename": "FileNotFoundError",
          "evalue": "[Errno 2] No such file or directory: '/content/drive/MyDrive/dataset_movies.xlsx'",
          "traceback": [
            "\u001b[0;31m---------------------------------------------------------------------------\u001b[0m",
            "\u001b[0;31mFileNotFoundError\u001b[0m                         Traceback (most recent call last)",
            "\u001b[0;32m<ipython-input-6-31eb8c02ffff>\u001b[0m in \u001b[0;36m<cell line: 3>\u001b[0;34m()\u001b[0m\n\u001b[1;32m      1\u001b[0m \u001b[0;31m#Ruta David Alejandro\u001b[0m\u001b[0;34m\u001b[0m\u001b[0;34m\u001b[0m\u001b[0m\n\u001b[1;32m      2\u001b[0m \u001b[0;32mimport\u001b[0m \u001b[0mpandas\u001b[0m \u001b[0;32mas\u001b[0m \u001b[0mpd\u001b[0m\u001b[0;34m\u001b[0m\u001b[0;34m\u001b[0m\u001b[0m\n\u001b[0;32m----> 3\u001b[0;31m \u001b[0mdf\u001b[0m \u001b[0;34m=\u001b[0m \u001b[0mpd\u001b[0m\u001b[0;34m.\u001b[0m\u001b[0mread_excel\u001b[0m\u001b[0;34m(\u001b[0m\u001b[0;34m\"/content/drive/MyDrive/dataset_movies.xlsx\"\u001b[0m\u001b[0;34m)\u001b[0m\u001b[0;34m\u001b[0m\u001b[0;34m\u001b[0m\u001b[0m\n\u001b[0m\u001b[1;32m      4\u001b[0m \u001b[0mdf\u001b[0m\u001b[0;34m.\u001b[0m\u001b[0mshape\u001b[0m\u001b[0;34m\u001b[0m\u001b[0;34m\u001b[0m\u001b[0m\n",
            "\u001b[0;32m/usr/local/lib/python3.10/dist-packages/pandas/io/excel/_base.py\u001b[0m in \u001b[0;36mread_excel\u001b[0;34m(io, sheet_name, header, names, index_col, usecols, dtype, engine, converters, true_values, false_values, skiprows, nrows, na_values, keep_default_na, na_filter, verbose, parse_dates, date_parser, date_format, thousands, decimal, comment, skipfooter, storage_options, dtype_backend, engine_kwargs)\u001b[0m\n\u001b[1;32m    502\u001b[0m     \u001b[0;32mif\u001b[0m \u001b[0;32mnot\u001b[0m \u001b[0misinstance\u001b[0m\u001b[0;34m(\u001b[0m\u001b[0mio\u001b[0m\u001b[0;34m,\u001b[0m \u001b[0mExcelFile\u001b[0m\u001b[0;34m)\u001b[0m\u001b[0;34m:\u001b[0m\u001b[0;34m\u001b[0m\u001b[0;34m\u001b[0m\u001b[0m\n\u001b[1;32m    503\u001b[0m         \u001b[0mshould_close\u001b[0m \u001b[0;34m=\u001b[0m \u001b[0;32mTrue\u001b[0m\u001b[0;34m\u001b[0m\u001b[0;34m\u001b[0m\u001b[0m\n\u001b[0;32m--> 504\u001b[0;31m         io = ExcelFile(\n\u001b[0m\u001b[1;32m    505\u001b[0m             \u001b[0mio\u001b[0m\u001b[0;34m,\u001b[0m\u001b[0;34m\u001b[0m\u001b[0;34m\u001b[0m\u001b[0m\n\u001b[1;32m    506\u001b[0m             \u001b[0mstorage_options\u001b[0m\u001b[0;34m=\u001b[0m\u001b[0mstorage_options\u001b[0m\u001b[0;34m,\u001b[0m\u001b[0;34m\u001b[0m\u001b[0;34m\u001b[0m\u001b[0m\n",
            "\u001b[0;32m/usr/local/lib/python3.10/dist-packages/pandas/io/excel/_base.py\u001b[0m in \u001b[0;36m__init__\u001b[0;34m(self, path_or_buffer, engine, storage_options, engine_kwargs)\u001b[0m\n\u001b[1;32m   1561\u001b[0m                 \u001b[0mext\u001b[0m \u001b[0;34m=\u001b[0m \u001b[0;34m\"xls\"\u001b[0m\u001b[0;34m\u001b[0m\u001b[0;34m\u001b[0m\u001b[0m\n\u001b[1;32m   1562\u001b[0m             \u001b[0;32melse\u001b[0m\u001b[0;34m:\u001b[0m\u001b[0;34m\u001b[0m\u001b[0;34m\u001b[0m\u001b[0m\n\u001b[0;32m-> 1563\u001b[0;31m                 ext = inspect_excel_format(\n\u001b[0m\u001b[1;32m   1564\u001b[0m                     \u001b[0mcontent_or_path\u001b[0m\u001b[0;34m=\u001b[0m\u001b[0mpath_or_buffer\u001b[0m\u001b[0;34m,\u001b[0m \u001b[0mstorage_options\u001b[0m\u001b[0;34m=\u001b[0m\u001b[0mstorage_options\u001b[0m\u001b[0;34m\u001b[0m\u001b[0;34m\u001b[0m\u001b[0m\n\u001b[1;32m   1565\u001b[0m                 )\n",
            "\u001b[0;32m/usr/local/lib/python3.10/dist-packages/pandas/io/excel/_base.py\u001b[0m in \u001b[0;36minspect_excel_format\u001b[0;34m(content_or_path, storage_options)\u001b[0m\n\u001b[1;32m   1417\u001b[0m         \u001b[0mcontent_or_path\u001b[0m \u001b[0;34m=\u001b[0m \u001b[0mBytesIO\u001b[0m\u001b[0;34m(\u001b[0m\u001b[0mcontent_or_path\u001b[0m\u001b[0;34m)\u001b[0m\u001b[0;34m\u001b[0m\u001b[0;34m\u001b[0m\u001b[0m\n\u001b[1;32m   1418\u001b[0m \u001b[0;34m\u001b[0m\u001b[0m\n\u001b[0;32m-> 1419\u001b[0;31m     with get_handle(\n\u001b[0m\u001b[1;32m   1420\u001b[0m         \u001b[0mcontent_or_path\u001b[0m\u001b[0;34m,\u001b[0m \u001b[0;34m\"rb\"\u001b[0m\u001b[0;34m,\u001b[0m \u001b[0mstorage_options\u001b[0m\u001b[0;34m=\u001b[0m\u001b[0mstorage_options\u001b[0m\u001b[0;34m,\u001b[0m \u001b[0mis_text\u001b[0m\u001b[0;34m=\u001b[0m\u001b[0;32mFalse\u001b[0m\u001b[0;34m\u001b[0m\u001b[0;34m\u001b[0m\u001b[0m\n\u001b[1;32m   1421\u001b[0m     ) as handle:\n",
            "\u001b[0;32m/usr/local/lib/python3.10/dist-packages/pandas/io/common.py\u001b[0m in \u001b[0;36mget_handle\u001b[0;34m(path_or_buf, mode, encoding, compression, memory_map, is_text, errors, storage_options)\u001b[0m\n\u001b[1;32m    870\u001b[0m         \u001b[0;32melse\u001b[0m\u001b[0;34m:\u001b[0m\u001b[0;34m\u001b[0m\u001b[0;34m\u001b[0m\u001b[0m\n\u001b[1;32m    871\u001b[0m             \u001b[0;31m# Binary mode\u001b[0m\u001b[0;34m\u001b[0m\u001b[0;34m\u001b[0m\u001b[0m\n\u001b[0;32m--> 872\u001b[0;31m             \u001b[0mhandle\u001b[0m \u001b[0;34m=\u001b[0m \u001b[0mopen\u001b[0m\u001b[0;34m(\u001b[0m\u001b[0mhandle\u001b[0m\u001b[0;34m,\u001b[0m \u001b[0mioargs\u001b[0m\u001b[0;34m.\u001b[0m\u001b[0mmode\u001b[0m\u001b[0;34m)\u001b[0m\u001b[0;34m\u001b[0m\u001b[0;34m\u001b[0m\u001b[0m\n\u001b[0m\u001b[1;32m    873\u001b[0m         \u001b[0mhandles\u001b[0m\u001b[0;34m.\u001b[0m\u001b[0mappend\u001b[0m\u001b[0;34m(\u001b[0m\u001b[0mhandle\u001b[0m\u001b[0;34m)\u001b[0m\u001b[0;34m\u001b[0m\u001b[0;34m\u001b[0m\u001b[0m\n\u001b[1;32m    874\u001b[0m \u001b[0;34m\u001b[0m\u001b[0m\n",
            "\u001b[0;31mFileNotFoundError\u001b[0m: [Errno 2] No such file or directory: '/content/drive/MyDrive/dataset_movies.xlsx'"
          ]
        }
      ]
    },
    {
      "cell_type": "code",
      "source": [
        "#Ruta Alejandro David\n",
        "import pandas as pd\n",
        "df = pd.read_excel(\"/content/drive/MyDrive/Diabetes/dataset_movies.xlsx\")\n",
        "df.shape"
      ],
      "metadata": {
        "colab": {
          "base_uri": "https://localhost:8080/"
        },
        "id": "Lcu0hCpAdoDu",
        "outputId": "57408dec-ce24-4731-d406-f6714d5beef1"
      },
      "execution_count": 6,
      "outputs": [
        {
          "output_type": "execute_result",
          "data": {
            "text/plain": [
              "(4953, 7)"
            ]
          },
          "metadata": {},
          "execution_count": 6
        }
      ]
    },
    {
      "cell_type": "code",
      "source": [
        "df.dtypes\n",
        "print(df.dtypes)"
      ],
      "metadata": {
        "colab": {
          "base_uri": "https://localhost:8080/"
        },
        "id": "h517FmIhOnsN",
        "outputId": "b1a0953f-7000-4fcd-a9af-d820b4114d5b"
      },
      "execution_count": null,
      "outputs": [
        {
          "output_type": "stream",
          "name": "stdout",
          "text": [
            "Title                         object\n",
            "Worldwide Earnings             int64\n",
            "Domestic Earnings              int64\n",
            "Domestic Percent Earnings    float64\n",
            "Foreign Earnings               int64\n",
            "Foreign Percent Earnings     float64\n",
            "Year                           int64\n",
            "dtype: object\n"
          ]
        }
      ]
    },
    {
      "cell_type": "code",
      "source": [
        "df.head(1000)"
      ],
      "metadata": {
        "colab": {
          "base_uri": "https://localhost:8080/",
          "height": 444
        },
        "id": "HfghBPhLPDfk",
        "outputId": "a9365479-0a0a-4e59-de14-f5f1cec0f7a3"
      },
      "execution_count": 7,
      "outputs": [
        {
          "output_type": "execute_result",
          "data": {
            "text/plain": [
              "                                                 Title  Worldwide Earnings  \\\n",
              "0                               Mission: Impossible II           546388108   \n",
              "1                                            Gladiator           460583960   \n",
              "2                                            Cast Away           429632142   \n",
              "3                                      What Women Want           374111707   \n",
              "4                                             Dinosaur           349822765   \n",
              "..                                                 ...                 ...   \n",
              "995                                   Connie and Carla            11341016   \n",
              "996  Naruto the Movie: Ninja Clash in the Land of Snow            11141307   \n",
              "997                                            Head0On            11030861   \n",
              "998                                       District B13            10976892   \n",
              "999                                  The Perfect Score            10898337   \n",
              "\n",
              "     Domestic Earnings  Domestic Percent Earnings  Foreign Earnings  \\\n",
              "0            215409889                       39.4         330978219   \n",
              "1            187705427                       40.8         272878533   \n",
              "2            233632142                       54.4         196000000   \n",
              "3            182811707                       48.9         191300000   \n",
              "4            137748063                       39.4         212074702   \n",
              "..                 ...                        ...               ...   \n",
              "995            8085771                       71.3           3255245   \n",
              "996                  0                        0.0          11141307   \n",
              "997             435395                        3.9          10595466   \n",
              "998            1200216                       10.9           9776676   \n",
              "999           10391003                       95.3            507334   \n",
              "\n",
              "     Foreign Percent Earnings  Year  \n",
              "0                        60.6  2000  \n",
              "1                        59.2  2000  \n",
              "2                        45.6  2000  \n",
              "3                        51.1  2000  \n",
              "4                        60.6  2000  \n",
              "..                        ...   ...  \n",
              "995                      28.7  2004  \n",
              "996                     100.0  2004  \n",
              "997                      96.1  2004  \n",
              "998                      89.1  2004  \n",
              "999                       4.7  2004  \n",
              "\n",
              "[1000 rows x 7 columns]"
            ],
            "text/html": [
              "\n",
              "  <div id=\"df-aeb292fb-b1d2-4c21-ab8b-9a6a053d4833\" class=\"colab-df-container\">\n",
              "    <div>\n",
              "<style scoped>\n",
              "    .dataframe tbody tr th:only-of-type {\n",
              "        vertical-align: middle;\n",
              "    }\n",
              "\n",
              "    .dataframe tbody tr th {\n",
              "        vertical-align: top;\n",
              "    }\n",
              "\n",
              "    .dataframe thead th {\n",
              "        text-align: right;\n",
              "    }\n",
              "</style>\n",
              "<table border=\"1\" class=\"dataframe\">\n",
              "  <thead>\n",
              "    <tr style=\"text-align: right;\">\n",
              "      <th></th>\n",
              "      <th>Title</th>\n",
              "      <th>Worldwide Earnings</th>\n",
              "      <th>Domestic Earnings</th>\n",
              "      <th>Domestic Percent Earnings</th>\n",
              "      <th>Foreign Earnings</th>\n",
              "      <th>Foreign Percent Earnings</th>\n",
              "      <th>Year</th>\n",
              "    </tr>\n",
              "  </thead>\n",
              "  <tbody>\n",
              "    <tr>\n",
              "      <th>0</th>\n",
              "      <td>Mission: Impossible II</td>\n",
              "      <td>546388108</td>\n",
              "      <td>215409889</td>\n",
              "      <td>39.4</td>\n",
              "      <td>330978219</td>\n",
              "      <td>60.6</td>\n",
              "      <td>2000</td>\n",
              "    </tr>\n",
              "    <tr>\n",
              "      <th>1</th>\n",
              "      <td>Gladiator</td>\n",
              "      <td>460583960</td>\n",
              "      <td>187705427</td>\n",
              "      <td>40.8</td>\n",
              "      <td>272878533</td>\n",
              "      <td>59.2</td>\n",
              "      <td>2000</td>\n",
              "    </tr>\n",
              "    <tr>\n",
              "      <th>2</th>\n",
              "      <td>Cast Away</td>\n",
              "      <td>429632142</td>\n",
              "      <td>233632142</td>\n",
              "      <td>54.4</td>\n",
              "      <td>196000000</td>\n",
              "      <td>45.6</td>\n",
              "      <td>2000</td>\n",
              "    </tr>\n",
              "    <tr>\n",
              "      <th>3</th>\n",
              "      <td>What Women Want</td>\n",
              "      <td>374111707</td>\n",
              "      <td>182811707</td>\n",
              "      <td>48.9</td>\n",
              "      <td>191300000</td>\n",
              "      <td>51.1</td>\n",
              "      <td>2000</td>\n",
              "    </tr>\n",
              "    <tr>\n",
              "      <th>4</th>\n",
              "      <td>Dinosaur</td>\n",
              "      <td>349822765</td>\n",
              "      <td>137748063</td>\n",
              "      <td>39.4</td>\n",
              "      <td>212074702</td>\n",
              "      <td>60.6</td>\n",
              "      <td>2000</td>\n",
              "    </tr>\n",
              "    <tr>\n",
              "      <th>...</th>\n",
              "      <td>...</td>\n",
              "      <td>...</td>\n",
              "      <td>...</td>\n",
              "      <td>...</td>\n",
              "      <td>...</td>\n",
              "      <td>...</td>\n",
              "      <td>...</td>\n",
              "    </tr>\n",
              "    <tr>\n",
              "      <th>995</th>\n",
              "      <td>Connie and Carla</td>\n",
              "      <td>11341016</td>\n",
              "      <td>8085771</td>\n",
              "      <td>71.3</td>\n",
              "      <td>3255245</td>\n",
              "      <td>28.7</td>\n",
              "      <td>2004</td>\n",
              "    </tr>\n",
              "    <tr>\n",
              "      <th>996</th>\n",
              "      <td>Naruto the Movie: Ninja Clash in the Land of Snow</td>\n",
              "      <td>11141307</td>\n",
              "      <td>0</td>\n",
              "      <td>0.0</td>\n",
              "      <td>11141307</td>\n",
              "      <td>100.0</td>\n",
              "      <td>2004</td>\n",
              "    </tr>\n",
              "    <tr>\n",
              "      <th>997</th>\n",
              "      <td>Head0On</td>\n",
              "      <td>11030861</td>\n",
              "      <td>435395</td>\n",
              "      <td>3.9</td>\n",
              "      <td>10595466</td>\n",
              "      <td>96.1</td>\n",
              "      <td>2004</td>\n",
              "    </tr>\n",
              "    <tr>\n",
              "      <th>998</th>\n",
              "      <td>District B13</td>\n",
              "      <td>10976892</td>\n",
              "      <td>1200216</td>\n",
              "      <td>10.9</td>\n",
              "      <td>9776676</td>\n",
              "      <td>89.1</td>\n",
              "      <td>2004</td>\n",
              "    </tr>\n",
              "    <tr>\n",
              "      <th>999</th>\n",
              "      <td>The Perfect Score</td>\n",
              "      <td>10898337</td>\n",
              "      <td>10391003</td>\n",
              "      <td>95.3</td>\n",
              "      <td>507334</td>\n",
              "      <td>4.7</td>\n",
              "      <td>2004</td>\n",
              "    </tr>\n",
              "  </tbody>\n",
              "</table>\n",
              "<p>1000 rows × 7 columns</p>\n",
              "</div>\n",
              "    <div class=\"colab-df-buttons\">\n",
              "\n",
              "  <div class=\"colab-df-container\">\n",
              "    <button class=\"colab-df-convert\" onclick=\"convertToInteractive('df-aeb292fb-b1d2-4c21-ab8b-9a6a053d4833')\"\n",
              "            title=\"Convert this dataframe to an interactive table.\"\n",
              "            style=\"display:none;\">\n",
              "\n",
              "  <svg xmlns=\"http://www.w3.org/2000/svg\" height=\"24px\" viewBox=\"0 -960 960 960\">\n",
              "    <path d=\"M120-120v-720h720v720H120Zm60-500h600v-160H180v160Zm220 220h160v-160H400v160Zm0 220h160v-160H400v160ZM180-400h160v-160H180v160Zm440 0h160v-160H620v160ZM180-180h160v-160H180v160Zm440 0h160v-160H620v160Z\"/>\n",
              "  </svg>\n",
              "    </button>\n",
              "\n",
              "  <style>\n",
              "    .colab-df-container {\n",
              "      display:flex;\n",
              "      gap: 12px;\n",
              "    }\n",
              "\n",
              "    .colab-df-convert {\n",
              "      background-color: #E8F0FE;\n",
              "      border: none;\n",
              "      border-radius: 50%;\n",
              "      cursor: pointer;\n",
              "      display: none;\n",
              "      fill: #1967D2;\n",
              "      height: 32px;\n",
              "      padding: 0 0 0 0;\n",
              "      width: 32px;\n",
              "    }\n",
              "\n",
              "    .colab-df-convert:hover {\n",
              "      background-color: #E2EBFA;\n",
              "      box-shadow: 0px 1px 2px rgba(60, 64, 67, 0.3), 0px 1px 3px 1px rgba(60, 64, 67, 0.15);\n",
              "      fill: #174EA6;\n",
              "    }\n",
              "\n",
              "    .colab-df-buttons div {\n",
              "      margin-bottom: 4px;\n",
              "    }\n",
              "\n",
              "    [theme=dark] .colab-df-convert {\n",
              "      background-color: #3B4455;\n",
              "      fill: #D2E3FC;\n",
              "    }\n",
              "\n",
              "    [theme=dark] .colab-df-convert:hover {\n",
              "      background-color: #434B5C;\n",
              "      box-shadow: 0px 1px 3px 1px rgba(0, 0, 0, 0.15);\n",
              "      filter: drop-shadow(0px 1px 2px rgba(0, 0, 0, 0.3));\n",
              "      fill: #FFFFFF;\n",
              "    }\n",
              "  </style>\n",
              "\n",
              "    <script>\n",
              "      const buttonEl =\n",
              "        document.querySelector('#df-aeb292fb-b1d2-4c21-ab8b-9a6a053d4833 button.colab-df-convert');\n",
              "      buttonEl.style.display =\n",
              "        google.colab.kernel.accessAllowed ? 'block' : 'none';\n",
              "\n",
              "      async function convertToInteractive(key) {\n",
              "        const element = document.querySelector('#df-aeb292fb-b1d2-4c21-ab8b-9a6a053d4833');\n",
              "        const dataTable =\n",
              "          await google.colab.kernel.invokeFunction('convertToInteractive',\n",
              "                                                    [key], {});\n",
              "        if (!dataTable) return;\n",
              "\n",
              "        const docLinkHtml = 'Like what you see? Visit the ' +\n",
              "          '<a target=\"_blank\" href=https://colab.research.google.com/notebooks/data_table.ipynb>data table notebook</a>'\n",
              "          + ' to learn more about interactive tables.';\n",
              "        element.innerHTML = '';\n",
              "        dataTable['output_type'] = 'display_data';\n",
              "        await google.colab.output.renderOutput(dataTable, element);\n",
              "        const docLink = document.createElement('div');\n",
              "        docLink.innerHTML = docLinkHtml;\n",
              "        element.appendChild(docLink);\n",
              "      }\n",
              "    </script>\n",
              "  </div>\n",
              "\n",
              "\n",
              "<div id=\"df-52a404a9-a423-4153-a18d-a24b9a92c282\">\n",
              "  <button class=\"colab-df-quickchart\" onclick=\"quickchart('df-52a404a9-a423-4153-a18d-a24b9a92c282')\"\n",
              "            title=\"Suggest charts\"\n",
              "            style=\"display:none;\">\n",
              "\n",
              "<svg xmlns=\"http://www.w3.org/2000/svg\" height=\"24px\"viewBox=\"0 0 24 24\"\n",
              "     width=\"24px\">\n",
              "    <g>\n",
              "        <path d=\"M19 3H5c-1.1 0-2 .9-2 2v14c0 1.1.9 2 2 2h14c1.1 0 2-.9 2-2V5c0-1.1-.9-2-2-2zM9 17H7v-7h2v7zm4 0h-2V7h2v10zm4 0h-2v-4h2v4z\"/>\n",
              "    </g>\n",
              "</svg>\n",
              "  </button>\n",
              "\n",
              "<style>\n",
              "  .colab-df-quickchart {\n",
              "      --bg-color: #E8F0FE;\n",
              "      --fill-color: #1967D2;\n",
              "      --hover-bg-color: #E2EBFA;\n",
              "      --hover-fill-color: #174EA6;\n",
              "      --disabled-fill-color: #AAA;\n",
              "      --disabled-bg-color: #DDD;\n",
              "  }\n",
              "\n",
              "  [theme=dark] .colab-df-quickchart {\n",
              "      --bg-color: #3B4455;\n",
              "      --fill-color: #D2E3FC;\n",
              "      --hover-bg-color: #434B5C;\n",
              "      --hover-fill-color: #FFFFFF;\n",
              "      --disabled-bg-color: #3B4455;\n",
              "      --disabled-fill-color: #666;\n",
              "  }\n",
              "\n",
              "  .colab-df-quickchart {\n",
              "    background-color: var(--bg-color);\n",
              "    border: none;\n",
              "    border-radius: 50%;\n",
              "    cursor: pointer;\n",
              "    display: none;\n",
              "    fill: var(--fill-color);\n",
              "    height: 32px;\n",
              "    padding: 0;\n",
              "    width: 32px;\n",
              "  }\n",
              "\n",
              "  .colab-df-quickchart:hover {\n",
              "    background-color: var(--hover-bg-color);\n",
              "    box-shadow: 0 1px 2px rgba(60, 64, 67, 0.3), 0 1px 3px 1px rgba(60, 64, 67, 0.15);\n",
              "    fill: var(--button-hover-fill-color);\n",
              "  }\n",
              "\n",
              "  .colab-df-quickchart-complete:disabled,\n",
              "  .colab-df-quickchart-complete:disabled:hover {\n",
              "    background-color: var(--disabled-bg-color);\n",
              "    fill: var(--disabled-fill-color);\n",
              "    box-shadow: none;\n",
              "  }\n",
              "\n",
              "  .colab-df-spinner {\n",
              "    border: 2px solid var(--fill-color);\n",
              "    border-color: transparent;\n",
              "    border-bottom-color: var(--fill-color);\n",
              "    animation:\n",
              "      spin 1s steps(1) infinite;\n",
              "  }\n",
              "\n",
              "  @keyframes spin {\n",
              "    0% {\n",
              "      border-color: transparent;\n",
              "      border-bottom-color: var(--fill-color);\n",
              "      border-left-color: var(--fill-color);\n",
              "    }\n",
              "    20% {\n",
              "      border-color: transparent;\n",
              "      border-left-color: var(--fill-color);\n",
              "      border-top-color: var(--fill-color);\n",
              "    }\n",
              "    30% {\n",
              "      border-color: transparent;\n",
              "      border-left-color: var(--fill-color);\n",
              "      border-top-color: var(--fill-color);\n",
              "      border-right-color: var(--fill-color);\n",
              "    }\n",
              "    40% {\n",
              "      border-color: transparent;\n",
              "      border-right-color: var(--fill-color);\n",
              "      border-top-color: var(--fill-color);\n",
              "    }\n",
              "    60% {\n",
              "      border-color: transparent;\n",
              "      border-right-color: var(--fill-color);\n",
              "    }\n",
              "    80% {\n",
              "      border-color: transparent;\n",
              "      border-right-color: var(--fill-color);\n",
              "      border-bottom-color: var(--fill-color);\n",
              "    }\n",
              "    90% {\n",
              "      border-color: transparent;\n",
              "      border-bottom-color: var(--fill-color);\n",
              "    }\n",
              "  }\n",
              "</style>\n",
              "\n",
              "  <script>\n",
              "    async function quickchart(key) {\n",
              "      const quickchartButtonEl =\n",
              "        document.querySelector('#' + key + ' button');\n",
              "      quickchartButtonEl.disabled = true;  // To prevent multiple clicks.\n",
              "      quickchartButtonEl.classList.add('colab-df-spinner');\n",
              "      try {\n",
              "        const charts = await google.colab.kernel.invokeFunction(\n",
              "            'suggestCharts', [key], {});\n",
              "      } catch (error) {\n",
              "        console.error('Error during call to suggestCharts:', error);\n",
              "      }\n",
              "      quickchartButtonEl.classList.remove('colab-df-spinner');\n",
              "      quickchartButtonEl.classList.add('colab-df-quickchart-complete');\n",
              "    }\n",
              "    (() => {\n",
              "      let quickchartButtonEl =\n",
              "        document.querySelector('#df-52a404a9-a423-4153-a18d-a24b9a92c282 button');\n",
              "      quickchartButtonEl.style.display =\n",
              "        google.colab.kernel.accessAllowed ? 'block' : 'none';\n",
              "    })();\n",
              "  </script>\n",
              "</div>\n",
              "\n",
              "    </div>\n",
              "  </div>\n"
            ],
            "application/vnd.google.colaboratory.intrinsic+json": {
              "type": "dataframe",
              "variable_name": "df",
              "summary": "{\n  \"name\": \"df\",\n  \"rows\": 4953,\n  \"fields\": [\n    {\n      \"column\": \"Title\",\n      \"properties\": {\n        \"dtype\": \"string\",\n        \"num_unique_values\": 4953,\n        \"samples\": [\n          \"The Tower\",\n          \"Daddy Day Care\",\n          \"Mary and the Witch's Flower\"\n        ],\n        \"semantic_type\": \"\",\n        \"description\": \"\"\n      }\n    },\n    {\n      \"column\": \"Worldwide Earnings\",\n      \"properties\": {\n        \"dtype\": \"number\",\n        \"std\": 198845884,\n        \"min\": 1708839,\n        \"max\": 2799439100,\n        \"num_unique_values\": 4952,\n        \"samples\": [\n          143049560,\n          22175908,\n          27699692\n        ],\n        \"semantic_type\": \"\",\n        \"description\": \"\"\n      }\n    },\n    {\n      \"column\": \"Domestic Earnings\",\n      \"properties\": {\n        \"dtype\": \"number\",\n        \"std\": 76528503,\n        \"min\": 0,\n        \"max\": 936662225,\n        \"num_unique_values\": 3760,\n        \"samples\": [\n          219614612,\n          44936545,\n          66845033\n        ],\n        \"semantic_type\": \"\",\n        \"description\": \"\"\n      }\n    },\n    {\n      \"column\": \"Domestic Percent Earnings\",\n      \"properties\": {\n        \"dtype\": \"number\",\n        \"std\": 30.758471628869202,\n        \"min\": 0.0,\n        \"max\": 100.0,\n        \"num_unique_values\": 936,\n        \"samples\": [\n          42.5,\n          69.0,\n          41.1\n        ],\n        \"semantic_type\": \"\",\n        \"description\": \"\"\n      }\n    },\n    {\n      \"column\": \"Foreign Earnings\",\n      \"properties\": {\n        \"dtype\": \"number\",\n        \"std\": 132071356,\n        \"min\": 0,\n        \"max\": 1993811448,\n        \"num_unique_values\": 4881,\n        \"samples\": [\n          44670277,\n          9630000,\n          500782\n        ],\n        \"semantic_type\": \"\",\n        \"description\": \"\"\n      }\n    },\n    {\n      \"column\": \"Foreign Percent Earnings\",\n      \"properties\": {\n        \"dtype\": \"number\",\n        \"std\": 30.755835474564414,\n        \"min\": 0.0,\n        \"max\": 100.0,\n        \"num_unique_values\": 933,\n        \"samples\": [\n          98.5,\n          31.0,\n          19.0\n        ],\n        \"semantic_type\": \"\",\n        \"description\": \"\"\n      }\n    },\n    {\n      \"column\": \"Year\",\n      \"properties\": {\n        \"dtype\": \"number\",\n        \"std\": 7,\n        \"min\": 2000,\n        \"max\": 2024,\n        \"num_unique_values\": 25,\n        \"samples\": [\n          2008,\n          2016,\n          2000\n        ],\n        \"semantic_type\": \"\",\n        \"description\": \"\"\n      }\n    }\n  ]\n}"
            }
          },
          "metadata": {},
          "execution_count": 7
        }
      ]
    }
  ]
}